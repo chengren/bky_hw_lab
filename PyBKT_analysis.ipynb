{
  "nbformat": 4,
  "nbformat_minor": 0,
  "metadata": {
    "colab": {
      "name": "PyBKT analysis.ipynb",
      "provenance": [],
      "collapsed_sections": [],
      "include_colab_link": true
    },
    "kernelspec": {
      "name": "python3",
      "display_name": "Python 3"
    }
  },
  "cells": [
    {
      "cell_type": "markdown",
      "metadata": {
        "id": "view-in-github",
        "colab_type": "text"
      },
      "source": [
        "<a href=\"https://colab.research.google.com/github/chengren/bky_hw_lab/blob/edu/PyBKT_analysis.ipynb\" target=\"_parent\"><img src=\"https://colab.research.google.com/assets/colab-badge.svg\" alt=\"Open In Colab\"/></a>"
      ]
    },
    {
      "cell_type": "code",
      "metadata": {
        "id": "te17tLc96yQA",
        "colab_type": "code",
        "outputId": "eaf4695e-c1d1-4491-fbd7-dfbb42c2e494",
        "colab": {
          "base_uri": "https://localhost:8080/",
          "height": 391
        }
      },
      "source": [
        "!apt-get install libboost1.62-dev libboost-mpi-python1.62-dev libboost1.62-tools-dev libboost1.62-all-dev libboost-mpi-python1.62.0"
      ],
      "execution_count": 311,
      "outputs": [
        {
          "output_type": "stream",
          "text": [
            "Reading package lists... Done\n",
            "Building dependency tree       \n",
            "Reading state information... Done\n",
            "libboost-mpi-python1.62-dev is already the newest version (1.62.0+dfsg-5).\n",
            "libboost-mpi-python1.62.0 is already the newest version (1.62.0+dfsg-5).\n",
            "libboost1.62-all-dev is already the newest version (1.62.0+dfsg-5).\n",
            "libboost1.62-dev is already the newest version (1.62.0+dfsg-5).\n",
            "libboost1.62-tools-dev is already the newest version (1.62.0+dfsg-5).\n",
            "The following packages were automatically installed and are no longer required:\n",
            "  libboost-atomic1.65.1 libboost-chrono1.65.1 libboost-container1.65.1\n",
            "  libboost-context1.65.1 libboost-coroutine1.65.1 libboost-date-time1.65.1\n",
            "  libboost-fiber1.65.1 libboost-filesystem1.65.1 libboost-graph-parallel1.65.1\n",
            "  libboost-graph1.65.1 libboost-iostreams1.65.1 libboost-locale1.65.1\n",
            "  libboost-log1.65.1 libboost-math1.65.1 libboost-mpi1.65.1 libboost-numpy-dev\n",
            "  libboost-numpy1.65-dev libboost-numpy1.65.1 libboost-program-options1.65.1\n",
            "  libboost-python1.65.1 libboost-random1.65.1 libboost-regex1.65.1\n",
            "  libboost-serialization1.65.1 libboost-signals1.65.1\n",
            "  libboost-stacktrace1.65.1 libboost-system1.65.1 libboost-test1.65.1\n",
            "  libboost-thread1.65.1 libboost-timer1.65.1 libboost-type-erasure1.65.1\n",
            "  libboost-wave1.65.1 libnvidia-common-430\n",
            "Use 'apt autoremove' to remove them.\n",
            "0 upgraded, 0 newly installed, 0 to remove and 25 not upgraded.\n"
          ],
          "name": "stdout"
        }
      ]
    },
    {
      "cell_type": "code",
      "metadata": {
        "id": "X3-SiZD061z0",
        "colab_type": "code",
        "outputId": "42791244-a987-4012-cdf2-8e3d5f8a274c",
        "colab": {
          "base_uri": "https://localhost:8080/",
          "height": 34
        }
      },
      "source": [
        "!git clone https://github.com/CAHLR/pyBKT.git"
      ],
      "execution_count": 312,
      "outputs": [
        {
          "output_type": "stream",
          "text": [
            "fatal: destination path 'pyBKT' already exists and is not an empty directory.\n"
          ],
          "name": "stdout"
        }
      ]
    },
    {
      "cell_type": "code",
      "metadata": {
        "id": "LF2NI-NR6518",
        "colab_type": "code",
        "outputId": "d46746c6-f773-41e9-e969-2198ea2c0e49",
        "colab": {
          "base_uri": "https://localhost:8080/",
          "height": 34
        }
      },
      "source": [
        "%cd /content/pyBKT"
      ],
      "execution_count": 313,
      "outputs": [
        {
          "output_type": "stream",
          "text": [
            "/content/pyBKT\n"
          ],
          "name": "stdout"
        }
      ]
    },
    {
      "cell_type": "code",
      "metadata": {
        "id": "XgK2ZtGB680r",
        "colab_type": "code",
        "outputId": "f3c7d226-d396-4798-e807-72931ffb344a",
        "colab": {
          "base_uri": "https://localhost:8080/",
          "height": 238
        }
      },
      "source": [
        "!wget --no-check-certificate http://bitbucket.org/eigen/eigen/get/3.1.3.tar.gz\n",
        "!tar -xzvf 3.1.3.tar.gz\n",
        "!mv eigen-eigen-2249f9c22fe8 ./Eigen\n",
        "!rm 3.1.3.tar.gz\n",
        "\n"
      ],
      "execution_count": 314,
      "outputs": [
        {
          "output_type": "stream",
          "text": [
            "URL transformed to HTTPS due to an HSTS policy\n",
            "--2020-02-15 09:14:35--  https://bitbucket.org/eigen/eigen/get/3.1.3.tar.gz\n",
            "Resolving bitbucket.org (bitbucket.org)... 18.205.93.1, 18.205.93.2, 18.205.93.0, ...\n",
            "Connecting to bitbucket.org (bitbucket.org)|18.205.93.1|:443... connected.\n",
            "HTTP request sent, awaiting response... 404 Not Found\n",
            "2020-02-15 09:14:36 ERROR 404: Not Found.\n",
            "\n",
            "tar (child): 3.1.3.tar.gz: Cannot open: No such file or directory\n",
            "tar (child): Error is not recoverable: exiting now\n",
            "tar: Child returned status 2\n",
            "tar: Error is not recoverable: exiting now\n",
            "mv: cannot move 'eigen-eigen-2249f9c22fe8' to './Eigen/eigen-eigen-2249f9c22fe8': Directory not empty\n",
            "rm: cannot remove '3.1.3.tar.gz': No such file or directory\n"
          ],
          "name": "stdout"
        }
      ]
    },
    {
      "cell_type": "code",
      "metadata": {
        "id": "CcvPnGNv7Fyc",
        "colab_type": "code",
        "outputId": "2f37b398-c24d-41ae-a1e1-de3ee1259301",
        "colab": {
          "base_uri": "https://localhost:8080/",
          "height": 170
        }
      },
      "source": [
        "!make"
      ],
      "execution_count": 315,
      "outputs": [
        {
          "output_type": "stream",
          "text": [
            "generating data...\n",
            "fitting! each dot is a new EM initialization\n",
            "\n",
            "\ttruth\tlearned\n",
            "prior\t0.1000\t0.1011\n",
            "learn1\t0.3000\t0.2818\n",
            "forget1\t0.0000\t0.0000\n",
            "guess1\t0.1000\t0.0995\n",
            "slip1\t0.0300\t0.0287\n"
          ],
          "name": "stdout"
        }
      ]
    },
    {
      "cell_type": "code",
      "metadata": {
        "id": "AEhX36Y67Irs",
        "colab_type": "code",
        "colab": {}
      },
      "source": [
        "#!python test/assistments_train.py #TODO: modify pre-procesd"
      ],
      "execution_count": 0,
      "outputs": []
    },
    {
      "cell_type": "code",
      "metadata": {
        "id": "ae9p8ne2damm",
        "colab_type": "code",
        "colab": {}
      },
      "source": [
        "#from google.colab import drive\n",
        "#drive.mount('/content/drive/')\n",
        "filepath='https://drive.google.com/uc?export=download&id=0B3f_gAH-MpBmUmNJQ3RycGpJM0k'"
      ],
      "execution_count": 0,
      "outputs": []
    },
    {
      "cell_type": "code",
      "metadata": {
        "id": "F75VEzQ7eLwJ",
        "colab_type": "code",
        "outputId": "9522f30b-1618-4a9f-8b44-bc4c1fc54426",
        "colab": {
          "base_uri": "https://localhost:8080/",
          "height": 34
        }
      },
      "source": [
        "#Import all the dependencies\n",
        "%cd /content\n",
        "import pandas as pd\n",
        "import numpy as np\n",
        "import plotly.express as px\n",
        "from statsmodels.formula.api import ols\n",
        "import scipy.stats as stats\n",
        "import statsmodels.api as sm\n",
        "import requests\n",
        "from pyBKT.util import data_helper\n",
        "#from pyBKT.generate import synthetic_data\n",
        "from pyBKT.generate import random_model_uni\n",
        "from pyBKT.fit import EM_fit\n",
        "from sklearn.model_selection import train_test_split\n",
        "from pyBKT.fit import predict_onestep\n",
        "from sklearn.metrics import accuracy_score"
      ],
      "execution_count": 318,
      "outputs": [
        {
          "output_type": "stream",
          "text": [
            "/content\n"
          ],
          "name": "stdout"
        }
      ]
    },
    {
      "cell_type": "code",
      "metadata": {
        "id": "KNBWdYc7eb7C",
        "colab_type": "code",
        "outputId": "19f0e45f-cf4f-45a9-e4f4-a276a83f4470",
        "colab": {
          "base_uri": "https://localhost:8080/",
          "height": 394
        }
      },
      "source": [
        "df = pd.read_csv(filepath,encoding='ISO-8859-1')\n",
        "print('load')\n",
        "df.head()"
      ],
      "execution_count": 319,
      "outputs": [
        {
          "output_type": "stream",
          "text": [
            "load\n"
          ],
          "name": "stdout"
        },
        {
          "output_type": "stream",
          "text": [
            "/usr/local/lib/python3.6/dist-packages/IPython/core/interactiveshell.py:2718: DtypeWarning:\n",
            "\n",
            "Columns (17) have mixed types. Specify dtype option on import or set low_memory=False.\n",
            "\n"
          ],
          "name": "stderr"
        },
        {
          "output_type": "execute_result",
          "data": {
            "text/html": [
              "<div>\n",
              "<style scoped>\n",
              "    .dataframe tbody tr th:only-of-type {\n",
              "        vertical-align: middle;\n",
              "    }\n",
              "\n",
              "    .dataframe tbody tr th {\n",
              "        vertical-align: top;\n",
              "    }\n",
              "\n",
              "    .dataframe thead th {\n",
              "        text-align: right;\n",
              "    }\n",
              "</style>\n",
              "<table border=\"1\" class=\"dataframe\">\n",
              "  <thead>\n",
              "    <tr style=\"text-align: right;\">\n",
              "      <th></th>\n",
              "      <th>order_id</th>\n",
              "      <th>assignment_id</th>\n",
              "      <th>user_id</th>\n",
              "      <th>assistment_id</th>\n",
              "      <th>problem_id</th>\n",
              "      <th>original</th>\n",
              "      <th>correct</th>\n",
              "      <th>attempt_count</th>\n",
              "      <th>ms_first_response</th>\n",
              "      <th>tutor_mode</th>\n",
              "      <th>answer_type</th>\n",
              "      <th>sequence_id</th>\n",
              "      <th>student_class_id</th>\n",
              "      <th>position</th>\n",
              "      <th>type</th>\n",
              "      <th>base_sequence_id</th>\n",
              "      <th>skill_id</th>\n",
              "      <th>skill_name</th>\n",
              "      <th>teacher_id</th>\n",
              "      <th>school_id</th>\n",
              "      <th>hint_count</th>\n",
              "      <th>hint_total</th>\n",
              "      <th>overlap_time</th>\n",
              "      <th>template_id</th>\n",
              "      <th>answer_id</th>\n",
              "      <th>answer_text</th>\n",
              "      <th>first_action</th>\n",
              "      <th>bottom_hint</th>\n",
              "      <th>opportunity</th>\n",
              "      <th>opportunity_original</th>\n",
              "    </tr>\n",
              "  </thead>\n",
              "  <tbody>\n",
              "    <tr>\n",
              "      <th>0</th>\n",
              "      <td>33022537</td>\n",
              "      <td>277618</td>\n",
              "      <td>64525</td>\n",
              "      <td>33139</td>\n",
              "      <td>51424</td>\n",
              "      <td>1</td>\n",
              "      <td>1</td>\n",
              "      <td>1</td>\n",
              "      <td>32454</td>\n",
              "      <td>tutor</td>\n",
              "      <td>algebra</td>\n",
              "      <td>5948</td>\n",
              "      <td>13241</td>\n",
              "      <td>126</td>\n",
              "      <td>MasterySection</td>\n",
              "      <td>5948</td>\n",
              "      <td>1.0</td>\n",
              "      <td>Box and Whisker</td>\n",
              "      <td>22763</td>\n",
              "      <td>73</td>\n",
              "      <td>0</td>\n",
              "      <td>3</td>\n",
              "      <td>32454</td>\n",
              "      <td>30799</td>\n",
              "      <td>NaN</td>\n",
              "      <td>26</td>\n",
              "      <td>0</td>\n",
              "      <td>NaN</td>\n",
              "      <td>1</td>\n",
              "      <td>1.0</td>\n",
              "    </tr>\n",
              "    <tr>\n",
              "      <th>1</th>\n",
              "      <td>33022709</td>\n",
              "      <td>277618</td>\n",
              "      <td>64525</td>\n",
              "      <td>33150</td>\n",
              "      <td>51435</td>\n",
              "      <td>1</td>\n",
              "      <td>1</td>\n",
              "      <td>1</td>\n",
              "      <td>4922</td>\n",
              "      <td>tutor</td>\n",
              "      <td>algebra</td>\n",
              "      <td>5948</td>\n",
              "      <td>13241</td>\n",
              "      <td>126</td>\n",
              "      <td>MasterySection</td>\n",
              "      <td>5948</td>\n",
              "      <td>1.0</td>\n",
              "      <td>Box and Whisker</td>\n",
              "      <td>22763</td>\n",
              "      <td>73</td>\n",
              "      <td>0</td>\n",
              "      <td>3</td>\n",
              "      <td>4922</td>\n",
              "      <td>30799</td>\n",
              "      <td>NaN</td>\n",
              "      <td>55</td>\n",
              "      <td>0</td>\n",
              "      <td>NaN</td>\n",
              "      <td>2</td>\n",
              "      <td>2.0</td>\n",
              "    </tr>\n",
              "    <tr>\n",
              "      <th>2</th>\n",
              "      <td>35450204</td>\n",
              "      <td>220674</td>\n",
              "      <td>70363</td>\n",
              "      <td>33159</td>\n",
              "      <td>51444</td>\n",
              "      <td>1</td>\n",
              "      <td>0</td>\n",
              "      <td>2</td>\n",
              "      <td>25390</td>\n",
              "      <td>tutor</td>\n",
              "      <td>algebra</td>\n",
              "      <td>5948</td>\n",
              "      <td>11816</td>\n",
              "      <td>22</td>\n",
              "      <td>MasterySection</td>\n",
              "      <td>5948</td>\n",
              "      <td>1.0</td>\n",
              "      <td>Box and Whisker</td>\n",
              "      <td>22763</td>\n",
              "      <td>73</td>\n",
              "      <td>0</td>\n",
              "      <td>3</td>\n",
              "      <td>42000</td>\n",
              "      <td>30799</td>\n",
              "      <td>NaN</td>\n",
              "      <td>88</td>\n",
              "      <td>0</td>\n",
              "      <td>NaN</td>\n",
              "      <td>1</td>\n",
              "      <td>1.0</td>\n",
              "    </tr>\n",
              "    <tr>\n",
              "      <th>3</th>\n",
              "      <td>35450295</td>\n",
              "      <td>220674</td>\n",
              "      <td>70363</td>\n",
              "      <td>33110</td>\n",
              "      <td>51395</td>\n",
              "      <td>1</td>\n",
              "      <td>1</td>\n",
              "      <td>1</td>\n",
              "      <td>4859</td>\n",
              "      <td>tutor</td>\n",
              "      <td>algebra</td>\n",
              "      <td>5948</td>\n",
              "      <td>11816</td>\n",
              "      <td>22</td>\n",
              "      <td>MasterySection</td>\n",
              "      <td>5948</td>\n",
              "      <td>1.0</td>\n",
              "      <td>Box and Whisker</td>\n",
              "      <td>22763</td>\n",
              "      <td>73</td>\n",
              "      <td>0</td>\n",
              "      <td>3</td>\n",
              "      <td>4859</td>\n",
              "      <td>30059</td>\n",
              "      <td>NaN</td>\n",
              "      <td>41</td>\n",
              "      <td>0</td>\n",
              "      <td>NaN</td>\n",
              "      <td>2</td>\n",
              "      <td>2.0</td>\n",
              "    </tr>\n",
              "    <tr>\n",
              "      <th>4</th>\n",
              "      <td>35450311</td>\n",
              "      <td>220674</td>\n",
              "      <td>70363</td>\n",
              "      <td>33196</td>\n",
              "      <td>51481</td>\n",
              "      <td>1</td>\n",
              "      <td>0</td>\n",
              "      <td>14</td>\n",
              "      <td>19813</td>\n",
              "      <td>tutor</td>\n",
              "      <td>algebra</td>\n",
              "      <td>5948</td>\n",
              "      <td>11816</td>\n",
              "      <td>22</td>\n",
              "      <td>MasterySection</td>\n",
              "      <td>5948</td>\n",
              "      <td>1.0</td>\n",
              "      <td>Box and Whisker</td>\n",
              "      <td>22763</td>\n",
              "      <td>73</td>\n",
              "      <td>3</td>\n",
              "      <td>4</td>\n",
              "      <td>124564</td>\n",
              "      <td>30060</td>\n",
              "      <td>NaN</td>\n",
              "      <td>65</td>\n",
              "      <td>0</td>\n",
              "      <td>0.0</td>\n",
              "      <td>3</td>\n",
              "      <td>3.0</td>\n",
              "    </tr>\n",
              "  </tbody>\n",
              "</table>\n",
              "</div>"
            ],
            "text/plain": [
              "   order_id  assignment_id  ...  opportunity  opportunity_original\n",
              "0  33022537         277618  ...            1                   1.0\n",
              "1  33022709         277618  ...            2                   2.0\n",
              "2  35450204         220674  ...            1                   1.0\n",
              "3  35450295         220674  ...            2                   2.0\n",
              "4  35450311         220674  ...            3                   3.0\n",
              "\n",
              "[5 rows x 30 columns]"
            ]
          },
          "metadata": {
            "tags": []
          },
          "execution_count": 319
        }
      ]
    },
    {
      "cell_type": "code",
      "metadata": {
        "id": "WTiGicuoefiG",
        "colab_type": "code",
        "outputId": "19812589-8b22-4080-d3c5-fc1aecb0dc41",
        "colab": {
          "base_uri": "https://localhost:8080/",
          "height": 561
        }
      },
      "source": [
        "print(df.dtypes)\n",
        "print(df.shape)"
      ],
      "execution_count": 320,
      "outputs": [
        {
          "output_type": "stream",
          "text": [
            "order_id                  int64\n",
            "assignment_id             int64\n",
            "user_id                   int64\n",
            "assistment_id             int64\n",
            "problem_id                int64\n",
            "original                  int64\n",
            "correct                   int64\n",
            "attempt_count             int64\n",
            "ms_first_response         int64\n",
            "tutor_mode               object\n",
            "answer_type              object\n",
            "sequence_id               int64\n",
            "student_class_id          int64\n",
            "position                  int64\n",
            "type                     object\n",
            "base_sequence_id          int64\n",
            "skill_id                float64\n",
            "skill_name               object\n",
            "teacher_id                int64\n",
            "school_id                 int64\n",
            "hint_count                int64\n",
            "hint_total                int64\n",
            "overlap_time              int64\n",
            "template_id               int64\n",
            "answer_id               float64\n",
            "answer_text              object\n",
            "first_action              int64\n",
            "bottom_hint             float64\n",
            "opportunity               int64\n",
            "opportunity_original    float64\n",
            "dtype: object\n",
            "(401756, 30)\n"
          ],
          "name": "stdout"
        }
      ]
    },
    {
      "cell_type": "code",
      "metadata": {
        "id": "-emjouWjjdjE",
        "colab_type": "code",
        "outputId": "ecdcfe8b-d185-493e-8d7b-eaa6b0af912f",
        "colab": {
          "base_uri": "https://localhost:8080/",
          "height": 221
        }
      },
      "source": [
        "df['skill_name'].value_counts()"
      ],
      "execution_count": 321,
      "outputs": [
        {
          "output_type": "execute_result",
          "data": {
            "text/plain": [
              "Equation Solving Two or Fewer Steps         24253\n",
              "Conversion of Fraction Decimals Percents    18742\n",
              "Addition and Subtraction Integers           12741\n",
              "Addition and Subtraction Fractions          11334\n",
              "Percent Of                                   9497\n",
              "                                            ...  \n",
              "Distributive Property                          18\n",
              "Finding Slope From Situation                    9\n",
              "Recognize Quadratic Pattern                     8\n",
              "Reading a Ruler or Scale                        5\n",
              "Finding Slope from Ordered Pairs                5\n",
              "Name: skill_name, Length: 110, dtype: int64"
            ]
          },
          "metadata": {
            "tags": []
          },
          "execution_count": 321
        }
      ]
    },
    {
      "cell_type": "code",
      "metadata": {
        "id": "iL3HUv9dsvO7",
        "colab_type": "code",
        "outputId": "e3508f06-4370-4e00-a08e-effc2f448225",
        "colab": {
          "base_uri": "https://localhost:8080/",
          "height": 306
        }
      },
      "source": [
        "equ_sol = data_helper.assistments_data(\"Equation Solving Two or Fewer Steps\")\n",
        "perc_of = data_helper.assistments_data(\"Percent Of\")\n",
        "subtr = data_helper.assistments_data(\"Addition and Subtraction Integers\")\n",
        "fract = data_helper.assistments_data(\"Conversion of Fraction Decimals Percents\")\n",
        "prism = data_helper.assistments_data(\"Volume Rectangular Prism\")"
      ],
      "execution_count": 338,
      "outputs": [
        {
          "output_type": "stream",
          "text": [
            "Equation Solving Two or Fewer Steps\n"
          ],
          "name": "stdout"
        },
        {
          "output_type": "stream",
          "text": [
            "/usr/local/lib/python3.6/dist-packages/IPython/core/interactiveshell.py:2822: DtypeWarning:\n",
            "\n",
            "Columns (17) have mixed types. Specify dtype option on import or set low_memory=False.\n",
            "\n",
            "/usr/local/lib/python3.6/dist-packages/pandas/core/indexing.py:494: SettingWithCopyWarning:\n",
            "\n",
            "\n",
            "A value is trying to be set on a copy of a slice from a DataFrame.\n",
            "Try using .loc[row_indexer,col_indexer] = value instead\n",
            "\n",
            "See the caveats in the documentation: http://pandas.pydata.org/pandas-docs/stable/user_guide/indexing.html#returning-a-view-versus-a-copy\n",
            "\n"
          ],
          "name": "stderr"
        },
        {
          "output_type": "stream",
          "text": [
            "Percent Of\n",
            "Addition and Subtraction Integers\n",
            "Conversion of Fraction Decimals Percents\n",
            "Volume Rectangular Prism\n"
          ],
          "name": "stdout"
        }
      ]
    },
    {
      "cell_type": "code",
      "metadata": {
        "id": "OPurFWJuAks6",
        "colab_type": "code",
        "outputId": "34fbb872-7391-463f-ca1b-d87d132cc687",
        "colab": {
          "base_uri": "https://localhost:8080/",
          "height": 34
        }
      },
      "source": [
        "np.unique(equ_sol['resources'])"
      ],
      "execution_count": 323,
      "outputs": [
        {
          "output_type": "execute_result",
          "data": {
            "text/plain": [
              "array([1])"
            ]
          },
          "metadata": {
            "tags": []
          },
          "execution_count": 323
        }
      ]
    },
    {
      "cell_type": "code",
      "metadata": {
        "id": "VgwwuD6KAY-2",
        "colab_type": "code",
        "outputId": "fcedcba1-5767-4e07-a815-4373a356ec1b",
        "colab": {
          "base_uri": "https://localhost:8080/",
          "height": 204
        }
      },
      "source": [
        "fitmodel = random_model_uni.random_model_uni(1,1)\n",
        "fitmodel "
      ],
      "execution_count": 357,
      "outputs": [
        {
          "output_type": "execute_result",
          "data": {
            "text/plain": [
              "{'As': array([[[1.        , 0.        ],\n",
              "         [0.16540696, 0.83459304]]]),\n",
              " 'emissions': array([[[0.9975981 , 0.0024019 ],\n",
              "         [0.02603143, 0.97396857]]]),\n",
              " 'forgets': array([0.]),\n",
              " 'guesses': array([0.05701317]),\n",
              " 'learns': array([0.16540696]),\n",
              " 'pi_0': array([[0.99891585],\n",
              "        [0.00108415]]),\n",
              " 'prior': 0.5566286234799914,\n",
              " 'slips': array([0.04479041])}"
            ]
          },
          "metadata": {
            "tags": []
          },
          "execution_count": 357
        }
      ]
    },
    {
      "cell_type": "code",
      "metadata": {
        "id": "x7HzmrIxFO83",
        "colab_type": "code",
        "colab": {
          "base_uri": "https://localhost:8080/",
          "height": 204
        },
        "outputId": "9e174670-fd22-446b-e1a1-ed2a8e7a523c"
      },
      "source": [
        " (fitmodel_equ, log_likelihoods_equ) = EM_fit.EM_fit(fitmodel, equ_sol)\n",
        " fitmodel_equ"
      ],
      "execution_count": 363,
      "outputs": [
        {
          "output_type": "execute_result",
          "data": {
            "text/plain": [
              "{'As': array([[[0.96194317, 0.        ],\n",
              "         [0.03805683, 1.        ]]]),\n",
              " 'emissions': array([[[0.71383525, 0.28616475],\n",
              "         [0.25115792, 0.74884208]]]),\n",
              " 'forgets': array([0.]),\n",
              " 'guesses': array([0.28616475]),\n",
              " 'learns': array([0.03805683]),\n",
              " 'pi_0': array([[0.36386579],\n",
              "        [0.63613421]]),\n",
              " 'prior': 0.6361342056575534,\n",
              " 'slips': array([0.25115792])}"
            ]
          },
          "metadata": {
            "tags": []
          },
          "execution_count": 363
        }
      ]
    },
    {
      "cell_type": "code",
      "metadata": {
        "id": "KWyFgBkhOat9",
        "colab_type": "code",
        "colab": {
          "base_uri": "https://localhost:8080/",
          "height": 204
        },
        "outputId": "464e2a36-5acb-45d9-aa52-1cd7066e9bcb"
      },
      "source": [
        "(fitmodel_p, log_likelihoods_p) = EM_fit.EM_fit(fitmodel,perc_of)\n",
        "fitmodel_p"
      ],
      "execution_count": 364,
      "outputs": [
        {
          "output_type": "execute_result",
          "data": {
            "text/plain": [
              "{'As': array([[[0.88263036, 0.        ],\n",
              "         [0.11736964, 1.        ]]]),\n",
              " 'emissions': array([[[0.92835778, 0.07164222],\n",
              "         [0.28604927, 0.71395073]]]),\n",
              " 'forgets': array([0.]),\n",
              " 'guesses': array([0.07164222]),\n",
              " 'learns': array([0.11736964]),\n",
              " 'pi_0': array([[0.32826301],\n",
              "        [0.67173699]]),\n",
              " 'prior': 0.6717369914455578,\n",
              " 'slips': array([0.28604927])}"
            ]
          },
          "metadata": {
            "tags": []
          },
          "execution_count": 364
        }
      ]
    },
    {
      "cell_type": "code",
      "metadata": {
        "id": "nCnOHbY-Og2c",
        "colab_type": "code",
        "colab": {
          "base_uri": "https://localhost:8080/",
          "height": 204
        },
        "outputId": "08fe0fe1-0b84-49ef-dd3e-56d3152a420e"
      },
      "source": [
        "(fitmodel_s, log_likelihoods_s) = EM_fit.EM_fit(fitmodel,subtr)\n",
        "fitmodel_s"
      ],
      "execution_count": 365,
      "outputs": [
        {
          "output_type": "execute_result",
          "data": {
            "text/plain": [
              "{'As': array([[[0.9908163, 0.       ],\n",
              "         [0.0091837, 1.       ]]]),\n",
              " 'emissions': array([[[0.63277772, 0.36722228],\n",
              "         [0.19914567, 0.80085433]]]),\n",
              " 'forgets': array([0.]),\n",
              " 'guesses': array([0.36722228]),\n",
              " 'learns': array([0.0091837]),\n",
              " 'pi_0': array([[0.29528213],\n",
              "        [0.70471787]]),\n",
              " 'prior': 0.7047178665230069,\n",
              " 'slips': array([0.19914567])}"
            ]
          },
          "metadata": {
            "tags": []
          },
          "execution_count": 365
        }
      ]
    },
    {
      "cell_type": "code",
      "metadata": {
        "id": "P7SA0a4DOoWo",
        "colab_type": "code",
        "colab": {
          "base_uri": "https://localhost:8080/",
          "height": 204
        },
        "outputId": "36a1a7e6-a99d-4516-99be-f5610fe66002"
      },
      "source": [
        " (fitmodel_f, log_likelihoods_f) = EM_fit.EM_fit(fitmodel,fract)\n",
        " fitmodel_f"
      ],
      "execution_count": 366,
      "outputs": [
        {
          "output_type": "execute_result",
          "data": {
            "text/plain": [
              "{'As': array([[[0.98512679, 0.        ],\n",
              "         [0.01487321, 1.        ]]]),\n",
              " 'emissions': array([[[0.57634037, 0.42365963],\n",
              "         [0.20192983, 0.79807017]]]),\n",
              " 'forgets': array([0.]),\n",
              " 'guesses': array([0.42365963]),\n",
              " 'learns': array([0.01487321]),\n",
              " 'pi_0': array([[0.39120669],\n",
              "        [0.60879331]]),\n",
              " 'prior': 0.6087933133028355,\n",
              " 'slips': array([0.20192983])}"
            ]
          },
          "metadata": {
            "tags": []
          },
          "execution_count": 366
        }
      ]
    },
    {
      "cell_type": "code",
      "metadata": {
        "id": "lay1U_I7OtCj",
        "colab_type": "code",
        "colab": {
          "base_uri": "https://localhost:8080/",
          "height": 204
        },
        "outputId": "458fbde2-441d-498b-93a3-8c5356868080"
      },
      "source": [
        " (fitmodel_p, log_likelihoods_p) = EM_fit.EM_fit(fitmodel,prism)\n",
        " fitmodel_p"
      ],
      "execution_count": 367,
      "outputs": [
        {
          "output_type": "execute_result",
          "data": {
            "text/plain": [
              "{'As': array([[[9.99998710e-01, 0.00000000e+00],\n",
              "         [1.28970667e-06, 1.00000000e+00]]]),\n",
              " 'emissions': array([[[0.6916403 , 0.3083597 ],\n",
              "         [0.11840342, 0.88159658]]]),\n",
              " 'forgets': array([0.]),\n",
              " 'guesses': array([0.3083597]),\n",
              " 'learns': array([1.28970667e-06]),\n",
              " 'pi_0': array([[0.03666741],\n",
              "        [0.96333259]]),\n",
              " 'prior': 0.9633325916770059,\n",
              " 'slips': array([0.11840342])}"
            ]
          },
          "metadata": {
            "tags": []
          },
          "execution_count": 367
        }
      ]
    },
    {
      "cell_type": "code",
      "metadata": {
        "id": "Pn8Kg-QFGEAx",
        "colab_type": "code",
        "colab": {}
      },
      "source": [
        ""
      ],
      "execution_count": 0,
      "outputs": []
    },
    {
      "cell_type": "code",
      "metadata": {
        "id": "BT6vD-UXvv99",
        "colab_type": "code",
        "colab": {}
      },
      "source": [
        "df_2=df[df[\"original\"] == 1]"
      ],
      "execution_count": 0,
      "outputs": []
    },
    {
      "cell_type": "code",
      "metadata": {
        "id": "pxWpgjgOwEc9",
        "colab_type": "code",
        "outputId": "4329210c-7b29-44ff-f702-c319a3498a1d",
        "colab": {
          "base_uri": "https://localhost:8080/",
          "height": 34
        }
      },
      "source": [
        "train,test= train_test_split(df_2, test_size=0.5, random_state=42)\n",
        "print(len(test), len(test))"
      ],
      "execution_count": 328,
      "outputs": [
        {
          "output_type": "stream",
          "text": [
            "164146 164146\n"
          ],
          "name": "stdout"
        }
      ]
    },
    {
      "cell_type": "code",
      "metadata": {
        "id": "X74cyn7VrApn",
        "colab_type": "code",
        "colab": {}
      },
      "source": [
        "def assistments_data_v2(dataset, skill_name):\n",
        "  \n",
        "  import pandas as pd\n",
        "  import numpy as np\n",
        "  import io\n",
        "  import requests\n",
        "  \n",
        "  print(skill_name)\n",
        "  #url = \"https://drive.google.com/uc?export=download&id=0B3f_gAH-MpBmUmNJQ3RycGpJM0k\"\n",
        "  #s = requests.get(url).content\n",
        "  # df = pd.read_csv(io.BytesIO(s))\n",
        "  #df = pd.read_csv(io.StringIO(s.decode('latin')))\n",
        "  # df = pd.read_csv(io.StringIO(s.decode('latin')), names = ['order_id', 'assignment_id', 'user_id', 'assistment_id', 'problem_id', 'original', 'correct', 'attempt_count', 'ms_first_response', 'tutor_mode', 'answer_type', 'sequence_id', 'student_class_id', 'position', 'type', 'base_sequence_id', 'skill_id', 'skill_name', 'teacher_id', 'school_id', 'hint_count', 'hint_total', 'overlap_time', 'template_id', 'answer_id', 'answer_text', 'first_action', 'bottom_hint', 'opportunity', 'opportunity_original'])\n",
        "  # filter by the skill you want, make sure the question is an 'original'\n",
        "  # skills = df[\"skill_name\"]\n",
        "  # for skill_name in skills:\n",
        "  skill = dataset[(dataset[\"skill_name\"]==skill_name)]\n",
        "  # sort by the order in which the problems were answered\n",
        "  dataset[\"order_id\"] = [int(i) for i in dataset[\"order_id\"]]\n",
        "  dataset.sort_values(\"order_id\", inplace=True)\n",
        "  \n",
        "  # example of how to get the unique users\n",
        "  # uilist=skill['user_id'].unique()\n",
        "\n",
        "  # convert from 0=incorrect,1=correct to 1=incorrect,2=correct\n",
        "  skill.loc[:,\"correct\"]+=1\n",
        "  \n",
        "  # filter out garbage\n",
        "  df3=skill[skill[\"correct\"]!=3]\n",
        "  data=df3[\"correct\"].values\n",
        "  \n",
        "  # find out how many problems per user, form the start/length arrays\n",
        "  steps=df3.groupby(\"user_id\")[\"problem_id\"].count().values\n",
        "  lengths=np.copy(steps)\n",
        "  # print(\"steps\", steps)\n",
        "  steps[0]=0\n",
        "  steps[1]=1\n",
        "  for i in range(2,steps.size):\n",
        "    steps[i]=steps[i-1]+lengths[i-2]\n",
        "  \n",
        "  starts=np.delete(steps,0)\n",
        "\n",
        "  resources=[1]*data.size\n",
        "  resource=np.asarray(resources)\n",
        "  \n",
        "  stateseqs=np.copy(resource)\n",
        "  lengths=np.resize(lengths,lengths.size-1)\n",
        "  Data={}\n",
        "  Data[\"stateseqs\"]=np.asarray([stateseqs],dtype='int32')\n",
        "  Data[\"data\"]=np.asarray([data],dtype='int32')\n",
        "  Data[\"starts\"]=np.asarray(starts)\n",
        "  Data[\"lengths\"]=np.asarray(lengths)\n",
        "  Data[\"resources\"]=resource\n",
        "  \n",
        "  return (Data)"
      ],
      "execution_count": 0,
      "outputs": []
    },
    {
      "cell_type": "code",
      "metadata": {
        "id": "e17IxasWqejD",
        "colab_type": "code",
        "outputId": "65e5702e-4aa9-427f-c3b7-069126d72931",
        "colab": {
          "base_uri": "https://localhost:8080/",
          "height": 476
        }
      },
      "source": [
        "equ_train = assistments_data_v2(train,'Equation Solving Two or Fewer Steps')\n",
        "equ_test = assistments_data_v2(test,'Equation Solving Two or Fewer Steps')\n",
        "print(len(equ_train['data'][0]),\"\\n\",len(equ_train['data'][0]))"
      ],
      "execution_count": 330,
      "outputs": [
        {
          "output_type": "stream",
          "text": [
            "Equation Solving Two or Fewer Steps\n",
            "Equation Solving Two or Fewer Steps\n"
          ],
          "name": "stdout"
        },
        {
          "output_type": "stream",
          "text": [
            "/usr/local/lib/python3.6/dist-packages/ipykernel_launcher.py:19: SettingWithCopyWarning:\n",
            "\n",
            "\n",
            "A value is trying to be set on a copy of a slice from a DataFrame.\n",
            "Try using .loc[row_indexer,col_indexer] = value instead\n",
            "\n",
            "See the caveats in the documentation: http://pandas.pydata.org/pandas-docs/stable/user_guide/indexing.html#returning-a-view-versus-a-copy\n",
            "\n",
            "/usr/local/lib/python3.6/dist-packages/ipykernel_launcher.py:20: SettingWithCopyWarning:\n",
            "\n",
            "\n",
            "A value is trying to be set on a copy of a slice from a DataFrame\n",
            "\n",
            "See the caveats in the documentation: http://pandas.pydata.org/pandas-docs/stable/user_guide/indexing.html#returning-a-view-versus-a-copy\n",
            "\n",
            "/usr/local/lib/python3.6/dist-packages/pandas/core/indexing.py:494: SettingWithCopyWarning:\n",
            "\n",
            "\n",
            "A value is trying to be set on a copy of a slice from a DataFrame.\n",
            "Try using .loc[row_indexer,col_indexer] = value instead\n",
            "\n",
            "See the caveats in the documentation: http://pandas.pydata.org/pandas-docs/stable/user_guide/indexing.html#returning-a-view-versus-a-copy\n",
            "\n"
          ],
          "name": "stderr"
        },
        {
          "output_type": "stream",
          "text": [
            "8760 \n",
            " 8760\n"
          ],
          "name": "stdout"
        }
      ]
    },
    {
      "cell_type": "code",
      "metadata": {
        "id": "UcDjVyElnd-a",
        "colab_type": "code",
        "outputId": "df2062f4-97c7-44cc-ea41-cbd6fb664e3b",
        "colab": {
          "base_uri": "https://localhost:8080/",
          "height": 969
        }
      },
      "source": [
        "(fitmodel_train, log_likelihoods_train) = EM_fit.EM_fit(fitmodel, equ_train)\n",
        "print(fitmodel_train,log_likelihoods_train)"
      ],
      "execution_count": 331,
      "outputs": [
        {
          "output_type": "stream",
          "text": [
            "{'prior': 0.8635897209553083, 'learns': array([1.57312859e-05]), 'forgets': array([0.]), 'guesses': array([0.62570236]), 'slips': array([0.351489]), 'As': array([[[9.99984269e-01, 0.00000000e+00],\n",
            "        [1.57312859e-05, 1.00000000e+00]]]), 'emissions': array([[[0.37429764, 0.62570236],\n",
            "        [0.351489  , 0.648511  ]]]), 'pi_0': array([[0.13641028],\n",
            "       [0.86358972]])} [[-6912.10627212]\n",
            " [-5697.84388314]\n",
            " [-5684.75041603]\n",
            " [-5682.01414155]\n",
            " [-5680.91270357]\n",
            " [-5680.3663513 ]\n",
            " [-5680.05618041]\n",
            " [-5679.86271543]\n",
            " [-5679.73342243]\n",
            " [-5679.64234808]\n",
            " [-5679.57548745]\n",
            " [-5679.52474196]\n",
            " [-5679.48516057]\n",
            " [-5679.45357497]\n",
            " [-5679.42787875]\n",
            " [-5679.40662542]\n",
            " [-5679.38879369]\n",
            " [-5679.3736449 ]\n",
            " [-5679.36063338]\n",
            " [-5679.34934851]\n",
            " [-5679.33947611]\n",
            " [-5679.33077221]\n",
            " [-5679.32304483]\n",
            " [-5679.31614105]\n",
            " [-5679.30993776]\n",
            " [-5679.30433482]\n",
            " [-5679.29925006]\n",
            " [-5679.29461545]\n",
            " [-5679.29037425]\n",
            " [-5679.2864788 ]\n",
            " [-5679.28288879]\n",
            " [-5679.27956991]\n",
            " [-5679.27649281]\n",
            " [-5679.27363222]\n",
            " [-5679.27096628]\n",
            " [-5679.26847601]\n",
            " [-5679.26614483]\n",
            " [-5679.26395821]\n",
            " [-5679.26190336]\n",
            " [-5679.25996898]\n",
            " [-5679.25814505]\n",
            " [-5679.25642266]\n",
            " [-5679.25479387]\n",
            " [-5679.25325154]\n",
            " [-5679.25178928]\n",
            " [-5679.25040134]\n",
            " [-5679.24908251]\n",
            " [-5679.24782809]\n",
            " [-5679.24663381]\n",
            " [-5679.24549579]\n",
            " [-5679.24441047]\n",
            " [-5679.24337463]\n",
            " [-5679.24238529]]\n"
          ],
          "name": "stdout"
        }
      ]
    },
    {
      "cell_type": "code",
      "metadata": {
        "id": "5YmjMmBvzbOB",
        "colab_type": "code",
        "outputId": "691a2170-0d9a-420e-8ba7-b3b3c24a5bb7",
        "colab": {
          "base_uri": "https://localhost:8080/",
          "height": 119
        }
      },
      "source": [
        "pred = predict_onestep.run(fitmodel_train,equ_test)\n",
        "pred"
      ],
      "execution_count": 332,
      "outputs": [
        {
          "output_type": "execute_result",
          "data": {
            "text/plain": [
              "(array([0.64673408, 0.63232984, 0.64662323, ..., 0.07959498, 0.54610737,\n",
              "        0.08406475]),\n",
              " array([[1.36410279e-001, 8.63589721e-001, 1.43985322e-001, ...,\n",
              "         1.27209018e-001, 8.72790982e-001, 1.34352619e-001],\n",
              "        [8.65647381e-001, 1.41832169e-001, 8.58167831e-001, ...,\n",
              "         6.95253303e-310, 6.91590974e-310, 5.09257572e-317]]))"
            ]
          },
          "metadata": {
            "tags": []
          },
          "execution_count": 332
        }
      ]
    },
    {
      "cell_type": "code",
      "metadata": {
        "id": "bF71tAzs5a73",
        "colab_type": "code",
        "colab": {
          "base_uri": "https://localhost:8080/",
          "height": 221
        },
        "outputId": "c6f695c8-2fd2-4229-a2e0-4af456d4d2e1"
      },
      "source": [
        "pred_1 = pd.core.series.Series(pred[0]).apply(lambda x : 1 if ( x >= 0.5) else 0)+1\n",
        "pred_1"
      ],
      "execution_count": 333,
      "outputs": [
        {
          "output_type": "execute_result",
          "data": {
            "text/plain": [
              "0       2\n",
              "1       2\n",
              "2       2\n",
              "3       2\n",
              "4       2\n",
              "       ..\n",
              "8546    1\n",
              "8547    2\n",
              "8548    1\n",
              "8549    2\n",
              "8550    1\n",
              "Length: 8551, dtype: int64"
            ]
          },
          "metadata": {
            "tags": []
          },
          "execution_count": 333
        }
      ]
    },
    {
      "cell_type": "code",
      "metadata": {
        "id": "JJs3kIKt_ao4",
        "colab_type": "code",
        "colab": {
          "base_uri": "https://localhost:8080/",
          "height": 34
        },
        "outputId": "bf2eced2-4e4d-4749-b5e5-73aa33dfd862"
      },
      "source": [
        "accuracy_score(pred_1,equ_test['data'][0])"
      ],
      "execution_count": 334,
      "outputs": [
        {
          "output_type": "execute_result",
          "data": {
            "text/plain": [
              "0.6457724242778622"
            ]
          },
          "metadata": {
            "tags": []
          },
          "execution_count": 334
        }
      ]
    }
  ]
}