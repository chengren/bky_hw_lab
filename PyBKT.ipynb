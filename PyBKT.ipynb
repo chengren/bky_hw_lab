{
  "nbformat": 4,
  "nbformat_minor": 0,
  "metadata": {
    "colab": {
      "name": "PyBKT.ipynb",
      "provenance": [],
      "collapsed_sections": [],
      "include_colab_link": true
    },
    "kernelspec": {
      "name": "python3",
      "display_name": "Python 3"
    }
  },
  "cells": [
    {
      "cell_type": "markdown",
      "metadata": {
        "id": "view-in-github",
        "colab_type": "text"
      },
      "source": [
        "<a href=\"https://colab.research.google.com/github/chengren/bky_hw_lab/blob/edu/PyBKT.ipynb\" target=\"_parent\"><img src=\"https://colab.research.google.com/assets/colab-badge.svg\" alt=\"Open In Colab\"/></a>"
      ]
    },
    {
      "cell_type": "code",
      "metadata": {
        "id": "te17tLc96yQA",
        "colab_type": "code",
        "outputId": "2e96632f-829a-4d80-fd56-e9f4b70f7aa0",
        "colab": {
          "base_uri": "https://localhost:8080/",
          "height": 391
        }
      },
      "source": [
        "!apt-get install libboost1.62-dev libboost-mpi-python1.62-dev libboost1.62-tools-dev libboost1.62-all-dev libboost-mpi-python1.62.0"
      ],
      "execution_count": 1,
      "outputs": [
        {
          "output_type": "stream",
          "text": [
            "Reading package lists... Done\n",
            "Building dependency tree       \n",
            "Reading state information... Done\n",
            "libboost-mpi-python1.62-dev is already the newest version (1.62.0+dfsg-5).\n",
            "libboost-mpi-python1.62.0 is already the newest version (1.62.0+dfsg-5).\n",
            "libboost1.62-all-dev is already the newest version (1.62.0+dfsg-5).\n",
            "libboost1.62-dev is already the newest version (1.62.0+dfsg-5).\n",
            "libboost1.62-tools-dev is already the newest version (1.62.0+dfsg-5).\n",
            "The following packages were automatically installed and are no longer required:\n",
            "  libboost-atomic1.65.1 libboost-chrono1.65.1 libboost-container1.65.1\n",
            "  libboost-context1.65.1 libboost-coroutine1.65.1 libboost-date-time1.65.1\n",
            "  libboost-fiber1.65.1 libboost-filesystem1.65.1 libboost-graph-parallel1.65.1\n",
            "  libboost-graph1.65.1 libboost-iostreams1.65.1 libboost-locale1.65.1\n",
            "  libboost-log1.65.1 libboost-math1.65.1 libboost-mpi1.65.1 libboost-numpy-dev\n",
            "  libboost-numpy1.65-dev libboost-numpy1.65.1 libboost-program-options1.65.1\n",
            "  libboost-python1.65.1 libboost-random1.65.1 libboost-regex1.65.1\n",
            "  libboost-serialization1.65.1 libboost-signals1.65.1\n",
            "  libboost-stacktrace1.65.1 libboost-system1.65.1 libboost-test1.65.1\n",
            "  libboost-thread1.65.1 libboost-timer1.65.1 libboost-type-erasure1.65.1\n",
            "  libboost-wave1.65.1 libnvidia-common-430\n",
            "Use 'apt autoremove' to remove them.\n",
            "0 upgraded, 0 newly installed, 0 to remove and 25 not upgraded.\n"
          ],
          "name": "stdout"
        }
      ]
    },
    {
      "cell_type": "code",
      "metadata": {
        "id": "X3-SiZD061z0",
        "colab_type": "code",
        "outputId": "347c3c0c-341f-4c24-e7af-570c2a8b6216",
        "colab": {
          "base_uri": "https://localhost:8080/",
          "height": 34
        }
      },
      "source": [
        "!git clone https://github.com/CAHLR/pyBKT.git"
      ],
      "execution_count": 2,
      "outputs": [
        {
          "output_type": "stream",
          "text": [
            "fatal: destination path 'pyBKT' already exists and is not an empty directory.\n"
          ],
          "name": "stdout"
        }
      ]
    },
    {
      "cell_type": "code",
      "metadata": {
        "id": "LF2NI-NR6518",
        "colab_type": "code",
        "outputId": "405f9817-f41a-4b3b-e1ea-5f543917d197",
        "colab": {
          "base_uri": "https://localhost:8080/",
          "height": 34
        }
      },
      "source": [
        "%cd /content/pyBKT"
      ],
      "execution_count": 3,
      "outputs": [
        {
          "output_type": "stream",
          "text": [
            "/content/pyBKT\n"
          ],
          "name": "stdout"
        }
      ]
    },
    {
      "cell_type": "code",
      "metadata": {
        "id": "XgK2ZtGB680r",
        "colab_type": "code",
        "outputId": "be3dfdb3-c6c5-4b31-eaaf-fb64d2c4ad60",
        "colab": {
          "base_uri": "https://localhost:8080/",
          "height": 1000
        }
      },
      "source": [
        "!wget --no-check-certificate http://bitbucket.org/eigen/eigen/get/3.1.3.tar.gz\n",
        "!tar -xzvf 3.1.3.tar.gz\n",
        "!mv eigen-eigen-2249f9c22fe8 ./Eigen\n",
        "!rm 3.1.3.tar.gz\n",
        "\n"
      ],
      "execution_count": 4,
      "outputs": [
        {
          "output_type": "stream",
          "text": [
            "URL transformed to HTTPS due to an HSTS policy\n",
            "--2020-02-18 01:05:05--  https://bitbucket.org/eigen/eigen/get/3.1.3.tar.gz\n",
            "Resolving bitbucket.org (bitbucket.org)... 18.205.93.2, 18.205.93.1, 18.205.93.0, ...\n",
            "Connecting to bitbucket.org (bitbucket.org)|18.205.93.2|:443... connected.\n",
            "HTTP request sent, awaiting response... 200 OK\n",
            "Length: 1348611 (1.3M) [application/x-tar-gz]\n",
            "Saving to: ‘3.1.3.tar.gz’\n",
            "\n",
            "3.1.3.tar.gz        100%[===================>]   1.29M  7.17MB/s    in 0.2s    \n",
            "\n",
            "2020-02-18 01:05:06 (7.17 MB/s) - ‘3.1.3.tar.gz’ saved [1348611/1348611]\n",
            "\n",
            "eigen-eigen-2249f9c22fe8/.hg_archival.txt\n",
            "eigen-eigen-2249f9c22fe8/.hgeol\n",
            "eigen-eigen-2249f9c22fe8/.hgignore\n",
            "eigen-eigen-2249f9c22fe8/.hgtags\n",
            "eigen-eigen-2249f9c22fe8/.krazy\n",
            "eigen-eigen-2249f9c22fe8/CMakeLists.txt\n",
            "eigen-eigen-2249f9c22fe8/COPYING.BSD\n",
            "eigen-eigen-2249f9c22fe8/COPYING.GPL\n",
            "eigen-eigen-2249f9c22fe8/COPYING.LGPL\n",
            "eigen-eigen-2249f9c22fe8/COPYING.MINPACK\n",
            "eigen-eigen-2249f9c22fe8/COPYING.MPL2\n",
            "eigen-eigen-2249f9c22fe8/COPYING.README\n",
            "eigen-eigen-2249f9c22fe8/CTestConfig.cmake\n",
            "eigen-eigen-2249f9c22fe8/CTestCustom.cmake.in\n",
            "eigen-eigen-2249f9c22fe8/Eigen/Array\n",
            "eigen-eigen-2249f9c22fe8/Eigen/CMakeLists.txt\n",
            "eigen-eigen-2249f9c22fe8/Eigen/Cholesky\n",
            "eigen-eigen-2249f9c22fe8/Eigen/CholmodSupport\n",
            "eigen-eigen-2249f9c22fe8/Eigen/Core\n",
            "eigen-eigen-2249f9c22fe8/Eigen/Dense\n",
            "eigen-eigen-2249f9c22fe8/Eigen/Eigen\n",
            "eigen-eigen-2249f9c22fe8/Eigen/Eigen2Support\n",
            "eigen-eigen-2249f9c22fe8/Eigen/Eigenvalues\n",
            "eigen-eigen-2249f9c22fe8/Eigen/Geometry\n",
            "eigen-eigen-2249f9c22fe8/Eigen/Householder\n",
            "eigen-eigen-2249f9c22fe8/Eigen/IterativeLinearSolvers\n",
            "eigen-eigen-2249f9c22fe8/Eigen/Jacobi\n",
            "eigen-eigen-2249f9c22fe8/Eigen/LU\n",
            "eigen-eigen-2249f9c22fe8/Eigen/LeastSquares\n",
            "eigen-eigen-2249f9c22fe8/Eigen/OrderingMethods\n",
            "eigen-eigen-2249f9c22fe8/Eigen/PaStiXSupport\n",
            "eigen-eigen-2249f9c22fe8/Eigen/PardisoSupport\n",
            "eigen-eigen-2249f9c22fe8/Eigen/QR\n",
            "eigen-eigen-2249f9c22fe8/Eigen/QtAlignedMalloc\n",
            "eigen-eigen-2249f9c22fe8/Eigen/SVD\n",
            "eigen-eigen-2249f9c22fe8/Eigen/Sparse\n",
            "eigen-eigen-2249f9c22fe8/Eigen/SparseCholesky\n",
            "eigen-eigen-2249f9c22fe8/Eigen/SparseCore\n",
            "eigen-eigen-2249f9c22fe8/Eigen/StdDeque\n",
            "eigen-eigen-2249f9c22fe8/Eigen/StdList\n",
            "eigen-eigen-2249f9c22fe8/Eigen/StdVector\n",
            "eigen-eigen-2249f9c22fe8/Eigen/SuperLUSupport\n",
            "eigen-eigen-2249f9c22fe8/Eigen/UmfPackSupport\n",
            "eigen-eigen-2249f9c22fe8/Eigen/src/CMakeLists.txt\n",
            "eigen-eigen-2249f9c22fe8/Eigen/src/Cholesky/CMakeLists.txt\n",
            "eigen-eigen-2249f9c22fe8/Eigen/src/Cholesky/LDLT.h\n",
            "eigen-eigen-2249f9c22fe8/Eigen/src/Cholesky/LLT.h\n",
            "eigen-eigen-2249f9c22fe8/Eigen/src/Cholesky/LLT_MKL.h\n",
            "eigen-eigen-2249f9c22fe8/Eigen/src/CholmodSupport/CMakeLists.txt\n",
            "eigen-eigen-2249f9c22fe8/Eigen/src/CholmodSupport/CholmodSupport.h\n",
            "eigen-eigen-2249f9c22fe8/Eigen/src/Core/Array.h\n",
            "eigen-eigen-2249f9c22fe8/Eigen/src/Core/ArrayBase.h\n",
            "eigen-eigen-2249f9c22fe8/Eigen/src/Core/ArrayWrapper.h\n",
            "eigen-eigen-2249f9c22fe8/Eigen/src/Core/Assign.h\n",
            "eigen-eigen-2249f9c22fe8/Eigen/src/Core/Assign_MKL.h\n",
            "eigen-eigen-2249f9c22fe8/Eigen/src/Core/BandMatrix.h\n",
            "eigen-eigen-2249f9c22fe8/Eigen/src/Core/Block.h\n",
            "eigen-eigen-2249f9c22fe8/Eigen/src/Core/BooleanRedux.h\n",
            "eigen-eigen-2249f9c22fe8/Eigen/src/Core/CMakeLists.txt\n",
            "eigen-eigen-2249f9c22fe8/Eigen/src/Core/CommaInitializer.h\n",
            "eigen-eigen-2249f9c22fe8/Eigen/src/Core/CwiseBinaryOp.h\n",
            "eigen-eigen-2249f9c22fe8/Eigen/src/Core/CwiseNullaryOp.h\n",
            "eigen-eigen-2249f9c22fe8/Eigen/src/Core/CwiseUnaryOp.h\n",
            "eigen-eigen-2249f9c22fe8/Eigen/src/Core/CwiseUnaryView.h\n",
            "eigen-eigen-2249f9c22fe8/Eigen/src/Core/DenseBase.h\n",
            "eigen-eigen-2249f9c22fe8/Eigen/src/Core/DenseCoeffsBase.h\n",
            "eigen-eigen-2249f9c22fe8/Eigen/src/Core/DenseStorage.h\n",
            "eigen-eigen-2249f9c22fe8/Eigen/src/Core/Diagonal.h\n",
            "eigen-eigen-2249f9c22fe8/Eigen/src/Core/DiagonalMatrix.h\n",
            "eigen-eigen-2249f9c22fe8/Eigen/src/Core/DiagonalProduct.h\n",
            "eigen-eigen-2249f9c22fe8/Eigen/src/Core/Dot.h\n",
            "eigen-eigen-2249f9c22fe8/Eigen/src/Core/EigenBase.h\n",
            "eigen-eigen-2249f9c22fe8/Eigen/src/Core/Flagged.h\n",
            "eigen-eigen-2249f9c22fe8/Eigen/src/Core/ForceAlignedAccess.h\n",
            "eigen-eigen-2249f9c22fe8/Eigen/src/Core/Functors.h\n",
            "eigen-eigen-2249f9c22fe8/Eigen/src/Core/Fuzzy.h\n",
            "eigen-eigen-2249f9c22fe8/Eigen/src/Core/GeneralProduct.h\n",
            "eigen-eigen-2249f9c22fe8/Eigen/src/Core/GenericPacketMath.h\n",
            "eigen-eigen-2249f9c22fe8/Eigen/src/Core/GlobalFunctions.h\n",
            "eigen-eigen-2249f9c22fe8/Eigen/src/Core/IO.h\n",
            "eigen-eigen-2249f9c22fe8/Eigen/src/Core/Map.h\n",
            "eigen-eigen-2249f9c22fe8/Eigen/src/Core/MapBase.h\n",
            "eigen-eigen-2249f9c22fe8/Eigen/src/Core/MathFunctions.h\n",
            "eigen-eigen-2249f9c22fe8/Eigen/src/Core/Matrix.h\n",
            "eigen-eigen-2249f9c22fe8/Eigen/src/Core/MatrixBase.h\n",
            "eigen-eigen-2249f9c22fe8/Eigen/src/Core/NestByValue.h\n",
            "eigen-eigen-2249f9c22fe8/Eigen/src/Core/NoAlias.h\n",
            "eigen-eigen-2249f9c22fe8/Eigen/src/Core/NumTraits.h\n",
            "eigen-eigen-2249f9c22fe8/Eigen/src/Core/PermutationMatrix.h\n",
            "eigen-eigen-2249f9c22fe8/Eigen/src/Core/PlainObjectBase.h\n",
            "eigen-eigen-2249f9c22fe8/Eigen/src/Core/Product.h\n",
            "eigen-eigen-2249f9c22fe8/Eigen/src/Core/ProductBase.h\n",
            "eigen-eigen-2249f9c22fe8/Eigen/src/Core/Random.h\n",
            "eigen-eigen-2249f9c22fe8/Eigen/src/Core/Redux.h\n",
            "eigen-eigen-2249f9c22fe8/Eigen/src/Core/Replicate.h\n",
            "eigen-eigen-2249f9c22fe8/Eigen/src/Core/ReturnByValue.h\n",
            "eigen-eigen-2249f9c22fe8/Eigen/src/Core/Reverse.h\n",
            "eigen-eigen-2249f9c22fe8/Eigen/src/Core/Select.h\n",
            "eigen-eigen-2249f9c22fe8/Eigen/src/Core/SelfAdjointView.h\n",
            "eigen-eigen-2249f9c22fe8/Eigen/src/Core/SelfCwiseBinaryOp.h\n",
            "eigen-eigen-2249f9c22fe8/Eigen/src/Core/SolveTriangular.h\n",
            "eigen-eigen-2249f9c22fe8/Eigen/src/Core/StableNorm.h\n",
            "eigen-eigen-2249f9c22fe8/Eigen/src/Core/Stride.h\n",
            "eigen-eigen-2249f9c22fe8/Eigen/src/Core/Swap.h\n",
            "eigen-eigen-2249f9c22fe8/Eigen/src/Core/Transpose.h\n",
            "eigen-eigen-2249f9c22fe8/Eigen/src/Core/Transpositions.h\n",
            "eigen-eigen-2249f9c22fe8/Eigen/src/Core/TriangularMatrix.h\n",
            "eigen-eigen-2249f9c22fe8/Eigen/src/Core/VectorBlock.h\n",
            "eigen-eigen-2249f9c22fe8/Eigen/src/Core/VectorwiseOp.h\n",
            "eigen-eigen-2249f9c22fe8/Eigen/src/Core/Visitor.h\n",
            "eigen-eigen-2249f9c22fe8/Eigen/src/Core/arch/AltiVec/CMakeLists.txt\n",
            "eigen-eigen-2249f9c22fe8/Eigen/src/Core/arch/AltiVec/Complex.h\n",
            "eigen-eigen-2249f9c22fe8/Eigen/src/Core/arch/AltiVec/PacketMath.h\n",
            "eigen-eigen-2249f9c22fe8/Eigen/src/Core/arch/CMakeLists.txt\n",
            "eigen-eigen-2249f9c22fe8/Eigen/src/Core/arch/Default/CMakeLists.txt\n",
            "eigen-eigen-2249f9c22fe8/Eigen/src/Core/arch/Default/Settings.h\n",
            "eigen-eigen-2249f9c22fe8/Eigen/src/Core/arch/NEON/CMakeLists.txt\n",
            "eigen-eigen-2249f9c22fe8/Eigen/src/Core/arch/NEON/Complex.h\n",
            "eigen-eigen-2249f9c22fe8/Eigen/src/Core/arch/NEON/PacketMath.h\n",
            "eigen-eigen-2249f9c22fe8/Eigen/src/Core/arch/SSE/CMakeLists.txt\n",
            "eigen-eigen-2249f9c22fe8/Eigen/src/Core/arch/SSE/Complex.h\n",
            "eigen-eigen-2249f9c22fe8/Eigen/src/Core/arch/SSE/MathFunctions.h\n",
            "eigen-eigen-2249f9c22fe8/Eigen/src/Core/arch/SSE/PacketMath.h\n",
            "eigen-eigen-2249f9c22fe8/Eigen/src/Core/products/CMakeLists.txt\n",
            "eigen-eigen-2249f9c22fe8/Eigen/src/Core/products/CoeffBasedProduct.h\n",
            "eigen-eigen-2249f9c22fe8/Eigen/src/Core/products/GeneralBlockPanelKernel.h\n",
            "eigen-eigen-2249f9c22fe8/Eigen/src/Core/products/GeneralMatrixMatrix.h\n",
            "eigen-eigen-2249f9c22fe8/Eigen/src/Core/products/GeneralMatrixMatrixTriangular.h\n",
            "eigen-eigen-2249f9c22fe8/Eigen/src/Core/products/GeneralMatrixMatrixTriangular_MKL.h\n",
            "eigen-eigen-2249f9c22fe8/Eigen/src/Core/products/GeneralMatrixMatrix_MKL.h\n",
            "eigen-eigen-2249f9c22fe8/Eigen/src/Core/products/GeneralMatrixVector.h\n",
            "eigen-eigen-2249f9c22fe8/Eigen/src/Core/products/GeneralMatrixVector_MKL.h\n",
            "eigen-eigen-2249f9c22fe8/Eigen/src/Core/products/Parallelizer.h\n",
            "eigen-eigen-2249f9c22fe8/Eigen/src/Core/products/SelfadjointMatrixMatrix.h\n",
            "eigen-eigen-2249f9c22fe8/Eigen/src/Core/products/SelfadjointMatrixMatrix_MKL.h\n",
            "eigen-eigen-2249f9c22fe8/Eigen/src/Core/products/SelfadjointMatrixVector.h\n",
            "eigen-eigen-2249f9c22fe8/Eigen/src/Core/products/SelfadjointMatrixVector_MKL.h\n",
            "eigen-eigen-2249f9c22fe8/Eigen/src/Core/products/SelfadjointProduct.h\n",
            "eigen-eigen-2249f9c22fe8/Eigen/src/Core/products/SelfadjointRank2Update.h\n",
            "eigen-eigen-2249f9c22fe8/Eigen/src/Core/products/TriangularMatrixMatrix.h\n",
            "eigen-eigen-2249f9c22fe8/Eigen/src/Core/products/TriangularMatrixMatrix_MKL.h\n",
            "eigen-eigen-2249f9c22fe8/Eigen/src/Core/products/TriangularMatrixVector.h\n",
            "eigen-eigen-2249f9c22fe8/Eigen/src/Core/products/TriangularMatrixVector_MKL.h\n",
            "eigen-eigen-2249f9c22fe8/Eigen/src/Core/products/TriangularSolverMatrix.h\n",
            "eigen-eigen-2249f9c22fe8/Eigen/src/Core/products/TriangularSolverMatrix_MKL.h\n",
            "eigen-eigen-2249f9c22fe8/Eigen/src/Core/products/TriangularSolverVector.h\n",
            "eigen-eigen-2249f9c22fe8/Eigen/src/Core/util/BlasUtil.h\n",
            "eigen-eigen-2249f9c22fe8/Eigen/src/Core/util/CMakeLists.txt\n",
            "eigen-eigen-2249f9c22fe8/Eigen/src/Core/util/Constants.h\n",
            "eigen-eigen-2249f9c22fe8/Eigen/src/Core/util/DisableStupidWarnings.h\n",
            "eigen-eigen-2249f9c22fe8/Eigen/src/Core/util/ForwardDeclarations.h\n",
            "eigen-eigen-2249f9c22fe8/Eigen/src/Core/util/MKL_support.h\n",
            "eigen-eigen-2249f9c22fe8/Eigen/src/Core/util/Macros.h\n",
            "eigen-eigen-2249f9c22fe8/Eigen/src/Core/util/Memory.h\n",
            "eigen-eigen-2249f9c22fe8/Eigen/src/Core/util/Meta.h\n",
            "eigen-eigen-2249f9c22fe8/Eigen/src/Core/util/NonMPL2.h\n",
            "eigen-eigen-2249f9c22fe8/Eigen/src/Core/util/ReenableStupidWarnings.h\n",
            "eigen-eigen-2249f9c22fe8/Eigen/src/Core/util/StaticAssert.h\n",
            "eigen-eigen-2249f9c22fe8/Eigen/src/Core/util/XprHelper.h\n",
            "eigen-eigen-2249f9c22fe8/Eigen/src/Eigen2Support/Block.h\n",
            "eigen-eigen-2249f9c22fe8/Eigen/src/Eigen2Support/CMakeLists.txt\n",
            "eigen-eigen-2249f9c22fe8/Eigen/src/Eigen2Support/Cwise.h\n",
            "eigen-eigen-2249f9c22fe8/Eigen/src/Eigen2Support/CwiseOperators.h\n",
            "eigen-eigen-2249f9c22fe8/Eigen/src/Eigen2Support/Geometry/AlignedBox.h\n",
            "eigen-eigen-2249f9c22fe8/Eigen/src/Eigen2Support/Geometry/All.h\n",
            "eigen-eigen-2249f9c22fe8/Eigen/src/Eigen2Support/Geometry/AngleAxis.h\n",
            "eigen-eigen-2249f9c22fe8/Eigen/src/Eigen2Support/Geometry/CMakeLists.txt\n",
            "eigen-eigen-2249f9c22fe8/Eigen/src/Eigen2Support/Geometry/Hyperplane.h\n",
            "eigen-eigen-2249f9c22fe8/Eigen/src/Eigen2Support/Geometry/ParametrizedLine.h\n",
            "eigen-eigen-2249f9c22fe8/Eigen/src/Eigen2Support/Geometry/Quaternion.h\n",
            "eigen-eigen-2249f9c22fe8/Eigen/src/Eigen2Support/Geometry/Rotation2D.h\n",
            "eigen-eigen-2249f9c22fe8/Eigen/src/Eigen2Support/Geometry/RotationBase.h\n",
            "eigen-eigen-2249f9c22fe8/Eigen/src/Eigen2Support/Geometry/Scaling.h\n",
            "eigen-eigen-2249f9c22fe8/Eigen/src/Eigen2Support/Geometry/Transform.h\n",
            "eigen-eigen-2249f9c22fe8/Eigen/src/Eigen2Support/Geometry/Translation.h\n",
            "eigen-eigen-2249f9c22fe8/Eigen/src/Eigen2Support/LU.h\n",
            "eigen-eigen-2249f9c22fe8/Eigen/src/Eigen2Support/Lazy.h\n",
            "eigen-eigen-2249f9c22fe8/Eigen/src/Eigen2Support/LeastSquares.h\n",
            "eigen-eigen-2249f9c22fe8/Eigen/src/Eigen2Support/Macros.h\n",
            "eigen-eigen-2249f9c22fe8/Eigen/src/Eigen2Support/MathFunctions.h\n",
            "eigen-eigen-2249f9c22fe8/Eigen/src/Eigen2Support/Memory.h\n",
            "eigen-eigen-2249f9c22fe8/Eigen/src/Eigen2Support/Meta.h\n",
            "eigen-eigen-2249f9c22fe8/Eigen/src/Eigen2Support/Minor.h\n",
            "eigen-eigen-2249f9c22fe8/Eigen/src/Eigen2Support/QR.h\n",
            "eigen-eigen-2249f9c22fe8/Eigen/src/Eigen2Support/SVD.h\n",
            "eigen-eigen-2249f9c22fe8/Eigen/src/Eigen2Support/TriangularSolver.h\n",
            "eigen-eigen-2249f9c22fe8/Eigen/src/Eigen2Support/VectorBlock.h\n",
            "eigen-eigen-2249f9c22fe8/Eigen/src/Eigenvalues/CMakeLists.txt\n",
            "eigen-eigen-2249f9c22fe8/Eigen/src/Eigenvalues/ComplexEigenSolver.h\n",
            "eigen-eigen-2249f9c22fe8/Eigen/src/Eigenvalues/ComplexSchur.h\n",
            "eigen-eigen-2249f9c22fe8/Eigen/src/Eigenvalues/ComplexSchur_MKL.h\n",
            "eigen-eigen-2249f9c22fe8/Eigen/src/Eigenvalues/EigenSolver.h\n",
            "eigen-eigen-2249f9c22fe8/Eigen/src/Eigenvalues/GeneralizedSelfAdjointEigenSolver.h\n",
            "eigen-eigen-2249f9c22fe8/Eigen/src/Eigenvalues/HessenbergDecomposition.h\n",
            "eigen-eigen-2249f9c22fe8/Eigen/src/Eigenvalues/MatrixBaseEigenvalues.h\n",
            "eigen-eigen-2249f9c22fe8/Eigen/src/Eigenvalues/RealSchur.h\n",
            "eigen-eigen-2249f9c22fe8/Eigen/src/Eigenvalues/RealSchur_MKL.h\n",
            "eigen-eigen-2249f9c22fe8/Eigen/src/Eigenvalues/SelfAdjointEigenSolver.h\n",
            "eigen-eigen-2249f9c22fe8/Eigen/src/Eigenvalues/SelfAdjointEigenSolver_MKL.h\n",
            "eigen-eigen-2249f9c22fe8/Eigen/src/Eigenvalues/Tridiagonalization.h\n",
            "eigen-eigen-2249f9c22fe8/Eigen/src/Geometry/AlignedBox.h\n",
            "eigen-eigen-2249f9c22fe8/Eigen/src/Geometry/AngleAxis.h\n",
            "eigen-eigen-2249f9c22fe8/Eigen/src/Geometry/CMakeLists.txt\n",
            "eigen-eigen-2249f9c22fe8/Eigen/src/Geometry/EulerAngles.h\n",
            "eigen-eigen-2249f9c22fe8/Eigen/src/Geometry/Homogeneous.h\n",
            "eigen-eigen-2249f9c22fe8/Eigen/src/Geometry/Hyperplane.h\n",
            "eigen-eigen-2249f9c22fe8/Eigen/src/Geometry/OrthoMethods.h\n",
            "eigen-eigen-2249f9c22fe8/Eigen/src/Geometry/ParametrizedLine.h\n",
            "eigen-eigen-2249f9c22fe8/Eigen/src/Geometry/Quaternion.h\n",
            "eigen-eigen-2249f9c22fe8/Eigen/src/Geometry/Rotation2D.h\n",
            "eigen-eigen-2249f9c22fe8/Eigen/src/Geometry/RotationBase.h\n",
            "eigen-eigen-2249f9c22fe8/Eigen/src/Geometry/Scaling.h\n",
            "eigen-eigen-2249f9c22fe8/Eigen/src/Geometry/Transform.h\n",
            "eigen-eigen-2249f9c22fe8/Eigen/src/Geometry/Translation.h\n",
            "eigen-eigen-2249f9c22fe8/Eigen/src/Geometry/Umeyama.h\n",
            "eigen-eigen-2249f9c22fe8/Eigen/src/Geometry/arch/CMakeLists.txt\n",
            "eigen-eigen-2249f9c22fe8/Eigen/src/Geometry/arch/Geometry_SSE.h\n",
            "eigen-eigen-2249f9c22fe8/Eigen/src/Householder/BlockHouseholder.h\n",
            "eigen-eigen-2249f9c22fe8/Eigen/src/Householder/CMakeLists.txt\n",
            "eigen-eigen-2249f9c22fe8/Eigen/src/Householder/Householder.h\n",
            "eigen-eigen-2249f9c22fe8/Eigen/src/Householder/HouseholderSequence.h\n",
            "eigen-eigen-2249f9c22fe8/Eigen/src/IterativeLinearSolvers/BasicPreconditioners.h\n",
            "eigen-eigen-2249f9c22fe8/Eigen/src/IterativeLinearSolvers/BiCGSTAB.h\n",
            "eigen-eigen-2249f9c22fe8/Eigen/src/IterativeLinearSolvers/CMakeLists.txt\n",
            "eigen-eigen-2249f9c22fe8/Eigen/src/IterativeLinearSolvers/ConjugateGradient.h\n",
            "eigen-eigen-2249f9c22fe8/Eigen/src/IterativeLinearSolvers/IncompleteLUT.h\n",
            "eigen-eigen-2249f9c22fe8/Eigen/src/IterativeLinearSolvers/IterativeSolverBase.h\n",
            "eigen-eigen-2249f9c22fe8/Eigen/src/Jacobi/CMakeLists.txt\n",
            "eigen-eigen-2249f9c22fe8/Eigen/src/Jacobi/Jacobi.h\n",
            "eigen-eigen-2249f9c22fe8/Eigen/src/LU/CMakeLists.txt\n",
            "eigen-eigen-2249f9c22fe8/Eigen/src/LU/Determinant.h\n",
            "eigen-eigen-2249f9c22fe8/Eigen/src/LU/FullPivLU.h\n",
            "eigen-eigen-2249f9c22fe8/Eigen/src/LU/Inverse.h\n",
            "eigen-eigen-2249f9c22fe8/Eigen/src/LU/PartialPivLU.h\n",
            "eigen-eigen-2249f9c22fe8/Eigen/src/LU/PartialPivLU_MKL.h\n",
            "eigen-eigen-2249f9c22fe8/Eigen/src/LU/arch/CMakeLists.txt\n",
            "eigen-eigen-2249f9c22fe8/Eigen/src/LU/arch/Inverse_SSE.h\n",
            "eigen-eigen-2249f9c22fe8/Eigen/src/OrderingMethods/Amd.h\n",
            "eigen-eigen-2249f9c22fe8/Eigen/src/OrderingMethods/CMakeLists.txt\n",
            "eigen-eigen-2249f9c22fe8/Eigen/src/PaStiXSupport/CMakeLists.txt\n",
            "eigen-eigen-2249f9c22fe8/Eigen/src/PaStiXSupport/PaStiXSupport.h\n",
            "eigen-eigen-2249f9c22fe8/Eigen/src/PardisoSupport/CMakeLists.txt\n",
            "eigen-eigen-2249f9c22fe8/Eigen/src/PardisoSupport/PardisoSupport.h\n",
            "eigen-eigen-2249f9c22fe8/Eigen/src/QR/CMakeLists.txt\n",
            "eigen-eigen-2249f9c22fe8/Eigen/src/QR/ColPivHouseholderQR.h\n",
            "eigen-eigen-2249f9c22fe8/Eigen/src/QR/ColPivHouseholderQR_MKL.h\n",
            "eigen-eigen-2249f9c22fe8/Eigen/src/QR/FullPivHouseholderQR.h\n",
            "eigen-eigen-2249f9c22fe8/Eigen/src/QR/HouseholderQR.h\n",
            "eigen-eigen-2249f9c22fe8/Eigen/src/QR/HouseholderQR_MKL.h\n",
            "eigen-eigen-2249f9c22fe8/Eigen/src/SVD/CMakeLists.txt\n",
            "eigen-eigen-2249f9c22fe8/Eigen/src/SVD/JacobiSVD.h\n",
            "eigen-eigen-2249f9c22fe8/Eigen/src/SVD/JacobiSVD_MKL.h\n",
            "eigen-eigen-2249f9c22fe8/Eigen/src/SVD/UpperBidiagonalization.h\n",
            "eigen-eigen-2249f9c22fe8/Eigen/src/SparseCholesky/CMakeLists.txt\n",
            "eigen-eigen-2249f9c22fe8/Eigen/src/SparseCholesky/SimplicialCholesky.h\n",
            "eigen-eigen-2249f9c22fe8/Eigen/src/SparseCore/AmbiVector.h\n",
            "eigen-eigen-2249f9c22fe8/Eigen/src/SparseCore/CMakeLists.txt\n",
            "eigen-eigen-2249f9c22fe8/Eigen/src/SparseCore/CompressedStorage.h\n",
            "eigen-eigen-2249f9c22fe8/Eigen/src/SparseCore/ConservativeSparseSparseProduct.h\n",
            "eigen-eigen-2249f9c22fe8/Eigen/src/SparseCore/CoreIterators.h\n",
            "eigen-eigen-2249f9c22fe8/Eigen/src/SparseCore/MappedSparseMatrix.h\n",
            "eigen-eigen-2249f9c22fe8/Eigen/src/SparseCore/SparseAssign.h\n",
            "eigen-eigen-2249f9c22fe8/Eigen/src/SparseCore/SparseBlock.h\n",
            "eigen-eigen-2249f9c22fe8/Eigen/src/SparseCore/SparseCwiseBinaryOp.h\n",
            "eigen-eigen-2249f9c22fe8/Eigen/src/SparseCore/SparseCwiseUnaryOp.h\n",
            "eigen-eigen-2249f9c22fe8/Eigen/src/SparseCore/SparseDenseProduct.h\n",
            "eigen-eigen-2249f9c22fe8/Eigen/src/SparseCore/SparseDiagonalProduct.h\n",
            "eigen-eigen-2249f9c22fe8/Eigen/src/SparseCore/SparseDot.h\n",
            "eigen-eigen-2249f9c22fe8/Eigen/src/SparseCore/SparseFuzzy.h\n",
            "eigen-eigen-2249f9c22fe8/Eigen/src/SparseCore/SparseMatrix.h\n",
            "eigen-eigen-2249f9c22fe8/Eigen/src/SparseCore/SparseMatrixBase.h\n",
            "eigen-eigen-2249f9c22fe8/Eigen/src/SparseCore/SparsePermutation.h\n",
            "eigen-eigen-2249f9c22fe8/Eigen/src/SparseCore/SparseProduct.h\n",
            "eigen-eigen-2249f9c22fe8/Eigen/src/SparseCore/SparseRedux.h\n",
            "eigen-eigen-2249f9c22fe8/Eigen/src/SparseCore/SparseSelfAdjointView.h\n",
            "eigen-eigen-2249f9c22fe8/Eigen/src/SparseCore/SparseSparseProductWithPruning.h\n",
            "eigen-eigen-2249f9c22fe8/Eigen/src/SparseCore/SparseTranspose.h\n",
            "eigen-eigen-2249f9c22fe8/Eigen/src/SparseCore/SparseTriangularView.h\n",
            "eigen-eigen-2249f9c22fe8/Eigen/src/SparseCore/SparseUtil.h\n",
            "eigen-eigen-2249f9c22fe8/Eigen/src/SparseCore/SparseVector.h\n",
            "eigen-eigen-2249f9c22fe8/Eigen/src/SparseCore/SparseView.h\n",
            "eigen-eigen-2249f9c22fe8/Eigen/src/SparseCore/TriangularSolver.h\n",
            "eigen-eigen-2249f9c22fe8/Eigen/src/StlSupport/CMakeLists.txt\n",
            "eigen-eigen-2249f9c22fe8/Eigen/src/StlSupport/StdDeque.h\n",
            "eigen-eigen-2249f9c22fe8/Eigen/src/StlSupport/StdList.h\n",
            "eigen-eigen-2249f9c22fe8/Eigen/src/StlSupport/StdVector.h\n",
            "eigen-eigen-2249f9c22fe8/Eigen/src/StlSupport/details.h\n",
            "eigen-eigen-2249f9c22fe8/Eigen/src/SuperLUSupport/CMakeLists.txt\n",
            "eigen-eigen-2249f9c22fe8/Eigen/src/SuperLUSupport/SuperLUSupport.h\n",
            "eigen-eigen-2249f9c22fe8/Eigen/src/UmfPackSupport/CMakeLists.txt\n",
            "eigen-eigen-2249f9c22fe8/Eigen/src/UmfPackSupport/UmfPackSupport.h\n",
            "eigen-eigen-2249f9c22fe8/Eigen/src/misc/CMakeLists.txt\n",
            "eigen-eigen-2249f9c22fe8/Eigen/src/misc/Image.h\n",
            "eigen-eigen-2249f9c22fe8/Eigen/src/misc/Kernel.h\n",
            "eigen-eigen-2249f9c22fe8/Eigen/src/misc/Solve.h\n",
            "eigen-eigen-2249f9c22fe8/Eigen/src/misc/SparseSolve.h\n",
            "eigen-eigen-2249f9c22fe8/Eigen/src/misc/blas.h\n",
            "eigen-eigen-2249f9c22fe8/Eigen/src/plugins/ArrayCwiseBinaryOps.h\n",
            "eigen-eigen-2249f9c22fe8/Eigen/src/plugins/ArrayCwiseUnaryOps.h\n",
            "eigen-eigen-2249f9c22fe8/Eigen/src/plugins/BlockMethods.h\n",
            "eigen-eigen-2249f9c22fe8/Eigen/src/plugins/CMakeLists.txt\n",
            "eigen-eigen-2249f9c22fe8/Eigen/src/plugins/CommonCwiseBinaryOps.h\n",
            "eigen-eigen-2249f9c22fe8/Eigen/src/plugins/CommonCwiseUnaryOps.h\n",
            "eigen-eigen-2249f9c22fe8/Eigen/src/plugins/MatrixCwiseBinaryOps.h\n",
            "eigen-eigen-2249f9c22fe8/Eigen/src/plugins/MatrixCwiseUnaryOps.h\n",
            "eigen-eigen-2249f9c22fe8/INSTALL\n",
            "eigen-eigen-2249f9c22fe8/bench/BenchSparseUtil.h\n",
            "eigen-eigen-2249f9c22fe8/bench/BenchTimer.h\n",
            "eigen-eigen-2249f9c22fe8/bench/BenchUtil.h\n",
            "eigen-eigen-2249f9c22fe8/bench/README.txt\n",
            "eigen-eigen-2249f9c22fe8/bench/basicbench.cxxlist\n",
            "eigen-eigen-2249f9c22fe8/bench/basicbenchmark.cpp\n",
            "eigen-eigen-2249f9c22fe8/bench/basicbenchmark.h\n",
            "eigen-eigen-2249f9c22fe8/bench/benchBlasGemm.cpp\n",
            "eigen-eigen-2249f9c22fe8/bench/benchCholesky.cpp\n",
            "eigen-eigen-2249f9c22fe8/bench/benchEigenSolver.cpp\n",
            "eigen-eigen-2249f9c22fe8/bench/benchFFT.cpp\n",
            "eigen-eigen-2249f9c22fe8/bench/benchVecAdd.cpp\n",
            "eigen-eigen-2249f9c22fe8/bench/bench_gemm.cpp\n",
            "eigen-eigen-2249f9c22fe8/bench/bench_multi_compilers.sh\n",
            "eigen-eigen-2249f9c22fe8/bench/bench_norm.cpp\n",
            "eigen-eigen-2249f9c22fe8/bench/bench_reverse.cpp\n",
            "eigen-eigen-2249f9c22fe8/bench/bench_sum.cpp\n",
            "eigen-eigen-2249f9c22fe8/bench/bench_unrolling\n",
            "eigen-eigen-2249f9c22fe8/bench/benchmark.cpp\n",
            "eigen-eigen-2249f9c22fe8/bench/benchmarkSlice.cpp\n",
            "eigen-eigen-2249f9c22fe8/bench/benchmarkX.cpp\n",
            "eigen-eigen-2249f9c22fe8/bench/benchmarkXcwise.cpp\n",
            "eigen-eigen-2249f9c22fe8/bench/benchmark_suite\n",
            "eigen-eigen-2249f9c22fe8/bench/btl/CMakeLists.txt\n",
            "eigen-eigen-2249f9c22fe8/bench/btl/COPYING\n",
            "eigen-eigen-2249f9c22fe8/bench/btl/README\n",
            "eigen-eigen-2249f9c22fe8/bench/btl/actions/action_aat_product.hh\n",
            "eigen-eigen-2249f9c22fe8/bench/btl/actions/action_ata_product.hh\n",
            "eigen-eigen-2249f9c22fe8/bench/btl/actions/action_atv_product.hh\n",
            "eigen-eigen-2249f9c22fe8/bench/btl/actions/action_axpby.hh\n",
            "eigen-eigen-2249f9c22fe8/bench/btl/actions/action_axpy.hh\n",
            "eigen-eigen-2249f9c22fe8/bench/btl/actions/action_cholesky.hh\n",
            "eigen-eigen-2249f9c22fe8/bench/btl/actions/action_ger.hh\n",
            "eigen-eigen-2249f9c22fe8/bench/btl/actions/action_hessenberg.hh\n",
            "eigen-eigen-2249f9c22fe8/bench/btl/actions/action_lu_decomp.hh\n",
            "eigen-eigen-2249f9c22fe8/bench/btl/actions/action_lu_solve.hh\n",
            "eigen-eigen-2249f9c22fe8/bench/btl/actions/action_matrix_matrix_product.hh\n",
            "eigen-eigen-2249f9c22fe8/bench/btl/actions/action_matrix_matrix_product_bis.hh\n",
            "eigen-eigen-2249f9c22fe8/bench/btl/actions/action_matrix_vector_product.hh\n",
            "eigen-eigen-2249f9c22fe8/bench/btl/actions/action_partial_lu.hh\n",
            "eigen-eigen-2249f9c22fe8/bench/btl/actions/action_rot.hh\n",
            "eigen-eigen-2249f9c22fe8/bench/btl/actions/action_symv.hh\n",
            "eigen-eigen-2249f9c22fe8/bench/btl/actions/action_syr2.hh\n",
            "eigen-eigen-2249f9c22fe8/bench/btl/actions/action_trisolve.hh\n",
            "eigen-eigen-2249f9c22fe8/bench/btl/actions/action_trisolve_matrix.hh\n",
            "eigen-eigen-2249f9c22fe8/bench/btl/actions/action_trmm.hh\n",
            "eigen-eigen-2249f9c22fe8/bench/btl/actions/basic_actions.hh\n",
            "eigen-eigen-2249f9c22fe8/bench/btl/cmake/FindACML.cmake\n",
            "eigen-eigen-2249f9c22fe8/bench/btl/cmake/FindATLAS.cmake\n",
            "eigen-eigen-2249f9c22fe8/bench/btl/cmake/FindBlitz.cmake\n",
            "eigen-eigen-2249f9c22fe8/bench/btl/cmake/FindCBLAS.cmake\n",
            "eigen-eigen-2249f9c22fe8/bench/btl/cmake/FindGMM.cmake\n",
            "eigen-eigen-2249f9c22fe8/bench/btl/cmake/FindGOTO.cmake\n",
            "eigen-eigen-2249f9c22fe8/bench/btl/cmake/FindGOTO2.cmake\n",
            "eigen-eigen-2249f9c22fe8/bench/btl/cmake/FindMKL.cmake\n",
            "eigen-eigen-2249f9c22fe8/bench/btl/cmake/FindMTL4.cmake\n",
            "eigen-eigen-2249f9c22fe8/bench/btl/cmake/FindPackageHandleStandardArgs.cmake\n",
            "eigen-eigen-2249f9c22fe8/bench/btl/cmake/FindTvmet.cmake\n",
            "eigen-eigen-2249f9c22fe8/bench/btl/cmake/MacroOptionalAddSubdirectory.cmake\n",
            "eigen-eigen-2249f9c22fe8/bench/btl/data/CMakeLists.txt\n",
            "eigen-eigen-2249f9c22fe8/bench/btl/data/action_settings.txt\n",
            "eigen-eigen-2249f9c22fe8/bench/btl/data/gnuplot_common_settings.hh\n",
            "eigen-eigen-2249f9c22fe8/bench/btl/data/go_mean\n",
            "eigen-eigen-2249f9c22fe8/bench/btl/data/mean.cxx\n",
            "eigen-eigen-2249f9c22fe8/bench/btl/data/mk_gnuplot_script.sh\n",
            "eigen-eigen-2249f9c22fe8/bench/btl/data/mk_mean_script.sh\n",
            "eigen-eigen-2249f9c22fe8/bench/btl/data/mk_new_gnuplot.sh\n",
            "eigen-eigen-2249f9c22fe8/bench/btl/data/perlib_plot_settings.txt\n",
            "eigen-eigen-2249f9c22fe8/bench/btl/data/regularize.cxx\n",
            "eigen-eigen-2249f9c22fe8/bench/btl/data/smooth.cxx\n",
            "eigen-eigen-2249f9c22fe8/bench/btl/data/smooth_all.sh\n",
            "eigen-eigen-2249f9c22fe8/bench/btl/generic_bench/bench.hh\n",
            "eigen-eigen-2249f9c22fe8/bench/btl/generic_bench/bench_parameter.hh\n",
            "eigen-eigen-2249f9c22fe8/bench/btl/generic_bench/btl.hh\n",
            "eigen-eigen-2249f9c22fe8/bench/btl/generic_bench/init/init_function.hh\n",
            "eigen-eigen-2249f9c22fe8/bench/btl/generic_bench/init/init_matrix.hh\n",
            "eigen-eigen-2249f9c22fe8/bench/btl/generic_bench/init/init_vector.hh\n",
            "eigen-eigen-2249f9c22fe8/bench/btl/generic_bench/static/bench_static.hh\n",
            "eigen-eigen-2249f9c22fe8/bench/btl/generic_bench/static/intel_bench_fixed_size.hh\n",
            "eigen-eigen-2249f9c22fe8/bench/btl/generic_bench/static/static_size_generator.hh\n",
            "eigen-eigen-2249f9c22fe8/bench/btl/generic_bench/timers/STL_perf_analyzer.hh\n",
            "eigen-eigen-2249f9c22fe8/bench/btl/generic_bench/timers/STL_timer.hh\n",
            "eigen-eigen-2249f9c22fe8/bench/btl/generic_bench/timers/mixed_perf_analyzer.hh\n",
            "eigen-eigen-2249f9c22fe8/bench/btl/generic_bench/timers/portable_perf_analyzer.hh\n",
            "eigen-eigen-2249f9c22fe8/bench/btl/generic_bench/timers/portable_perf_analyzer_old.hh\n",
            "eigen-eigen-2249f9c22fe8/bench/btl/generic_bench/timers/portable_timer.hh\n",
            "eigen-eigen-2249f9c22fe8/bench/btl/generic_bench/timers/x86_perf_analyzer.hh\n",
            "eigen-eigen-2249f9c22fe8/bench/btl/generic_bench/timers/x86_timer.hh\n",
            "eigen-eigen-2249f9c22fe8/bench/btl/generic_bench/utils/size_lin_log.hh\n",
            "eigen-eigen-2249f9c22fe8/bench/btl/generic_bench/utils/size_log.hh\n",
            "eigen-eigen-2249f9c22fe8/bench/btl/generic_bench/utils/utilities.h\n",
            "eigen-eigen-2249f9c22fe8/bench/btl/generic_bench/utils/xy_file.hh\n",
            "eigen-eigen-2249f9c22fe8/bench/btl/libs/BLAS/CMakeLists.txt\n",
            "eigen-eigen-2249f9c22fe8/bench/btl/libs/BLAS/blas.h\n",
            "eigen-eigen-2249f9c22fe8/bench/btl/libs/BLAS/blas_interface.hh\n",
            "eigen-eigen-2249f9c22fe8/bench/btl/libs/BLAS/blas_interface_impl.hh\n",
            "eigen-eigen-2249f9c22fe8/bench/btl/libs/BLAS/c_interface_base.h\n",
            "eigen-eigen-2249f9c22fe8/bench/btl/libs/BLAS/main.cpp\n",
            "eigen-eigen-2249f9c22fe8/bench/btl/libs/STL/CMakeLists.txt\n",
            "eigen-eigen-2249f9c22fe8/bench/btl/libs/STL/STL_interface.hh\n",
            "eigen-eigen-2249f9c22fe8/bench/btl/libs/STL/main.cpp\n",
            "eigen-eigen-2249f9c22fe8/bench/btl/libs/blitz/CMakeLists.txt\n",
            "eigen-eigen-2249f9c22fe8/bench/btl/libs/blitz/blitz_LU_solve_interface.hh\n",
            "eigen-eigen-2249f9c22fe8/bench/btl/libs/blitz/blitz_interface.hh\n",
            "eigen-eigen-2249f9c22fe8/bench/btl/libs/blitz/btl_blitz.cpp\n",
            "eigen-eigen-2249f9c22fe8/bench/btl/libs/blitz/btl_tiny_blitz.cpp\n",
            "eigen-eigen-2249f9c22fe8/bench/btl/libs/blitz/tiny_blitz_interface.hh\n",
            "eigen-eigen-2249f9c22fe8/bench/btl/libs/eigen2/CMakeLists.txt\n",
            "eigen-eigen-2249f9c22fe8/bench/btl/libs/eigen2/btl_tiny_eigen2.cpp\n",
            "eigen-eigen-2249f9c22fe8/bench/btl/libs/eigen2/eigen2_interface.hh\n",
            "eigen-eigen-2249f9c22fe8/bench/btl/libs/eigen2/main_adv.cpp\n",
            "eigen-eigen-2249f9c22fe8/bench/btl/libs/eigen2/main_linear.cpp\n",
            "eigen-eigen-2249f9c22fe8/bench/btl/libs/eigen2/main_matmat.cpp\n",
            "eigen-eigen-2249f9c22fe8/bench/btl/libs/eigen2/main_vecmat.cpp\n",
            "eigen-eigen-2249f9c22fe8/bench/btl/libs/eigen3/CMakeLists.txt\n",
            "eigen-eigen-2249f9c22fe8/bench/btl/libs/eigen3/btl_tiny_eigen3.cpp\n",
            "eigen-eigen-2249f9c22fe8/bench/btl/libs/eigen3/eigen3_interface.hh\n",
            "eigen-eigen-2249f9c22fe8/bench/btl/libs/eigen3/main_adv.cpp\n",
            "eigen-eigen-2249f9c22fe8/bench/btl/libs/eigen3/main_linear.cpp\n",
            "eigen-eigen-2249f9c22fe8/bench/btl/libs/eigen3/main_matmat.cpp\n",
            "eigen-eigen-2249f9c22fe8/bench/btl/libs/eigen3/main_vecmat.cpp\n",
            "eigen-eigen-2249f9c22fe8/bench/btl/libs/gmm/CMakeLists.txt\n",
            "eigen-eigen-2249f9c22fe8/bench/btl/libs/gmm/gmm_LU_solve_interface.hh\n",
            "eigen-eigen-2249f9c22fe8/bench/btl/libs/gmm/gmm_interface.hh\n",
            "eigen-eigen-2249f9c22fe8/bench/btl/libs/gmm/main.cpp\n",
            "eigen-eigen-2249f9c22fe8/bench/btl/libs/mtl4/.kdbgrc.main\n",
            "eigen-eigen-2249f9c22fe8/bench/btl/libs/mtl4/CMakeLists.txt\n",
            "eigen-eigen-2249f9c22fe8/bench/btl/libs/mtl4/main.cpp\n",
            "eigen-eigen-2249f9c22fe8/bench/btl/libs/mtl4/mtl4_LU_solve_interface.hh\n",
            "eigen-eigen-2249f9c22fe8/bench/btl/libs/mtl4/mtl4_interface.hh\n",
            "eigen-eigen-2249f9c22fe8/bench/btl/libs/tvmet/CMakeLists.txt\n",
            "eigen-eigen-2249f9c22fe8/bench/btl/libs/tvmet/main.cpp\n",
            "eigen-eigen-2249f9c22fe8/bench/btl/libs/tvmet/tvmet_interface.hh\n",
            "eigen-eigen-2249f9c22fe8/bench/btl/libs/ublas/CMakeLists.txt\n",
            "eigen-eigen-2249f9c22fe8/bench/btl/libs/ublas/main.cpp\n",
            "eigen-eigen-2249f9c22fe8/bench/btl/libs/ublas/ublas_interface.hh\n",
            "eigen-eigen-2249f9c22fe8/bench/check_cache_queries.cpp\n",
            "eigen-eigen-2249f9c22fe8/bench/eig33.cpp\n",
            "eigen-eigen-2249f9c22fe8/bench/geometry.cpp\n",
            "eigen-eigen-2249f9c22fe8/bench/product_threshold.cpp\n",
            "eigen-eigen-2249f9c22fe8/bench/quat_slerp.cpp\n",
            "eigen-eigen-2249f9c22fe8/bench/quatmul.cpp\n",
            "eigen-eigen-2249f9c22fe8/bench/sparse_cholesky.cpp\n",
            "eigen-eigen-2249f9c22fe8/bench/sparse_dense_product.cpp\n",
            "eigen-eigen-2249f9c22fe8/bench/sparse_lu.cpp\n",
            "eigen-eigen-2249f9c22fe8/bench/sparse_product.cpp\n",
            "eigen-eigen-2249f9c22fe8/bench/sparse_randomsetter.cpp\n",
            "eigen-eigen-2249f9c22fe8/bench/sparse_setter.cpp\n",
            "eigen-eigen-2249f9c22fe8/bench/sparse_transpose.cpp\n",
            "eigen-eigen-2249f9c22fe8/bench/sparse_trisolver.cpp\n",
            "eigen-eigen-2249f9c22fe8/bench/spbench/CMakeLists.txt\n",
            "eigen-eigen-2249f9c22fe8/bench/spbench/spbenchsolver.cpp\n",
            "eigen-eigen-2249f9c22fe8/bench/spbench/spbenchsolver.h\n",
            "eigen-eigen-2249f9c22fe8/bench/spmv.cpp\n",
            "eigen-eigen-2249f9c22fe8/bench/vdw_new.cpp\n",
            "eigen-eigen-2249f9c22fe8/blas/BandTriangularSolver.h\n",
            "eigen-eigen-2249f9c22fe8/blas/CMakeLists.txt\n",
            "eigen-eigen-2249f9c22fe8/blas/README.txt\n",
            "eigen-eigen-2249f9c22fe8/blas/chbmv.f\n",
            "eigen-eigen-2249f9c22fe8/blas/chpmv.f\n",
            "eigen-eigen-2249f9c22fe8/blas/chpr.f\n",
            "eigen-eigen-2249f9c22fe8/blas/chpr2.f\n",
            "eigen-eigen-2249f9c22fe8/blas/common.h\n",
            "eigen-eigen-2249f9c22fe8/blas/complex_double.cpp\n",
            "eigen-eigen-2249f9c22fe8/blas/complex_single.cpp\n",
            "eigen-eigen-2249f9c22fe8/blas/complexdots.f\n",
            "eigen-eigen-2249f9c22fe8/blas/ctbmv.f\n",
            "eigen-eigen-2249f9c22fe8/blas/ctpmv.f\n",
            "eigen-eigen-2249f9c22fe8/blas/ctpsv.f\n",
            "eigen-eigen-2249f9c22fe8/blas/double.cpp\n",
            "eigen-eigen-2249f9c22fe8/blas/drotm.f\n",
            "eigen-eigen-2249f9c22fe8/blas/drotmg.f\n",
            "eigen-eigen-2249f9c22fe8/blas/dsbmv.f\n",
            "eigen-eigen-2249f9c22fe8/blas/dspmv.f\n",
            "eigen-eigen-2249f9c22fe8/blas/dspr.f\n",
            "eigen-eigen-2249f9c22fe8/blas/dspr2.f\n",
            "eigen-eigen-2249f9c22fe8/blas/dtbmv.f\n",
            "eigen-eigen-2249f9c22fe8/blas/dtpmv.f\n",
            "eigen-eigen-2249f9c22fe8/blas/dtpsv.f\n",
            "eigen-eigen-2249f9c22fe8/blas/level1_cplx_impl.h\n",
            "eigen-eigen-2249f9c22fe8/blas/level1_impl.h\n",
            "eigen-eigen-2249f9c22fe8/blas/level1_real_impl.h\n",
            "eigen-eigen-2249f9c22fe8/blas/level2_cplx_impl.h\n",
            "eigen-eigen-2249f9c22fe8/blas/level2_impl.h\n",
            "eigen-eigen-2249f9c22fe8/blas/level2_real_impl.h\n",
            "eigen-eigen-2249f9c22fe8/blas/level3_impl.h\n",
            "eigen-eigen-2249f9c22fe8/blas/lsame.f\n",
            "eigen-eigen-2249f9c22fe8/blas/single.cpp\n",
            "eigen-eigen-2249f9c22fe8/blas/srotm.f\n",
            "eigen-eigen-2249f9c22fe8/blas/srotmg.f\n",
            "eigen-eigen-2249f9c22fe8/blas/ssbmv.f\n",
            "eigen-eigen-2249f9c22fe8/blas/sspmv.f\n",
            "eigen-eigen-2249f9c22fe8/blas/sspr.f\n",
            "eigen-eigen-2249f9c22fe8/blas/sspr2.f\n",
            "eigen-eigen-2249f9c22fe8/blas/stbmv.f\n",
            "eigen-eigen-2249f9c22fe8/blas/stpmv.f\n",
            "eigen-eigen-2249f9c22fe8/blas/stpsv.f\n",
            "eigen-eigen-2249f9c22fe8/blas/testing/CMakeLists.txt\n",
            "eigen-eigen-2249f9c22fe8/blas/testing/cblat1.f\n",
            "eigen-eigen-2249f9c22fe8/blas/testing/cblat2.dat\n",
            "eigen-eigen-2249f9c22fe8/blas/testing/cblat2.f\n",
            "eigen-eigen-2249f9c22fe8/blas/testing/cblat3.dat\n",
            "eigen-eigen-2249f9c22fe8/blas/testing/cblat3.f\n",
            "eigen-eigen-2249f9c22fe8/blas/testing/dblat1.f\n",
            "eigen-eigen-2249f9c22fe8/blas/testing/dblat2.dat\n",
            "eigen-eigen-2249f9c22fe8/blas/testing/dblat2.f\n",
            "eigen-eigen-2249f9c22fe8/blas/testing/dblat3.dat\n",
            "eigen-eigen-2249f9c22fe8/blas/testing/dblat3.f\n",
            "eigen-eigen-2249f9c22fe8/blas/testing/runblastest.sh\n",
            "eigen-eigen-2249f9c22fe8/blas/testing/sblat1.f\n",
            "eigen-eigen-2249f9c22fe8/blas/testing/sblat2.dat\n",
            "eigen-eigen-2249f9c22fe8/blas/testing/sblat2.f\n",
            "eigen-eigen-2249f9c22fe8/blas/testing/sblat3.dat\n",
            "eigen-eigen-2249f9c22fe8/blas/testing/sblat3.f\n",
            "eigen-eigen-2249f9c22fe8/blas/testing/zblat1.f\n",
            "eigen-eigen-2249f9c22fe8/blas/testing/zblat2.dat\n",
            "eigen-eigen-2249f9c22fe8/blas/testing/zblat2.f\n",
            "eigen-eigen-2249f9c22fe8/blas/testing/zblat3.dat\n",
            "eigen-eigen-2249f9c22fe8/blas/testing/zblat3.f\n",
            "eigen-eigen-2249f9c22fe8/blas/xerbla.cpp\n",
            "eigen-eigen-2249f9c22fe8/blas/zhbmv.f\n",
            "eigen-eigen-2249f9c22fe8/blas/zhpmv.f\n",
            "eigen-eigen-2249f9c22fe8/blas/zhpr.f\n",
            "eigen-eigen-2249f9c22fe8/blas/zhpr2.f\n",
            "eigen-eigen-2249f9c22fe8/blas/ztbmv.f\n",
            "eigen-eigen-2249f9c22fe8/blas/ztpmv.f\n",
            "eigen-eigen-2249f9c22fe8/blas/ztpsv.f\n",
            "eigen-eigen-2249f9c22fe8/cmake/CMakeDetermineVSServicePack.cmake\n",
            "eigen-eigen-2249f9c22fe8/cmake/EigenConfigureTesting.cmake\n",
            "eigen-eigen-2249f9c22fe8/cmake/EigenDetermineOSVersion.cmake\n",
            "eigen-eigen-2249f9c22fe8/cmake/EigenTesting.cmake\n",
            "eigen-eigen-2249f9c22fe8/cmake/FindAdolc.cmake\n",
            "eigen-eigen-2249f9c22fe8/cmake/FindBLAS.cmake\n",
            "eigen-eigen-2249f9c22fe8/cmake/FindCholmod.cmake\n",
            "eigen-eigen-2249f9c22fe8/cmake/FindEigen2.cmake\n",
            "eigen-eigen-2249f9c22fe8/cmake/FindEigen3.cmake\n",
            "eigen-eigen-2249f9c22fe8/cmake/FindFFTW.cmake\n",
            "eigen-eigen-2249f9c22fe8/cmake/FindGLEW.cmake\n",
            "eigen-eigen-2249f9c22fe8/cmake/FindGMP.cmake\n",
            "eigen-eigen-2249f9c22fe8/cmake/FindGSL.cmake\n",
            "eigen-eigen-2249f9c22fe8/cmake/FindGoogleHash.cmake\n",
            "eigen-eigen-2249f9c22fe8/cmake/FindLAPACK.cmake\n",
            "eigen-eigen-2249f9c22fe8/cmake/FindMPFR.cmake\n",
            "eigen-eigen-2249f9c22fe8/cmake/FindMetis.cmake\n",
            "eigen-eigen-2249f9c22fe8/cmake/FindPastix.cmake\n",
            "eigen-eigen-2249f9c22fe8/cmake/FindScotch.cmake\n",
            "eigen-eigen-2249f9c22fe8/cmake/FindStandardMathLibrary.cmake\n",
            "eigen-eigen-2249f9c22fe8/cmake/FindSuperLU.cmake\n",
            "eigen-eigen-2249f9c22fe8/cmake/FindUmfpack.cmake\n",
            "eigen-eigen-2249f9c22fe8/cmake/RegexUtils.cmake\n",
            "eigen-eigen-2249f9c22fe8/cmake/language_support.cmake\n",
            "eigen-eigen-2249f9c22fe8/debug/gdb/__init__.py\n",
            "eigen-eigen-2249f9c22fe8/debug/gdb/printers.py\n",
            "eigen-eigen-2249f9c22fe8/debug/msvc/eigen_autoexp_part.dat\n",
            "eigen-eigen-2249f9c22fe8/demos/CMakeLists.txt\n",
            "eigen-eigen-2249f9c22fe8/demos/mandelbrot/CMakeLists.txt\n",
            "eigen-eigen-2249f9c22fe8/demos/mandelbrot/README\n",
            "eigen-eigen-2249f9c22fe8/demos/mandelbrot/mandelbrot.cpp\n",
            "eigen-eigen-2249f9c22fe8/demos/mandelbrot/mandelbrot.h\n",
            "eigen-eigen-2249f9c22fe8/demos/mix_eigen_and_c/README\n",
            "eigen-eigen-2249f9c22fe8/demos/mix_eigen_and_c/binary_library.cpp\n",
            "eigen-eigen-2249f9c22fe8/demos/mix_eigen_and_c/binary_library.h\n",
            "eigen-eigen-2249f9c22fe8/demos/mix_eigen_and_c/example.c\n",
            "eigen-eigen-2249f9c22fe8/demos/opengl/CMakeLists.txt\n",
            "eigen-eigen-2249f9c22fe8/demos/opengl/README\n",
            "eigen-eigen-2249f9c22fe8/demos/opengl/camera.cpp\n",
            "eigen-eigen-2249f9c22fe8/demos/opengl/camera.h\n",
            "eigen-eigen-2249f9c22fe8/demos/opengl/gpuhelper.cpp\n",
            "eigen-eigen-2249f9c22fe8/demos/opengl/gpuhelper.h\n",
            "eigen-eigen-2249f9c22fe8/demos/opengl/icosphere.cpp\n",
            "eigen-eigen-2249f9c22fe8/demos/opengl/icosphere.h\n",
            "eigen-eigen-2249f9c22fe8/demos/opengl/quaternion_demo.cpp\n",
            "eigen-eigen-2249f9c22fe8/demos/opengl/quaternion_demo.h\n",
            "eigen-eigen-2249f9c22fe8/demos/opengl/trackball.cpp\n",
            "eigen-eigen-2249f9c22fe8/demos/opengl/trackball.h\n",
            "eigen-eigen-2249f9c22fe8/doc/A05_PortingFrom2To3.dox\n",
            "eigen-eigen-2249f9c22fe8/doc/A10_Eigen2SupportModes.dox\n",
            "eigen-eigen-2249f9c22fe8/doc/AsciiQuickReference.txt\n",
            "eigen-eigen-2249f9c22fe8/doc/B01_Experimental.dox\n",
            "eigen-eigen-2249f9c22fe8/doc/C00_QuickStartGuide.dox\n",
            "eigen-eigen-2249f9c22fe8/doc/C01_TutorialMatrixClass.dox\n",
            "eigen-eigen-2249f9c22fe8/doc/C02_TutorialMatrixArithmetic.dox\n",
            "eigen-eigen-2249f9c22fe8/doc/C03_TutorialArrayClass.dox\n",
            "eigen-eigen-2249f9c22fe8/doc/C04_TutorialBlockOperations.dox\n",
            "eigen-eigen-2249f9c22fe8/doc/C05_TutorialAdvancedInitialization.dox\n",
            "eigen-eigen-2249f9c22fe8/doc/C06_TutorialLinearAlgebra.dox\n",
            "eigen-eigen-2249f9c22fe8/doc/C07_TutorialReductionsVisitorsBroadcasting.dox\n",
            "eigen-eigen-2249f9c22fe8/doc/C08_TutorialGeometry.dox\n",
            "eigen-eigen-2249f9c22fe8/doc/C09_TutorialSparse.dox\n",
            "eigen-eigen-2249f9c22fe8/doc/C10_TutorialMapClass.dox\n",
            "eigen-eigen-2249f9c22fe8/doc/CMakeLists.txt\n",
            "eigen-eigen-2249f9c22fe8/doc/D01_StlContainers.dox\n",
            "eigen-eigen-2249f9c22fe8/doc/D03_WrongStackAlignment.dox\n",
            "eigen-eigen-2249f9c22fe8/doc/D07_PassingByValue.dox\n",
            "eigen-eigen-2249f9c22fe8/doc/D09_StructHavingEigenMembers.dox\n",
            "eigen-eigen-2249f9c22fe8/doc/D11_UnalignedArrayAssert.dox\n",
            "eigen-eigen-2249f9c22fe8/doc/Doxyfile.in\n",
            "eigen-eigen-2249f9c22fe8/doc/Eigen_Silly_Professor_64x64.png\n",
            "eigen-eigen-2249f9c22fe8/doc/I00_CustomizingEigen.dox\n",
            "eigen-eigen-2249f9c22fe8/doc/I01_TopicLazyEvaluation.dox\n",
            "eigen-eigen-2249f9c22fe8/doc/I02_HiPerformance.dox\n",
            "eigen-eigen-2249f9c22fe8/doc/I03_InsideEigenExample.dox\n",
            "eigen-eigen-2249f9c22fe8/doc/I05_FixedSizeVectorizable.dox\n",
            "eigen-eigen-2249f9c22fe8/doc/I06_TopicEigenExpressionTemplates.dox\n",
            "eigen-eigen-2249f9c22fe8/doc/I07_TopicScalarTypes.dox\n",
            "eigen-eigen-2249f9c22fe8/doc/I08_Resizing.dox\n",
            "eigen-eigen-2249f9c22fe8/doc/I09_Vectorization.dox\n",
            "eigen-eigen-2249f9c22fe8/doc/I10_Assertions.dox\n",
            "eigen-eigen-2249f9c22fe8/doc/I11_Aliasing.dox\n",
            "eigen-eigen-2249f9c22fe8/doc/I12_ClassHierarchy.dox\n",
            "eigen-eigen-2249f9c22fe8/doc/I13_FunctionsTakingEigenTypes.dox\n",
            "eigen-eigen-2249f9c22fe8/doc/I14_PreprocessorDirectives.dox\n",
            "eigen-eigen-2249f9c22fe8/doc/I15_StorageOrders.dox\n",
            "eigen-eigen-2249f9c22fe8/doc/I16_TemplateKeyword.dox\n",
            "eigen-eigen-2249f9c22fe8/doc/Overview.dox\n",
            "eigen-eigen-2249f9c22fe8/doc/QuickReference.dox\n",
            "eigen-eigen-2249f9c22fe8/doc/SparseQuickReference.dox\n",
            "eigen-eigen-2249f9c22fe8/doc/TopicLinearAlgebraDecompositions.dox\n",
            "eigen-eigen-2249f9c22fe8/doc/TopicMultithreading.dox\n",
            "eigen-eigen-2249f9c22fe8/doc/TutorialSparse_example_details.dox\n",
            "eigen-eigen-2249f9c22fe8/doc/UsingIntelMKL.dox\n",
            "eigen-eigen-2249f9c22fe8/doc/eigendoxy.css\n",
            "eigen-eigen-2249f9c22fe8/doc/eigendoxy_footer.html.in\n",
            "eigen-eigen-2249f9c22fe8/doc/eigendoxy_header.html.in\n",
            "eigen-eigen-2249f9c22fe8/doc/eigendoxy_tabs.css\n",
            "eigen-eigen-2249f9c22fe8/doc/examples/.krazy\n",
            "eigen-eigen-2249f9c22fe8/doc/examples/CMakeLists.txt\n",
            "eigen-eigen-2249f9c22fe8/doc/examples/DenseBase_middleCols_int.cpp\n",
            "eigen-eigen-2249f9c22fe8/doc/examples/DenseBase_middleRows_int.cpp\n",
            "eigen-eigen-2249f9c22fe8/doc/examples/DenseBase_template_int_middleCols.cpp\n",
            "eigen-eigen-2249f9c22fe8/doc/examples/DenseBase_template_int_middleRows.cpp\n",
            "eigen-eigen-2249f9c22fe8/doc/examples/MatrixBase_cwise_const.cpp\n",
            "eigen-eigen-2249f9c22fe8/doc/examples/QuickStart_example.cpp\n",
            "eigen-eigen-2249f9c22fe8/doc/examples/QuickStart_example2_dynamic.cpp\n",
            "eigen-eigen-2249f9c22fe8/doc/examples/QuickStart_example2_fixed.cpp\n",
            "eigen-eigen-2249f9c22fe8/doc/examples/TemplateKeyword_flexible.cpp\n",
            "eigen-eigen-2249f9c22fe8/doc/examples/TemplateKeyword_simple.cpp\n",
            "eigen-eigen-2249f9c22fe8/doc/examples/TutorialLinAlgComputeTwice.cpp\n",
            "eigen-eigen-2249f9c22fe8/doc/examples/TutorialLinAlgExComputeSolveError.cpp\n",
            "eigen-eigen-2249f9c22fe8/doc/examples/TutorialLinAlgExSolveColPivHouseholderQR.cpp\n",
            "eigen-eigen-2249f9c22fe8/doc/examples/TutorialLinAlgExSolveLDLT.cpp\n",
            "eigen-eigen-2249f9c22fe8/doc/examples/TutorialLinAlgInverseDeterminant.cpp\n",
            "eigen-eigen-2249f9c22fe8/doc/examples/TutorialLinAlgRankRevealing.cpp\n",
            "eigen-eigen-2249f9c22fe8/doc/examples/TutorialLinAlgSVDSolve.cpp\n",
            "eigen-eigen-2249f9c22fe8/doc/examples/TutorialLinAlgSelfAdjointEigenSolver.cpp\n",
            "eigen-eigen-2249f9c22fe8/doc/examples/TutorialLinAlgSetThreshold.cpp\n",
            "eigen-eigen-2249f9c22fe8/doc/examples/Tutorial_ArrayClass_accessors.cpp\n",
            "eigen-eigen-2249f9c22fe8/doc/examples/Tutorial_ArrayClass_addition.cpp\n",
            "eigen-eigen-2249f9c22fe8/doc/examples/Tutorial_ArrayClass_cwise_other.cpp\n",
            "eigen-eigen-2249f9c22fe8/doc/examples/Tutorial_ArrayClass_interop.cpp\n",
            "eigen-eigen-2249f9c22fe8/doc/examples/Tutorial_ArrayClass_interop_matrix.cpp\n",
            "eigen-eigen-2249f9c22fe8/doc/examples/Tutorial_ArrayClass_mult.cpp\n",
            "eigen-eigen-2249f9c22fe8/doc/examples/Tutorial_BlockOperations_block_assignment.cpp\n",
            "eigen-eigen-2249f9c22fe8/doc/examples/Tutorial_BlockOperations_colrow.cpp\n",
            "eigen-eigen-2249f9c22fe8/doc/examples/Tutorial_BlockOperations_corner.cpp\n",
            "eigen-eigen-2249f9c22fe8/doc/examples/Tutorial_BlockOperations_print_block.cpp\n",
            "eigen-eigen-2249f9c22fe8/doc/examples/Tutorial_BlockOperations_vector.cpp\n",
            "eigen-eigen-2249f9c22fe8/doc/examples/Tutorial_PartialLU_solve.cpp\n",
            "eigen-eigen-2249f9c22fe8/doc/examples/Tutorial_ReductionsVisitorsBroadcasting_broadcast_1nn.cpp\n",
            "eigen-eigen-2249f9c22fe8/doc/examples/Tutorial_ReductionsVisitorsBroadcasting_broadcast_simple.cpp\n",
            "eigen-eigen-2249f9c22fe8/doc/examples/Tutorial_ReductionsVisitorsBroadcasting_broadcast_simple_rowwise.cpp\n",
            "eigen-eigen-2249f9c22fe8/doc/examples/Tutorial_ReductionsVisitorsBroadcasting_colwise.cpp\n",
            "eigen-eigen-2249f9c22fe8/doc/examples/Tutorial_ReductionsVisitorsBroadcasting_maxnorm.cpp\n",
            "eigen-eigen-2249f9c22fe8/doc/examples/Tutorial_ReductionsVisitorsBroadcasting_reductions_bool.cpp\n",
            "eigen-eigen-2249f9c22fe8/doc/examples/Tutorial_ReductionsVisitorsBroadcasting_reductions_norm.cpp\n",
            "eigen-eigen-2249f9c22fe8/doc/examples/Tutorial_ReductionsVisitorsBroadcasting_rowwise.cpp\n",
            "eigen-eigen-2249f9c22fe8/doc/examples/Tutorial_ReductionsVisitorsBroadcasting_visitors.cpp\n",
            "eigen-eigen-2249f9c22fe8/doc/examples/Tutorial_simple_example_dynamic_size.cpp\n",
            "eigen-eigen-2249f9c22fe8/doc/examples/Tutorial_simple_example_fixed_size.cpp\n",
            "eigen-eigen-2249f9c22fe8/doc/examples/class_Block.cpp\n",
            "eigen-eigen-2249f9c22fe8/doc/examples/class_CwiseBinaryOp.cpp\n",
            "eigen-eigen-2249f9c22fe8/doc/examples/class_CwiseUnaryOp.cpp\n",
            "eigen-eigen-2249f9c22fe8/doc/examples/class_CwiseUnaryOp_ptrfun.cpp\n",
            "eigen-eigen-2249f9c22fe8/doc/examples/class_FixedBlock.cpp\n",
            "eigen-eigen-2249f9c22fe8/doc/examples/class_FixedVectorBlock.cpp\n",
            "eigen-eigen-2249f9c22fe8/doc/examples/class_VectorBlock.cpp\n",
            "eigen-eigen-2249f9c22fe8/doc/examples/function_taking_eigenbase.cpp\n",
            "eigen-eigen-2249f9c22fe8/doc/examples/tut_arithmetic_add_sub.cpp\n",
            "eigen-eigen-2249f9c22fe8/doc/examples/tut_arithmetic_dot_cross.cpp\n",
            "eigen-eigen-2249f9c22fe8/doc/examples/tut_arithmetic_matrix_mul.cpp\n",
            "eigen-eigen-2249f9c22fe8/doc/examples/tut_arithmetic_redux_basic.cpp\n",
            "eigen-eigen-2249f9c22fe8/doc/examples/tut_arithmetic_scalar_mul_div.cpp\n",
            "eigen-eigen-2249f9c22fe8/doc/examples/tut_matrix_coefficient_accessors.cpp\n",
            "eigen-eigen-2249f9c22fe8/doc/examples/tut_matrix_resize.cpp\n",
            "eigen-eigen-2249f9c22fe8/doc/examples/tut_matrix_resize_fixed_size.cpp\n",
            "eigen-eigen-2249f9c22fe8/doc/snippets/.krazy\n",
            "eigen-eigen-2249f9c22fe8/doc/snippets/AngleAxis_mimic_euler.cpp\n",
            "eigen-eigen-2249f9c22fe8/doc/snippets/CMakeLists.txt\n",
            "eigen-eigen-2249f9c22fe8/doc/snippets/ColPivHouseholderQR_solve.cpp\n",
            "eigen-eigen-2249f9c22fe8/doc/snippets/ComplexEigenSolver_compute.cpp\n",
            "eigen-eigen-2249f9c22fe8/doc/snippets/ComplexEigenSolver_eigenvalues.cpp\n",
            "eigen-eigen-2249f9c22fe8/doc/snippets/ComplexEigenSolver_eigenvectors.cpp\n",
            "eigen-eigen-2249f9c22fe8/doc/snippets/ComplexSchur_compute.cpp\n",
            "eigen-eigen-2249f9c22fe8/doc/snippets/ComplexSchur_matrixT.cpp\n",
            "eigen-eigen-2249f9c22fe8/doc/snippets/ComplexSchur_matrixU.cpp\n",
            "eigen-eigen-2249f9c22fe8/doc/snippets/Cwise_abs.cpp\n",
            "eigen-eigen-2249f9c22fe8/doc/snippets/Cwise_abs2.cpp\n",
            "eigen-eigen-2249f9c22fe8/doc/snippets/Cwise_acos.cpp\n",
            "eigen-eigen-2249f9c22fe8/doc/snippets/Cwise_boolean_and.cpp\n",
            "eigen-eigen-2249f9c22fe8/doc/snippets/Cwise_boolean_or.cpp\n",
            "eigen-eigen-2249f9c22fe8/doc/snippets/Cwise_cos.cpp\n",
            "eigen-eigen-2249f9c22fe8/doc/snippets/Cwise_cube.cpp\n",
            "eigen-eigen-2249f9c22fe8/doc/snippets/Cwise_equal_equal.cpp\n",
            "eigen-eigen-2249f9c22fe8/doc/snippets/Cwise_exp.cpp\n",
            "eigen-eigen-2249f9c22fe8/doc/snippets/Cwise_greater.cpp\n",
            "eigen-eigen-2249f9c22fe8/doc/snippets/Cwise_greater_equal.cpp\n",
            "eigen-eigen-2249f9c22fe8/doc/snippets/Cwise_inverse.cpp\n",
            "eigen-eigen-2249f9c22fe8/doc/snippets/Cwise_less.cpp\n",
            "eigen-eigen-2249f9c22fe8/doc/snippets/Cwise_less_equal.cpp\n",
            "eigen-eigen-2249f9c22fe8/doc/snippets/Cwise_log.cpp\n",
            "eigen-eigen-2249f9c22fe8/doc/snippets/Cwise_max.cpp\n",
            "eigen-eigen-2249f9c22fe8/doc/snippets/Cwise_min.cpp\n",
            "eigen-eigen-2249f9c22fe8/doc/snippets/Cwise_minus.cpp\n",
            "eigen-eigen-2249f9c22fe8/doc/snippets/Cwise_minus_equal.cpp\n",
            "eigen-eigen-2249f9c22fe8/doc/snippets/Cwise_not_equal.cpp\n",
            "eigen-eigen-2249f9c22fe8/doc/snippets/Cwise_plus.cpp\n",
            "eigen-eigen-2249f9c22fe8/doc/snippets/Cwise_plus_equal.cpp\n",
            "eigen-eigen-2249f9c22fe8/doc/snippets/Cwise_pow.cpp\n",
            "eigen-eigen-2249f9c22fe8/doc/snippets/Cwise_product.cpp\n",
            "eigen-eigen-2249f9c22fe8/doc/snippets/Cwise_quotient.cpp\n",
            "eigen-eigen-2249f9c22fe8/doc/snippets/Cwise_sin.cpp\n",
            "eigen-eigen-2249f9c22fe8/doc/snippets/Cwise_slash_equal.cpp\n",
            "eigen-eigen-2249f9c22fe8/doc/snippets/Cwise_sqrt.cpp\n",
            "eigen-eigen-2249f9c22fe8/doc/snippets/Cwise_square.cpp\n",
            "eigen-eigen-2249f9c22fe8/doc/snippets/Cwise_tan.cpp\n",
            "eigen-eigen-2249f9c22fe8/doc/snippets/Cwise_times_equal.cpp\n",
            "eigen-eigen-2249f9c22fe8/doc/snippets/DenseBase_LinSpaced.cpp\n",
            "eigen-eigen-2249f9c22fe8/doc/snippets/DenseBase_LinSpaced_seq.cpp\n",
            "eigen-eigen-2249f9c22fe8/doc/snippets/DenseBase_setLinSpaced.cpp\n",
            "eigen-eigen-2249f9c22fe8/doc/snippets/DirectionWise_replicate.cpp\n",
            "eigen-eigen-2249f9c22fe8/doc/snippets/DirectionWise_replicate_int.cpp\n",
            "eigen-eigen-2249f9c22fe8/doc/snippets/EigenSolver_EigenSolver_MatrixType.cpp\n",
            "eigen-eigen-2249f9c22fe8/doc/snippets/EigenSolver_compute.cpp\n",
            "eigen-eigen-2249f9c22fe8/doc/snippets/EigenSolver_eigenvalues.cpp\n",
            "eigen-eigen-2249f9c22fe8/doc/snippets/EigenSolver_eigenvectors.cpp\n",
            "eigen-eigen-2249f9c22fe8/doc/snippets/EigenSolver_pseudoEigenvectors.cpp\n",
            "eigen-eigen-2249f9c22fe8/doc/snippets/FullPivHouseholderQR_solve.cpp\n",
            "eigen-eigen-2249f9c22fe8/doc/snippets/FullPivLU_image.cpp\n",
            "eigen-eigen-2249f9c22fe8/doc/snippets/FullPivLU_kernel.cpp\n",
            "eigen-eigen-2249f9c22fe8/doc/snippets/FullPivLU_solve.cpp\n",
            "eigen-eigen-2249f9c22fe8/doc/snippets/HessenbergDecomposition_compute.cpp\n",
            "eigen-eigen-2249f9c22fe8/doc/snippets/HessenbergDecomposition_matrixH.cpp\n",
            "eigen-eigen-2249f9c22fe8/doc/snippets/HessenbergDecomposition_packedMatrix.cpp\n",
            "eigen-eigen-2249f9c22fe8/doc/snippets/HouseholderQR_solve.cpp\n",
            "eigen-eigen-2249f9c22fe8/doc/snippets/HouseholderSequence_HouseholderSequence.cpp\n",
            "eigen-eigen-2249f9c22fe8/doc/snippets/IOFormat.cpp\n",
            "eigen-eigen-2249f9c22fe8/doc/snippets/JacobiSVD_basic.cpp\n",
            "eigen-eigen-2249f9c22fe8/doc/snippets/Jacobi_makeGivens.cpp\n",
            "eigen-eigen-2249f9c22fe8/doc/snippets/Jacobi_makeJacobi.cpp\n",
            "eigen-eigen-2249f9c22fe8/doc/snippets/LLT_example.cpp\n",
            "eigen-eigen-2249f9c22fe8/doc/snippets/LLT_solve.cpp\n",
            "eigen-eigen-2249f9c22fe8/doc/snippets/Map_general_stride.cpp\n",
            "eigen-eigen-2249f9c22fe8/doc/snippets/Map_inner_stride.cpp\n",
            "eigen-eigen-2249f9c22fe8/doc/snippets/Map_outer_stride.cpp\n",
            "eigen-eigen-2249f9c22fe8/doc/snippets/Map_placement_new.cpp\n",
            "eigen-eigen-2249f9c22fe8/doc/snippets/Map_simple.cpp\n",
            "eigen-eigen-2249f9c22fe8/doc/snippets/MatrixBase_adjoint.cpp\n",
            "eigen-eigen-2249f9c22fe8/doc/snippets/MatrixBase_all.cpp\n",
            "eigen-eigen-2249f9c22fe8/doc/snippets/MatrixBase_array.cpp\n",
            "eigen-eigen-2249f9c22fe8/doc/snippets/MatrixBase_array_const.cpp\n",
            "eigen-eigen-2249f9c22fe8/doc/snippets/MatrixBase_asDiagonal.cpp\n",
            "eigen-eigen-2249f9c22fe8/doc/snippets/MatrixBase_block_int_int.cpp\n",
            "eigen-eigen-2249f9c22fe8/doc/snippets/MatrixBase_block_int_int_int_int.cpp\n",
            "eigen-eigen-2249f9c22fe8/doc/snippets/MatrixBase_bottomLeftCorner_int_int.cpp\n",
            "eigen-eigen-2249f9c22fe8/doc/snippets/MatrixBase_bottomRightCorner_int_int.cpp\n",
            "eigen-eigen-2249f9c22fe8/doc/snippets/MatrixBase_bottomRows_int.cpp\n",
            "eigen-eigen-2249f9c22fe8/doc/snippets/MatrixBase_cast.cpp\n",
            "eigen-eigen-2249f9c22fe8/doc/snippets/MatrixBase_col.cpp\n",
            "eigen-eigen-2249f9c22fe8/doc/snippets/MatrixBase_colwise.cpp\n",
            "eigen-eigen-2249f9c22fe8/doc/snippets/MatrixBase_computeInverseAndDetWithCheck.cpp\n",
            "eigen-eigen-2249f9c22fe8/doc/snippets/MatrixBase_computeInverseWithCheck.cpp\n",
            "eigen-eigen-2249f9c22fe8/doc/snippets/MatrixBase_cwiseAbs.cpp\n",
            "eigen-eigen-2249f9c22fe8/doc/snippets/MatrixBase_cwiseAbs2.cpp\n",
            "eigen-eigen-2249f9c22fe8/doc/snippets/MatrixBase_cwiseEqual.cpp\n",
            "eigen-eigen-2249f9c22fe8/doc/snippets/MatrixBase_cwiseInverse.cpp\n",
            "eigen-eigen-2249f9c22fe8/doc/snippets/MatrixBase_cwiseMax.cpp\n",
            "eigen-eigen-2249f9c22fe8/doc/snippets/MatrixBase_cwiseMin.cpp\n",
            "eigen-eigen-2249f9c22fe8/doc/snippets/MatrixBase_cwiseNotEqual.cpp\n",
            "eigen-eigen-2249f9c22fe8/doc/snippets/MatrixBase_cwiseProduct.cpp\n",
            "eigen-eigen-2249f9c22fe8/doc/snippets/MatrixBase_cwiseQuotient.cpp\n",
            "eigen-eigen-2249f9c22fe8/doc/snippets/MatrixBase_cwiseSqrt.cpp\n",
            "eigen-eigen-2249f9c22fe8/doc/snippets/MatrixBase_diagonal.cpp\n",
            "eigen-eigen-2249f9c22fe8/doc/snippets/MatrixBase_diagonal_int.cpp\n",
            "eigen-eigen-2249f9c22fe8/doc/snippets/MatrixBase_diagonal_template_int.cpp\n",
            "eigen-eigen-2249f9c22fe8/doc/snippets/MatrixBase_eigenvalues.cpp\n",
            "eigen-eigen-2249f9c22fe8/doc/snippets/MatrixBase_end_int.cpp\n",
            "eigen-eigen-2249f9c22fe8/doc/snippets/MatrixBase_eval.cpp\n",
            "eigen-eigen-2249f9c22fe8/doc/snippets/MatrixBase_extract.cpp\n",
            "eigen-eigen-2249f9c22fe8/doc/snippets/MatrixBase_fixedBlock_int_int.cpp\n",
            "eigen-eigen-2249f9c22fe8/doc/snippets/MatrixBase_identity.cpp\n",
            "eigen-eigen-2249f9c22fe8/doc/snippets/MatrixBase_identity_int_int.cpp\n",
            "eigen-eigen-2249f9c22fe8/doc/snippets/MatrixBase_inverse.cpp\n",
            "eigen-eigen-2249f9c22fe8/doc/snippets/MatrixBase_isDiagonal.cpp\n",
            "eigen-eigen-2249f9c22fe8/doc/snippets/MatrixBase_isIdentity.cpp\n",
            "eigen-eigen-2249f9c22fe8/doc/snippets/MatrixBase_isOnes.cpp\n",
            "eigen-eigen-2249f9c22fe8/doc/snippets/MatrixBase_isOrthogonal.cpp\n",
            "eigen-eigen-2249f9c22fe8/doc/snippets/MatrixBase_isUnitary.cpp\n",
            "eigen-eigen-2249f9c22fe8/doc/snippets/MatrixBase_isZero.cpp\n",
            "eigen-eigen-2249f9c22fe8/doc/snippets/MatrixBase_leftCols_int.cpp\n",
            "eigen-eigen-2249f9c22fe8/doc/snippets/MatrixBase_marked.cpp\n",
            "eigen-eigen-2249f9c22fe8/doc/snippets/MatrixBase_noalias.cpp\n",
            "eigen-eigen-2249f9c22fe8/doc/snippets/MatrixBase_ones.cpp\n",
            "eigen-eigen-2249f9c22fe8/doc/snippets/MatrixBase_ones_int.cpp\n",
            "eigen-eigen-2249f9c22fe8/doc/snippets/MatrixBase_ones_int_int.cpp\n",
            "eigen-eigen-2249f9c22fe8/doc/snippets/MatrixBase_operatorNorm.cpp\n",
            "eigen-eigen-2249f9c22fe8/doc/snippets/MatrixBase_part.cpp\n",
            "eigen-eigen-2249f9c22fe8/doc/snippets/MatrixBase_prod.cpp\n",
            "eigen-eigen-2249f9c22fe8/doc/snippets/MatrixBase_random.cpp\n",
            "eigen-eigen-2249f9c22fe8/doc/snippets/MatrixBase_random_int.cpp\n",
            "eigen-eigen-2249f9c22fe8/doc/snippets/MatrixBase_random_int_int.cpp\n",
            "eigen-eigen-2249f9c22fe8/doc/snippets/MatrixBase_replicate.cpp\n",
            "eigen-eigen-2249f9c22fe8/doc/snippets/MatrixBase_replicate_int_int.cpp\n",
            "eigen-eigen-2249f9c22fe8/doc/snippets/MatrixBase_reverse.cpp\n",
            "eigen-eigen-2249f9c22fe8/doc/snippets/MatrixBase_rightCols_int.cpp\n",
            "eigen-eigen-2249f9c22fe8/doc/snippets/MatrixBase_row.cpp\n",
            "eigen-eigen-2249f9c22fe8/doc/snippets/MatrixBase_rowwise.cpp\n",
            "eigen-eigen-2249f9c22fe8/doc/snippets/MatrixBase_segment_int_int.cpp\n",
            "eigen-eigen-2249f9c22fe8/doc/snippets/MatrixBase_select.cpp\n",
            "eigen-eigen-2249f9c22fe8/doc/snippets/MatrixBase_set.cpp\n",
            "eigen-eigen-2249f9c22fe8/doc/snippets/MatrixBase_setIdentity.cpp\n",
            "eigen-eigen-2249f9c22fe8/doc/snippets/MatrixBase_setOnes.cpp\n",
            "eigen-eigen-2249f9c22fe8/doc/snippets/MatrixBase_setRandom.cpp\n",
            "eigen-eigen-2249f9c22fe8/doc/snippets/MatrixBase_setZero.cpp\n",
            "eigen-eigen-2249f9c22fe8/doc/snippets/MatrixBase_start_int.cpp\n",
            "eigen-eigen-2249f9c22fe8/doc/snippets/MatrixBase_template_int_bottomRows.cpp\n",
            "eigen-eigen-2249f9c22fe8/doc/snippets/MatrixBase_template_int_end.cpp\n",
            "eigen-eigen-2249f9c22fe8/doc/snippets/MatrixBase_template_int_int_bottomLeftCorner.cpp\n",
            "eigen-eigen-2249f9c22fe8/doc/snippets/MatrixBase_template_int_int_bottomRightCorner.cpp\n",
            "eigen-eigen-2249f9c22fe8/doc/snippets/MatrixBase_template_int_int_topLeftCorner.cpp\n",
            "eigen-eigen-2249f9c22fe8/doc/snippets/MatrixBase_template_int_int_topRightCorner.cpp\n",
            "eigen-eigen-2249f9c22fe8/doc/snippets/MatrixBase_template_int_leftCols.cpp\n",
            "eigen-eigen-2249f9c22fe8/doc/snippets/MatrixBase_template_int_rightCols.cpp\n",
            "eigen-eigen-2249f9c22fe8/doc/snippets/MatrixBase_template_int_segment.cpp\n",
            "eigen-eigen-2249f9c22fe8/doc/snippets/MatrixBase_template_int_start.cpp\n",
            "eigen-eigen-2249f9c22fe8/doc/snippets/MatrixBase_template_int_topRows.cpp\n",
            "eigen-eigen-2249f9c22fe8/doc/snippets/MatrixBase_topLeftCorner_int_int.cpp\n",
            "eigen-eigen-2249f9c22fe8/doc/snippets/MatrixBase_topRightCorner_int_int.cpp\n",
            "eigen-eigen-2249f9c22fe8/doc/snippets/MatrixBase_topRows_int.cpp\n",
            "eigen-eigen-2249f9c22fe8/doc/snippets/MatrixBase_transpose.cpp\n",
            "eigen-eigen-2249f9c22fe8/doc/snippets/MatrixBase_zero.cpp\n",
            "eigen-eigen-2249f9c22fe8/doc/snippets/MatrixBase_zero_int.cpp\n",
            "eigen-eigen-2249f9c22fe8/doc/snippets/MatrixBase_zero_int_int.cpp\n",
            "eigen-eigen-2249f9c22fe8/doc/snippets/Matrix_resize_NoChange_int.cpp\n",
            "eigen-eigen-2249f9c22fe8/doc/snippets/Matrix_resize_int.cpp\n",
            "eigen-eigen-2249f9c22fe8/doc/snippets/Matrix_resize_int_NoChange.cpp\n",
            "eigen-eigen-2249f9c22fe8/doc/snippets/Matrix_resize_int_int.cpp\n",
            "eigen-eigen-2249f9c22fe8/doc/snippets/Matrix_setConstant_int.cpp\n",
            "eigen-eigen-2249f9c22fe8/doc/snippets/Matrix_setConstant_int_int.cpp\n",
            "eigen-eigen-2249f9c22fe8/doc/snippets/Matrix_setIdentity_int_int.cpp\n",
            "eigen-eigen-2249f9c22fe8/doc/snippets/Matrix_setOnes_int.cpp\n",
            "eigen-eigen-2249f9c22fe8/doc/snippets/Matrix_setOnes_int_int.cpp\n",
            "eigen-eigen-2249f9c22fe8/doc/snippets/Matrix_setRandom_int.cpp\n",
            "eigen-eigen-2249f9c22fe8/doc/snippets/Matrix_setRandom_int_int.cpp\n",
            "eigen-eigen-2249f9c22fe8/doc/snippets/Matrix_setZero_int.cpp\n",
            "eigen-eigen-2249f9c22fe8/doc/snippets/Matrix_setZero_int_int.cpp\n",
            "eigen-eigen-2249f9c22fe8/doc/snippets/PartialPivLU_solve.cpp\n",
            "eigen-eigen-2249f9c22fe8/doc/snippets/PartialRedux_count.cpp\n",
            "eigen-eigen-2249f9c22fe8/doc/snippets/PartialRedux_maxCoeff.cpp\n",
            "eigen-eigen-2249f9c22fe8/doc/snippets/PartialRedux_minCoeff.cpp\n",
            "eigen-eigen-2249f9c22fe8/doc/snippets/PartialRedux_norm.cpp\n",
            "eigen-eigen-2249f9c22fe8/doc/snippets/PartialRedux_prod.cpp\n",
            "eigen-eigen-2249f9c22fe8/doc/snippets/PartialRedux_squaredNorm.cpp\n",
            "eigen-eigen-2249f9c22fe8/doc/snippets/PartialRedux_sum.cpp\n",
            "eigen-eigen-2249f9c22fe8/doc/snippets/RealSchur_RealSchur_MatrixType.cpp\n",
            "eigen-eigen-2249f9c22fe8/doc/snippets/RealSchur_compute.cpp\n",
            "eigen-eigen-2249f9c22fe8/doc/snippets/SelfAdjointEigenSolver_SelfAdjointEigenSolver.cpp\n",
            "eigen-eigen-2249f9c22fe8/doc/snippets/SelfAdjointEigenSolver_SelfAdjointEigenSolver_MatrixType.cpp\n",
            "eigen-eigen-2249f9c22fe8/doc/snippets/SelfAdjointEigenSolver_SelfAdjointEigenSolver_MatrixType2.cpp\n",
            "eigen-eigen-2249f9c22fe8/doc/snippets/SelfAdjointEigenSolver_compute_MatrixType.cpp\n",
            "eigen-eigen-2249f9c22fe8/doc/snippets/SelfAdjointEigenSolver_compute_MatrixType2.cpp\n",
            "eigen-eigen-2249f9c22fe8/doc/snippets/SelfAdjointEigenSolver_eigenvalues.cpp\n",
            "eigen-eigen-2249f9c22fe8/doc/snippets/SelfAdjointEigenSolver_eigenvectors.cpp\n",
            "eigen-eigen-2249f9c22fe8/doc/snippets/SelfAdjointEigenSolver_operatorInverseSqrt.cpp\n",
            "eigen-eigen-2249f9c22fe8/doc/snippets/SelfAdjointEigenSolver_operatorSqrt.cpp\n",
            "eigen-eigen-2249f9c22fe8/doc/snippets/SelfAdjointView_eigenvalues.cpp\n",
            "eigen-eigen-2249f9c22fe8/doc/snippets/SelfAdjointView_operatorNorm.cpp\n",
            "eigen-eigen-2249f9c22fe8/doc/snippets/TopicAliasing_block.cpp\n",
            "eigen-eigen-2249f9c22fe8/doc/snippets/TopicAliasing_block_correct.cpp\n",
            "eigen-eigen-2249f9c22fe8/doc/snippets/TopicAliasing_cwise.cpp\n",
            "eigen-eigen-2249f9c22fe8/doc/snippets/TopicAliasing_mult1.cpp\n",
            "eigen-eigen-2249f9c22fe8/doc/snippets/TopicAliasing_mult2.cpp\n",
            "eigen-eigen-2249f9c22fe8/doc/snippets/TopicAliasing_mult3.cpp\n",
            "eigen-eigen-2249f9c22fe8/doc/snippets/TopicStorageOrders_example.cpp\n",
            "eigen-eigen-2249f9c22fe8/doc/snippets/Tridiagonalization_Tridiagonalization_MatrixType.cpp\n",
            "eigen-eigen-2249f9c22fe8/doc/snippets/Tridiagonalization_compute.cpp\n",
            "eigen-eigen-2249f9c22fe8/doc/snippets/Tridiagonalization_decomposeInPlace.cpp\n",
            "eigen-eigen-2249f9c22fe8/doc/snippets/Tridiagonalization_diagonal.cpp\n",
            "eigen-eigen-2249f9c22fe8/doc/snippets/Tridiagonalization_householderCoefficients.cpp\n",
            "eigen-eigen-2249f9c22fe8/doc/snippets/Tridiagonalization_packedMatrix.cpp\n",
            "eigen-eigen-2249f9c22fe8/doc/snippets/Tutorial_AdvancedInitialization_Block.cpp\n",
            "eigen-eigen-2249f9c22fe8/doc/snippets/Tutorial_AdvancedInitialization_CommaTemporary.cpp\n",
            "eigen-eigen-2249f9c22fe8/doc/snippets/Tutorial_AdvancedInitialization_Join.cpp\n",
            "eigen-eigen-2249f9c22fe8/doc/snippets/Tutorial_AdvancedInitialization_LinSpaced.cpp\n",
            "eigen-eigen-2249f9c22fe8/doc/snippets/Tutorial_AdvancedInitialization_ThreeWays.cpp\n",
            "eigen-eigen-2249f9c22fe8/doc/snippets/Tutorial_AdvancedInitialization_Zero.cpp\n",
            "eigen-eigen-2249f9c22fe8/doc/snippets/Tutorial_Map_rowmajor.cpp\n",
            "eigen-eigen-2249f9c22fe8/doc/snippets/Tutorial_Map_using.cpp\n",
            "eigen-eigen-2249f9c22fe8/doc/snippets/Tutorial_commainit_01.cpp\n",
            "eigen-eigen-2249f9c22fe8/doc/snippets/Tutorial_commainit_01b.cpp\n",
            "eigen-eigen-2249f9c22fe8/doc/snippets/Tutorial_commainit_02.cpp\n",
            "eigen-eigen-2249f9c22fe8/doc/snippets/Tutorial_solve_matrix_inverse.cpp\n",
            "eigen-eigen-2249f9c22fe8/doc/snippets/Tutorial_solve_multiple_rhs.cpp\n",
            "eigen-eigen-2249f9c22fe8/doc/snippets/Tutorial_solve_reuse_decomposition.cpp\n",
            "eigen-eigen-2249f9c22fe8/doc/snippets/Tutorial_solve_singular.cpp\n",
            "eigen-eigen-2249f9c22fe8/doc/snippets/Tutorial_solve_triangular.cpp\n",
            "eigen-eigen-2249f9c22fe8/doc/snippets/Tutorial_solve_triangular_inplace.cpp\n",
            "eigen-eigen-2249f9c22fe8/doc/snippets/Vectorwise_reverse.cpp\n",
            "eigen-eigen-2249f9c22fe8/doc/snippets/class_FullPivLU.cpp\n",
            "eigen-eigen-2249f9c22fe8/doc/snippets/compile_snippet.cpp.in\n",
            "eigen-eigen-2249f9c22fe8/doc/snippets/tut_arithmetic_redux_minmax.cpp\n",
            "eigen-eigen-2249f9c22fe8/doc/snippets/tut_arithmetic_transpose_aliasing.cpp\n",
            "eigen-eigen-2249f9c22fe8/doc/snippets/tut_arithmetic_transpose_conjugate.cpp\n",
            "eigen-eigen-2249f9c22fe8/doc/snippets/tut_arithmetic_transpose_inplace.cpp\n",
            "eigen-eigen-2249f9c22fe8/doc/snippets/tut_matrix_assignment_resizing.cpp\n",
            "eigen-eigen-2249f9c22fe8/doc/special_examples/CMakeLists.txt\n",
            "eigen-eigen-2249f9c22fe8/doc/special_examples/Tutorial_sparse_example.cpp\n",
            "eigen-eigen-2249f9c22fe8/doc/special_examples/Tutorial_sparse_example_details.cpp\n",
            "eigen-eigen-2249f9c22fe8/doc/tutorial.cpp\n",
            "eigen-eigen-2249f9c22fe8/eigen3.pc.in\n",
            "eigen-eigen-2249f9c22fe8/failtest/CMakeLists.txt\n",
            "eigen-eigen-2249f9c22fe8/failtest/block_nonconst_ctor_on_const_xpr_0.cpp\n",
            "eigen-eigen-2249f9c22fe8/failtest/block_nonconst_ctor_on_const_xpr_1.cpp\n",
            "eigen-eigen-2249f9c22fe8/failtest/block_nonconst_ctor_on_const_xpr_2.cpp\n",
            "eigen-eigen-2249f9c22fe8/failtest/block_on_const_type_actually_const_0.cpp\n",
            "eigen-eigen-2249f9c22fe8/failtest/block_on_const_type_actually_const_1.cpp\n",
            "eigen-eigen-2249f9c22fe8/failtest/const_qualified_block_method_retval_0.cpp\n",
            "eigen-eigen-2249f9c22fe8/failtest/const_qualified_block_method_retval_1.cpp\n",
            "eigen-eigen-2249f9c22fe8/failtest/const_qualified_diagonal_method_retval.cpp\n",
            "eigen-eigen-2249f9c22fe8/failtest/const_qualified_transpose_method_retval.cpp\n",
            "eigen-eigen-2249f9c22fe8/failtest/diagonal_nonconst_ctor_on_const_xpr.cpp\n",
            "eigen-eigen-2249f9c22fe8/failtest/diagonal_on_const_type_actually_const.cpp\n",
            "eigen-eigen-2249f9c22fe8/failtest/failtest_sanity_check.cpp\n",
            "eigen-eigen-2249f9c22fe8/failtest/map_nonconst_ctor_on_const_ptr_0.cpp\n",
            "eigen-eigen-2249f9c22fe8/failtest/map_nonconst_ctor_on_const_ptr_1.cpp\n",
            "eigen-eigen-2249f9c22fe8/failtest/map_nonconst_ctor_on_const_ptr_2.cpp\n",
            "eigen-eigen-2249f9c22fe8/failtest/map_nonconst_ctor_on_const_ptr_3.cpp\n",
            "eigen-eigen-2249f9c22fe8/failtest/map_nonconst_ctor_on_const_ptr_4.cpp\n",
            "eigen-eigen-2249f9c22fe8/failtest/map_on_const_type_actually_const_0.cpp\n",
            "eigen-eigen-2249f9c22fe8/failtest/map_on_const_type_actually_const_1.cpp\n",
            "eigen-eigen-2249f9c22fe8/failtest/transpose_nonconst_ctor_on_const_xpr.cpp\n",
            "eigen-eigen-2249f9c22fe8/failtest/transpose_on_const_type_actually_const.cpp\n",
            "eigen-eigen-2249f9c22fe8/lapack/CMakeLists.txt\n",
            "eigen-eigen-2249f9c22fe8/lapack/cholesky.cpp\n",
            "eigen-eigen-2249f9c22fe8/lapack/complex_double.cpp\n",
            "eigen-eigen-2249f9c22fe8/lapack/complex_single.cpp\n",
            "eigen-eigen-2249f9c22fe8/lapack/double.cpp\n",
            "eigen-eigen-2249f9c22fe8/lapack/eigenvalues.cpp\n",
            "eigen-eigen-2249f9c22fe8/lapack/lapack_common.h\n",
            "eigen-eigen-2249f9c22fe8/lapack/lu.cpp\n",
            "eigen-eigen-2249f9c22fe8/lapack/single.cpp\n",
            "eigen-eigen-2249f9c22fe8/scripts/CMakeLists.txt\n",
            "eigen-eigen-2249f9c22fe8/scripts/buildtests.in\n",
            "eigen-eigen-2249f9c22fe8/scripts/check.in\n",
            "eigen-eigen-2249f9c22fe8/scripts/debug.in\n",
            "eigen-eigen-2249f9c22fe8/scripts/eigen_gen_credits.cpp\n",
            "eigen-eigen-2249f9c22fe8/scripts/eigen_gen_docs\n",
            "eigen-eigen-2249f9c22fe8/scripts/release.in\n",
            "eigen-eigen-2249f9c22fe8/scripts/relicense.py\n",
            "eigen-eigen-2249f9c22fe8/signature_of_eigen3_matrix_library\n",
            "eigen-eigen-2249f9c22fe8/test/CMakeLists.txt\n",
            "eigen-eigen-2249f9c22fe8/test/adjoint.cpp\n",
            "eigen-eigen-2249f9c22fe8/test/array.cpp\n",
            "eigen-eigen-2249f9c22fe8/test/array_for_matrix.cpp\n",
            "eigen-eigen-2249f9c22fe8/test/array_replicate.cpp\n",
            "eigen-eigen-2249f9c22fe8/test/array_reverse.cpp\n",
            "eigen-eigen-2249f9c22fe8/test/bandmatrix.cpp\n",
            "eigen-eigen-2249f9c22fe8/test/basicstuff.cpp\n",
            "eigen-eigen-2249f9c22fe8/test/bicgstab.cpp\n",
            "eigen-eigen-2249f9c22fe8/test/block.cpp\n",
            "eigen-eigen-2249f9c22fe8/test/cholesky.cpp\n",
            "eigen-eigen-2249f9c22fe8/test/cholmod_support.cpp\n",
            "eigen-eigen-2249f9c22fe8/test/commainitializer.cpp\n",
            "eigen-eigen-2249f9c22fe8/test/conjugate_gradient.cpp\n",
            "eigen-eigen-2249f9c22fe8/test/conservative_resize.cpp\n",
            "eigen-eigen-2249f9c22fe8/test/corners.cpp\n",
            "eigen-eigen-2249f9c22fe8/test/cwiseop.cpp\n",
            "eigen-eigen-2249f9c22fe8/test/determinant.cpp\n",
            "eigen-eigen-2249f9c22fe8/test/diagonal.cpp\n",
            "eigen-eigen-2249f9c22fe8/test/diagonalmatrices.cpp\n",
            "eigen-eigen-2249f9c22fe8/test/dontalign.cpp\n",
            "eigen-eigen-2249f9c22fe8/test/dynalloc.cpp\n",
            "eigen-eigen-2249f9c22fe8/test/eigen2/CMakeLists.txt\n",
            "eigen-eigen-2249f9c22fe8/test/eigen2/eigen2_adjoint.cpp\n",
            "eigen-eigen-2249f9c22fe8/test/eigen2/eigen2_alignedbox.cpp\n",
            "eigen-eigen-2249f9c22fe8/test/eigen2/eigen2_array.cpp\n",
            "eigen-eigen-2249f9c22fe8/test/eigen2/eigen2_basicstuff.cpp\n",
            "eigen-eigen-2249f9c22fe8/test/eigen2/eigen2_bug_132.cpp\n",
            "eigen-eigen-2249f9c22fe8/test/eigen2/eigen2_cholesky.cpp\n",
            "eigen-eigen-2249f9c22fe8/test/eigen2/eigen2_commainitializer.cpp\n",
            "eigen-eigen-2249f9c22fe8/test/eigen2/eigen2_cwiseop.cpp\n",
            "eigen-eigen-2249f9c22fe8/test/eigen2/eigen2_determinant.cpp\n",
            "eigen-eigen-2249f9c22fe8/test/eigen2/eigen2_dynalloc.cpp\n",
            "eigen-eigen-2249f9c22fe8/test/eigen2/eigen2_eigensolver.cpp\n",
            "eigen-eigen-2249f9c22fe8/test/eigen2/eigen2_first_aligned.cpp\n",
            "eigen-eigen-2249f9c22fe8/test/eigen2/eigen2_geometry.cpp\n",
            "eigen-eigen-2249f9c22fe8/test/eigen2/eigen2_geometry_with_eigen2_prefix.cpp\n",
            "eigen-eigen-2249f9c22fe8/test/eigen2/eigen2_hyperplane.cpp\n",
            "eigen-eigen-2249f9c22fe8/test/eigen2/eigen2_inverse.cpp\n",
            "eigen-eigen-2249f9c22fe8/test/eigen2/eigen2_linearstructure.cpp\n",
            "eigen-eigen-2249f9c22fe8/test/eigen2/eigen2_lu.cpp\n",
            "eigen-eigen-2249f9c22fe8/test/eigen2/eigen2_map.cpp\n",
            "eigen-eigen-2249f9c22fe8/test/eigen2/eigen2_meta.cpp\n",
            "eigen-eigen-2249f9c22fe8/test/eigen2/eigen2_miscmatrices.cpp\n",
            "eigen-eigen-2249f9c22fe8/test/eigen2/eigen2_mixingtypes.cpp\n",
            "eigen-eigen-2249f9c22fe8/test/eigen2/eigen2_newstdvector.cpp\n",
            "eigen-eigen-2249f9c22fe8/test/eigen2/eigen2_nomalloc.cpp\n",
            "eigen-eigen-2249f9c22fe8/test/eigen2/eigen2_packetmath.cpp\n",
            "eigen-eigen-2249f9c22fe8/test/eigen2/eigen2_parametrizedline.cpp\n",
            "eigen-eigen-2249f9c22fe8/test/eigen2/eigen2_prec_inverse_4x4.cpp\n",
            "eigen-eigen-2249f9c22fe8/test/eigen2/eigen2_product_large.cpp\n",
            "eigen-eigen-2249f9c22fe8/test/eigen2/eigen2_product_small.cpp\n",
            "eigen-eigen-2249f9c22fe8/test/eigen2/eigen2_qr.cpp\n",
            "eigen-eigen-2249f9c22fe8/test/eigen2/eigen2_qtvector.cpp\n",
            "eigen-eigen-2249f9c22fe8/test/eigen2/eigen2_regression.cpp\n",
            "eigen-eigen-2249f9c22fe8/test/eigen2/eigen2_sizeof.cpp\n",
            "eigen-eigen-2249f9c22fe8/test/eigen2/eigen2_smallvectors.cpp\n",
            "eigen-eigen-2249f9c22fe8/test/eigen2/eigen2_sparse_basic.cpp\n",
            "eigen-eigen-2249f9c22fe8/test/eigen2/eigen2_sparse_product.cpp\n",
            "eigen-eigen-2249f9c22fe8/test/eigen2/eigen2_sparse_solvers.cpp\n",
            "eigen-eigen-2249f9c22fe8/test/eigen2/eigen2_sparse_vector.cpp\n",
            "eigen-eigen-2249f9c22fe8/test/eigen2/eigen2_stdvector.cpp\n",
            "eigen-eigen-2249f9c22fe8/test/eigen2/eigen2_submatrices.cpp\n",
            "eigen-eigen-2249f9c22fe8/test/eigen2/eigen2_sum.cpp\n",
            "eigen-eigen-2249f9c22fe8/test/eigen2/eigen2_svd.cpp\n",
            "eigen-eigen-2249f9c22fe8/test/eigen2/eigen2_swap.cpp\n",
            "eigen-eigen-2249f9c22fe8/test/eigen2/eigen2_triangular.cpp\n",
            "eigen-eigen-2249f9c22fe8/test/eigen2/eigen2_unalignedassert.cpp\n",
            "eigen-eigen-2249f9c22fe8/test/eigen2/eigen2_visitor.cpp\n",
            "eigen-eigen-2249f9c22fe8/test/eigen2/gsl_helper.h\n",
            "eigen-eigen-2249f9c22fe8/test/eigen2/main.h\n",
            "eigen-eigen-2249f9c22fe8/test/eigen2/product.h\n",
            "eigen-eigen-2249f9c22fe8/test/eigen2/runtest.sh\n",
            "eigen-eigen-2249f9c22fe8/test/eigen2/sparse.h\n",
            "eigen-eigen-2249f9c22fe8/test/eigen2/testsuite.cmake\n",
            "eigen-eigen-2249f9c22fe8/test/eigen2support.cpp\n",
            "eigen-eigen-2249f9c22fe8/test/eigensolver_complex.cpp\n",
            "eigen-eigen-2249f9c22fe8/test/eigensolver_generic.cpp\n",
            "eigen-eigen-2249f9c22fe8/test/eigensolver_selfadjoint.cpp\n",
            "eigen-eigen-2249f9c22fe8/test/exceptions.cpp\n",
            "eigen-eigen-2249f9c22fe8/test/first_aligned.cpp\n",
            "eigen-eigen-2249f9c22fe8/test/geo_alignedbox.cpp\n",
            "eigen-eigen-2249f9c22fe8/test/geo_eulerangles.cpp\n",
            "eigen-eigen-2249f9c22fe8/test/geo_homogeneous.cpp\n",
            "eigen-eigen-2249f9c22fe8/test/geo_hyperplane.cpp\n",
            "eigen-eigen-2249f9c22fe8/test/geo_orthomethods.cpp\n",
            "eigen-eigen-2249f9c22fe8/test/geo_parametrizedline.cpp\n",
            "eigen-eigen-2249f9c22fe8/test/geo_quaternion.cpp\n",
            "eigen-eigen-2249f9c22fe8/test/geo_transformations.cpp\n",
            "eigen-eigen-2249f9c22fe8/test/hessenberg.cpp\n",
            "eigen-eigen-2249f9c22fe8/test/householder.cpp\n",
            "eigen-eigen-2249f9c22fe8/test/integer_types.cpp\n",
            "eigen-eigen-2249f9c22fe8/test/inverse.cpp\n",
            "eigen-eigen-2249f9c22fe8/test/jacobi.cpp\n",
            "eigen-eigen-2249f9c22fe8/test/jacobisvd.cpp\n",
            "eigen-eigen-2249f9c22fe8/test/linearstructure.cpp\n",
            "eigen-eigen-2249f9c22fe8/test/lu.cpp\n",
            "eigen-eigen-2249f9c22fe8/test/main.h\n",
            "eigen-eigen-2249f9c22fe8/test/map.cpp\n",
            "eigen-eigen-2249f9c22fe8/test/mapstaticmethods.cpp\n",
            "eigen-eigen-2249f9c22fe8/test/mapstride.cpp\n",
            "eigen-eigen-2249f9c22fe8/test/meta.cpp\n",
            "eigen-eigen-2249f9c22fe8/test/miscmatrices.cpp\n",
            "eigen-eigen-2249f9c22fe8/test/mixingtypes.cpp\n",
            "eigen-eigen-2249f9c22fe8/test/nesting_ops.cpp\n",
            "eigen-eigen-2249f9c22fe8/test/nomalloc.cpp\n",
            "eigen-eigen-2249f9c22fe8/test/nullary.cpp\n",
            "eigen-eigen-2249f9c22fe8/test/packetmath.cpp\n",
            "eigen-eigen-2249f9c22fe8/test/pardiso_support.cpp\n",
            "eigen-eigen-2249f9c22fe8/test/pastix_support.cpp\n",
            "eigen-eigen-2249f9c22fe8/test/permutationmatrices.cpp\n",
            "eigen-eigen-2249f9c22fe8/test/prec_inverse_4x4.cpp\n",
            "eigen-eigen-2249f9c22fe8/test/product.h\n",
            "eigen-eigen-2249f9c22fe8/test/product_extra.cpp\n",
            "eigen-eigen-2249f9c22fe8/test/product_large.cpp\n",
            "eigen-eigen-2249f9c22fe8/test/product_mmtr.cpp\n",
            "eigen-eigen-2249f9c22fe8/test/product_notemporary.cpp\n",
            "eigen-eigen-2249f9c22fe8/test/product_selfadjoint.cpp\n",
            "eigen-eigen-2249f9c22fe8/test/product_small.cpp\n",
            "eigen-eigen-2249f9c22fe8/test/product_symm.cpp\n",
            "eigen-eigen-2249f9c22fe8/test/product_syrk.cpp\n",
            "eigen-eigen-2249f9c22fe8/test/product_trmm.cpp\n",
            "eigen-eigen-2249f9c22fe8/test/product_trmv.cpp\n",
            "eigen-eigen-2249f9c22fe8/test/product_trsolve.cpp\n",
            "eigen-eigen-2249f9c22fe8/test/qr.cpp\n",
            "eigen-eigen-2249f9c22fe8/test/qr_colpivoting.cpp\n",
            "eigen-eigen-2249f9c22fe8/test/qr_fullpivoting.cpp\n",
            "eigen-eigen-2249f9c22fe8/test/qtvector.cpp\n",
            "eigen-eigen-2249f9c22fe8/test/redux.cpp\n",
            "eigen-eigen-2249f9c22fe8/test/resize.cpp\n",
            "eigen-eigen-2249f9c22fe8/test/runtest.sh\n",
            "eigen-eigen-2249f9c22fe8/test/schur_complex.cpp\n",
            "eigen-eigen-2249f9c22fe8/test/schur_real.cpp\n",
            "eigen-eigen-2249f9c22fe8/test/selfadjoint.cpp\n",
            "eigen-eigen-2249f9c22fe8/test/simplicial_cholesky.cpp\n",
            "eigen-eigen-2249f9c22fe8/test/sizeof.cpp\n",
            "eigen-eigen-2249f9c22fe8/test/sizeoverflow.cpp\n",
            "eigen-eigen-2249f9c22fe8/test/smallvectors.cpp\n",
            "eigen-eigen-2249f9c22fe8/test/sparse.h\n",
            "eigen-eigen-2249f9c22fe8/test/sparse_basic.cpp\n",
            "eigen-eigen-2249f9c22fe8/test/sparse_permutations.cpp\n",
            "eigen-eigen-2249f9c22fe8/test/sparse_product.cpp\n",
            "eigen-eigen-2249f9c22fe8/test/sparse_solver.h\n",
            "eigen-eigen-2249f9c22fe8/test/sparse_solvers.cpp\n",
            "eigen-eigen-2249f9c22fe8/test/sparse_vector.cpp\n",
            "eigen-eigen-2249f9c22fe8/test/stable_norm.cpp\n",
            "eigen-eigen-2249f9c22fe8/test/stddeque.cpp\n",
            "eigen-eigen-2249f9c22fe8/test/stdlist.cpp\n",
            "eigen-eigen-2249f9c22fe8/test/stdvector.cpp\n",
            "eigen-eigen-2249f9c22fe8/test/stdvector_overload.cpp\n",
            "eigen-eigen-2249f9c22fe8/test/superlu_support.cpp\n",
            "eigen-eigen-2249f9c22fe8/test/swap.cpp\n",
            "eigen-eigen-2249f9c22fe8/test/testsuite.cmake\n",
            "eigen-eigen-2249f9c22fe8/test/triangular.cpp\n",
            "eigen-eigen-2249f9c22fe8/test/umeyama.cpp\n",
            "eigen-eigen-2249f9c22fe8/test/umfpack_support.cpp\n",
            "eigen-eigen-2249f9c22fe8/test/unalignedassert.cpp\n",
            "eigen-eigen-2249f9c22fe8/test/unalignedcount.cpp\n",
            "eigen-eigen-2249f9c22fe8/test/upperbidiagonalization.cpp\n",
            "eigen-eigen-2249f9c22fe8/test/vectorization_logic.cpp\n",
            "eigen-eigen-2249f9c22fe8/test/vectorwiseop.cpp\n",
            "eigen-eigen-2249f9c22fe8/test/visitor.cpp\n",
            "eigen-eigen-2249f9c22fe8/test/zerosized.cpp\n",
            "eigen-eigen-2249f9c22fe8/unsupported/CMakeLists.txt\n",
            "eigen-eigen-2249f9c22fe8/unsupported/Eigen/AdolcForward\n",
            "eigen-eigen-2249f9c22fe8/unsupported/Eigen/AlignedVector3\n",
            "eigen-eigen-2249f9c22fe8/unsupported/Eigen/AutoDiff\n",
            "eigen-eigen-2249f9c22fe8/unsupported/Eigen/BVH\n",
            "eigen-eigen-2249f9c22fe8/unsupported/Eigen/CMakeLists.txt\n",
            "eigen-eigen-2249f9c22fe8/unsupported/Eigen/FFT\n",
            "eigen-eigen-2249f9c22fe8/unsupported/Eigen/IterativeSolvers\n",
            "eigen-eigen-2249f9c22fe8/unsupported/Eigen/KroneckerProduct\n",
            "eigen-eigen-2249f9c22fe8/unsupported/Eigen/MPRealSupport\n",
            "eigen-eigen-2249f9c22fe8/unsupported/Eigen/MatrixFunctions\n",
            "eigen-eigen-2249f9c22fe8/unsupported/Eigen/MoreVectorization\n",
            "eigen-eigen-2249f9c22fe8/unsupported/Eigen/NonLinearOptimization\n",
            "eigen-eigen-2249f9c22fe8/unsupported/Eigen/NumericalDiff\n",
            "eigen-eigen-2249f9c22fe8/unsupported/Eigen/OpenGLSupport\n",
            "eigen-eigen-2249f9c22fe8/unsupported/Eigen/Polynomials\n",
            "eigen-eigen-2249f9c22fe8/unsupported/Eigen/Skyline\n",
            "eigen-eigen-2249f9c22fe8/unsupported/Eigen/SparseExtra\n",
            "eigen-eigen-2249f9c22fe8/unsupported/Eigen/Splines\n",
            "eigen-eigen-2249f9c22fe8/unsupported/Eigen/src/AutoDiff/AutoDiffJacobian.h\n",
            "eigen-eigen-2249f9c22fe8/unsupported/Eigen/src/AutoDiff/AutoDiffScalar.h\n",
            "eigen-eigen-2249f9c22fe8/unsupported/Eigen/src/AutoDiff/AutoDiffVector.h\n",
            "eigen-eigen-2249f9c22fe8/unsupported/Eigen/src/AutoDiff/CMakeLists.txt\n",
            "eigen-eigen-2249f9c22fe8/unsupported/Eigen/src/BVH/BVAlgorithms.h\n",
            "eigen-eigen-2249f9c22fe8/unsupported/Eigen/src/BVH/CMakeLists.txt\n",
            "eigen-eigen-2249f9c22fe8/unsupported/Eigen/src/BVH/KdBVH.h\n",
            "eigen-eigen-2249f9c22fe8/unsupported/Eigen/src/CMakeLists.txt\n",
            "eigen-eigen-2249f9c22fe8/unsupported/Eigen/src/FFT/CMakeLists.txt\n",
            "eigen-eigen-2249f9c22fe8/unsupported/Eigen/src/FFT/ei_fftw_impl.h\n",
            "eigen-eigen-2249f9c22fe8/unsupported/Eigen/src/FFT/ei_kissfft_impl.h\n",
            "eigen-eigen-2249f9c22fe8/unsupported/Eigen/src/IterativeSolvers/CMakeLists.txt\n",
            "eigen-eigen-2249f9c22fe8/unsupported/Eigen/src/IterativeSolvers/ConstrainedConjGrad.h\n",
            "eigen-eigen-2249f9c22fe8/unsupported/Eigen/src/IterativeSolvers/GMRES.h\n",
            "eigen-eigen-2249f9c22fe8/unsupported/Eigen/src/IterativeSolvers/IncompleteLU.h\n",
            "eigen-eigen-2249f9c22fe8/unsupported/Eigen/src/IterativeSolvers/IterationController.h\n",
            "eigen-eigen-2249f9c22fe8/unsupported/Eigen/src/IterativeSolvers/Scaling.h\n",
            "eigen-eigen-2249f9c22fe8/unsupported/Eigen/src/KroneckerProduct/CMakeLists.txt\n",
            "eigen-eigen-2249f9c22fe8/unsupported/Eigen/src/KroneckerProduct/KroneckerTensorProduct.h\n",
            "eigen-eigen-2249f9c22fe8/unsupported/Eigen/src/MatrixFunctions/CMakeLists.txt\n",
            "eigen-eigen-2249f9c22fe8/unsupported/Eigen/src/MatrixFunctions/MatrixExponential.h\n",
            "eigen-eigen-2249f9c22fe8/unsupported/Eigen/src/MatrixFunctions/MatrixFunction.h\n",
            "eigen-eigen-2249f9c22fe8/unsupported/Eigen/src/MatrixFunctions/MatrixFunctionAtomic.h\n",
            "eigen-eigen-2249f9c22fe8/unsupported/Eigen/src/MatrixFunctions/MatrixLogarithm.h\n",
            "eigen-eigen-2249f9c22fe8/unsupported/Eigen/src/MatrixFunctions/MatrixSquareRoot.h\n",
            "eigen-eigen-2249f9c22fe8/unsupported/Eigen/src/MatrixFunctions/StemFunction.h\n",
            "eigen-eigen-2249f9c22fe8/unsupported/Eigen/src/MoreVectorization/CMakeLists.txt\n",
            "eigen-eigen-2249f9c22fe8/unsupported/Eigen/src/MoreVectorization/MathFunctions.h\n",
            "eigen-eigen-2249f9c22fe8/unsupported/Eigen/src/NonLinearOptimization/CMakeLists.txt\n",
            "eigen-eigen-2249f9c22fe8/unsupported/Eigen/src/NonLinearOptimization/HybridNonLinearSolver.h\n",
            "eigen-eigen-2249f9c22fe8/unsupported/Eigen/src/NonLinearOptimization/LevenbergMarquardt.h\n",
            "eigen-eigen-2249f9c22fe8/unsupported/Eigen/src/NonLinearOptimization/chkder.h\n",
            "eigen-eigen-2249f9c22fe8/unsupported/Eigen/src/NonLinearOptimization/covar.h\n",
            "eigen-eigen-2249f9c22fe8/unsupported/Eigen/src/NonLinearOptimization/dogleg.h\n",
            "eigen-eigen-2249f9c22fe8/unsupported/Eigen/src/NonLinearOptimization/fdjac1.h\n",
            "eigen-eigen-2249f9c22fe8/unsupported/Eigen/src/NonLinearOptimization/lmpar.h\n",
            "eigen-eigen-2249f9c22fe8/unsupported/Eigen/src/NonLinearOptimization/qrsolv.h\n",
            "eigen-eigen-2249f9c22fe8/unsupported/Eigen/src/NonLinearOptimization/r1mpyq.h\n",
            "eigen-eigen-2249f9c22fe8/unsupported/Eigen/src/NonLinearOptimization/r1updt.h\n",
            "eigen-eigen-2249f9c22fe8/unsupported/Eigen/src/NonLinearOptimization/rwupdt.h\n",
            "eigen-eigen-2249f9c22fe8/unsupported/Eigen/src/NumericalDiff/CMakeLists.txt\n",
            "eigen-eigen-2249f9c22fe8/unsupported/Eigen/src/NumericalDiff/NumericalDiff.h\n",
            "eigen-eigen-2249f9c22fe8/unsupported/Eigen/src/Polynomials/CMakeLists.txt\n",
            "eigen-eigen-2249f9c22fe8/unsupported/Eigen/src/Polynomials/Companion.h\n",
            "eigen-eigen-2249f9c22fe8/unsupported/Eigen/src/Polynomials/PolynomialSolver.h\n",
            "eigen-eigen-2249f9c22fe8/unsupported/Eigen/src/Polynomials/PolynomialUtils.h\n",
            "eigen-eigen-2249f9c22fe8/unsupported/Eigen/src/Skyline/CMakeLists.txt\n",
            "eigen-eigen-2249f9c22fe8/unsupported/Eigen/src/Skyline/SkylineInplaceLU.h\n",
            "eigen-eigen-2249f9c22fe8/unsupported/Eigen/src/Skyline/SkylineMatrix.h\n",
            "eigen-eigen-2249f9c22fe8/unsupported/Eigen/src/Skyline/SkylineMatrixBase.h\n",
            "eigen-eigen-2249f9c22fe8/unsupported/Eigen/src/Skyline/SkylineProduct.h\n",
            "eigen-eigen-2249f9c22fe8/unsupported/Eigen/src/Skyline/SkylineStorage.h\n",
            "eigen-eigen-2249f9c22fe8/unsupported/Eigen/src/Skyline/SkylineUtil.h\n",
            "eigen-eigen-2249f9c22fe8/unsupported/Eigen/src/SparseExtra/BlockOfDynamicSparseMatrix.h\n",
            "eigen-eigen-2249f9c22fe8/unsupported/Eigen/src/SparseExtra/CMakeLists.txt\n",
            "eigen-eigen-2249f9c22fe8/unsupported/Eigen/src/SparseExtra/DynamicSparseMatrix.h\n",
            "eigen-eigen-2249f9c22fe8/unsupported/Eigen/src/SparseExtra/MarketIO.h\n",
            "eigen-eigen-2249f9c22fe8/unsupported/Eigen/src/SparseExtra/MatrixMarketIterator.h\n",
            "eigen-eigen-2249f9c22fe8/unsupported/Eigen/src/SparseExtra/RandomSetter.h\n",
            "eigen-eigen-2249f9c22fe8/unsupported/Eigen/src/Splines/CMakeLists.txt\n",
            "eigen-eigen-2249f9c22fe8/unsupported/Eigen/src/Splines/Spline.h\n",
            "eigen-eigen-2249f9c22fe8/unsupported/Eigen/src/Splines/SplineFitting.h\n",
            "eigen-eigen-2249f9c22fe8/unsupported/Eigen/src/Splines/SplineFwd.h\n",
            "eigen-eigen-2249f9c22fe8/unsupported/README.txt\n",
            "eigen-eigen-2249f9c22fe8/unsupported/doc/CMakeLists.txt\n",
            "eigen-eigen-2249f9c22fe8/unsupported/doc/Doxyfile.in\n",
            "eigen-eigen-2249f9c22fe8/unsupported/doc/Overview.dox\n",
            "eigen-eigen-2249f9c22fe8/unsupported/doc/examples/BVH_Example.cpp\n",
            "eigen-eigen-2249f9c22fe8/unsupported/doc/examples/CMakeLists.txt\n",
            "eigen-eigen-2249f9c22fe8/unsupported/doc/examples/FFT.cpp\n",
            "eigen-eigen-2249f9c22fe8/unsupported/doc/examples/MatrixExponential.cpp\n",
            "eigen-eigen-2249f9c22fe8/unsupported/doc/examples/MatrixFunction.cpp\n",
            "eigen-eigen-2249f9c22fe8/unsupported/doc/examples/MatrixLogarithm.cpp\n",
            "eigen-eigen-2249f9c22fe8/unsupported/doc/examples/MatrixSine.cpp\n",
            "eigen-eigen-2249f9c22fe8/unsupported/doc/examples/MatrixSinh.cpp\n",
            "eigen-eigen-2249f9c22fe8/unsupported/doc/examples/MatrixSquareRoot.cpp\n",
            "eigen-eigen-2249f9c22fe8/unsupported/doc/examples/PolynomialSolver1.cpp\n",
            "eigen-eigen-2249f9c22fe8/unsupported/doc/examples/PolynomialUtils1.cpp\n",
            "eigen-eigen-2249f9c22fe8/unsupported/doc/snippets/CMakeLists.txt\n",
            "eigen-eigen-2249f9c22fe8/unsupported/test/BVH.cpp\n",
            "eigen-eigen-2249f9c22fe8/unsupported/test/CMakeLists.txt\n",
            "eigen-eigen-2249f9c22fe8/unsupported/test/FFT.cpp\n",
            "eigen-eigen-2249f9c22fe8/unsupported/test/FFTW.cpp\n",
            "eigen-eigen-2249f9c22fe8/unsupported/test/NonLinearOptimization.cpp\n",
            "eigen-eigen-2249f9c22fe8/unsupported/test/NumericalDiff.cpp\n",
            "eigen-eigen-2249f9c22fe8/unsupported/test/alignedvector3.cpp\n",
            "eigen-eigen-2249f9c22fe8/unsupported/test/autodiff.cpp\n",
            "eigen-eigen-2249f9c22fe8/unsupported/test/forward_adolc.cpp\n",
            "eigen-eigen-2249f9c22fe8/unsupported/test/gmres.cpp\n",
            "eigen-eigen-2249f9c22fe8/unsupported/test/kronecker_product.cpp\n",
            "eigen-eigen-2249f9c22fe8/unsupported/test/matrix_exponential.cpp\n",
            "eigen-eigen-2249f9c22fe8/unsupported/test/matrix_function.cpp\n",
            "eigen-eigen-2249f9c22fe8/unsupported/test/matrix_square_root.cpp\n",
            "eigen-eigen-2249f9c22fe8/unsupported/test/mpreal/dlmalloc.c\n",
            "eigen-eigen-2249f9c22fe8/unsupported/test/mpreal/dlmalloc.h\n",
            "eigen-eigen-2249f9c22fe8/unsupported/test/mpreal/mpreal.cpp\n",
            "eigen-eigen-2249f9c22fe8/unsupported/test/mpreal/mpreal.h\n",
            "eigen-eigen-2249f9c22fe8/unsupported/test/mpreal_support.cpp\n",
            "eigen-eigen-2249f9c22fe8/unsupported/test/openglsupport.cpp\n",
            "eigen-eigen-2249f9c22fe8/unsupported/test/polynomialsolver.cpp\n",
            "eigen-eigen-2249f9c22fe8/unsupported/test/polynomialutils.cpp\n",
            "eigen-eigen-2249f9c22fe8/unsupported/test/sparse_extra.cpp\n",
            "eigen-eigen-2249f9c22fe8/unsupported/test/splines.cpp\n",
            "mv: cannot move 'eigen-eigen-2249f9c22fe8' to './Eigen/eigen-eigen-2249f9c22fe8': Directory not empty\n"
          ],
          "name": "stdout"
        }
      ]
    },
    {
      "cell_type": "code",
      "metadata": {
        "id": "CcvPnGNv7Fyc",
        "colab_type": "code",
        "outputId": "40960437-9321-4965-b8a6-23385c9be7b8",
        "colab": {
          "base_uri": "https://localhost:8080/",
          "height": 170
        }
      },
      "source": [
        "!make"
      ],
      "execution_count": 5,
      "outputs": [
        {
          "output_type": "stream",
          "text": [
            "generating data...\n",
            "fitting! each dot is a new EM initialization\n",
            "\n",
            "\ttruth\tlearned\n",
            "prior\t0.1000\t0.1012\n",
            "learn1\t0.3000\t0.2818\n",
            "forget1\t0.0000\t0.0000\n",
            "guess1\t0.1000\t0.0995\n",
            "slip1\t0.0300\t0.0287\n"
          ],
          "name": "stdout"
        }
      ]
    },
    {
      "cell_type": "code",
      "metadata": {
        "id": "AEhX36Y67Irs",
        "colab_type": "code",
        "colab": {}
      },
      "source": [
        "#!python test/assistments_train.py #TODO: modify pre-procesd"
      ],
      "execution_count": 0,
      "outputs": []
    },
    {
      "cell_type": "code",
      "metadata": {
        "id": "lSrU40zCcpcJ",
        "colab_type": "code",
        "outputId": "0b76660c-4c79-43d5-ecec-e248a1c0166f",
        "colab": {
          "base_uri": "https://localhost:8080/",
          "height": 34
        }
      },
      "source": [
        "%cd /content\n",
        "import numpy as np\n",
        "import pandas as pd\n",
        "import seaborn as sns\n",
        "import matplotlib.pyplot as plt\n",
        "from copy import deepcopy\n",
        "\n",
        "from pyBKT.util.data_helper import assistments_data\n",
        "from pyBKT.generate import random_model_uni\n",
        "from pyBKT.fit import EM_fit\n",
        "\n",
        "from sklearn.model_selection import train_test_split\n",
        "from pyBKT.fit import predict_onestep\n",
        "from sklearn.metrics import accuracy_score"
      ],
      "execution_count": 7,
      "outputs": [
        {
          "output_type": "stream",
          "text": [
            "/content\n"
          ],
          "name": "stdout"
        }
      ]
    },
    {
      "cell_type": "code",
      "metadata": {
        "id": "tg-yspWQcpnB",
        "colab_type": "code",
        "colab": {}
      },
      "source": [
        "skills = ['Equation Solving Two or Fewer Steps',\n",
        "          'Percent Of',\n",
        "          'Addition and Subtraction Integers',\n",
        "          'Conversion of Fraction Decimals Percents',\n",
        "          'Volume Rectangular Prism']"
      ],
      "execution_count": 0,
      "outputs": []
    },
    {
      "cell_type": "code",
      "metadata": {
        "id": "W5ZaK1WaC1Yi",
        "colab_type": "code",
        "outputId": "b2ac1e80-4b4f-455a-fade-15f3c2660ce4",
        "colab": {
          "base_uri": "https://localhost:8080/",
          "height": 238
        }
      },
      "source": [
        "data = {}\n",
        "for skill in skills:\n",
        "    raw_data = assistments_data(skill)\n",
        "    last_length = len(raw_data['resources']) - np.sum(raw_data['lengths'])\n",
        "    raw_data['lengths'] = np.append(raw_data['lengths'], [last_length])\n",
        "    raw_data['starts'] = np.append(raw_data['starts'], [len(raw_data['resources']) - last_length + 1])\n",
        "    data[skill] = raw_data"
      ],
      "execution_count": 9,
      "outputs": [
        {
          "output_type": "stream",
          "text": [
            "Equation Solving Two or Fewer Steps\n"
          ],
          "name": "stdout"
        },
        {
          "output_type": "stream",
          "text": [
            "/usr/local/lib/python3.6/dist-packages/IPython/core/interactiveshell.py:2822: DtypeWarning: Columns (17) have mixed types. Specify dtype option on import or set low_memory=False.\n",
            "  if self.run_code(code, result):\n",
            "/usr/local/lib/python3.6/dist-packages/pandas/core/indexing.py:494: SettingWithCopyWarning: \n",
            "A value is trying to be set on a copy of a slice from a DataFrame.\n",
            "Try using .loc[row_indexer,col_indexer] = value instead\n",
            "\n",
            "See the caveats in the documentation: http://pandas.pydata.org/pandas-docs/stable/user_guide/indexing.html#returning-a-view-versus-a-copy\n",
            "  self.obj[item] = s\n"
          ],
          "name": "stderr"
        },
        {
          "output_type": "stream",
          "text": [
            "Percent Of\n",
            "Addition and Subtraction Integers\n",
            "Conversion of Fraction Decimals Percents\n",
            "Volume Rectangular Prism\n"
          ],
          "name": "stdout"
        }
      ]
    },
    {
      "cell_type": "code",
      "metadata": {
        "id": "k8UTwDxPcpu_",
        "colab_type": "code",
        "outputId": "35f3a00f-9f74-4e55-c590-050efaadc04b",
        "colab": {
          "base_uri": "https://localhost:8080/",
          "height": 272
        }
      },
      "source": [
        "num_fit_initializations = 10\n",
        "num_resources = 1\n",
        "num_subparts = 1\n",
        "best_models = {}\n",
        "\n",
        "for skill in skills:\n",
        "    best_likelihood = float(\"-inf\")\n",
        "    for i in range(num_fit_initializations):\n",
        "        fitmodel = random_model_uni.random_model_uni(num_resources, num_subparts)\n",
        "        (fitmodel, log_likelihoods) = EM_fit.EM_fit(fitmodel, data[skill])\n",
        "        if(log_likelihoods[-1] > best_likelihood):\n",
        "            best_likelihood = log_likelihoods[-1]\n",
        "            best_models[skill] = fitmodel\n",
        "            print(skill, 'best likelihood', best_likelihood)"
      ],
      "execution_count": 10,
      "outputs": [
        {
          "output_type": "stream",
          "text": [
            "Equation Solving Two or Fewer Steps best likelihood [-10475.05203955]\n",
            "Equation Solving Two or Fewer Steps best likelihood [-10475.05185363]\n",
            "Equation Solving Two or Fewer Steps best likelihood [-10475.05153689]\n",
            "Equation Solving Two or Fewer Steps best likelihood [-10475.05151476]\n",
            "Equation Solving Two or Fewer Steps best likelihood [-10475.05138944]\n",
            "Percent Of best likelihood [-5765.06870855]\n",
            "Percent Of best likelihood [-5765.06835611]\n",
            "Percent Of best likelihood [-5765.06834689]\n",
            "Percent Of best likelihood [-5765.06795088]\n",
            "Addition and Subtraction Integers best likelihood [-7822.35350932]\n",
            "Addition and Subtraction Integers best likelihood [-7822.35339174]\n",
            "Addition and Subtraction Integers best likelihood [-7822.35336073]\n",
            "Conversion of Fraction Decimals Percents best likelihood [-11517.21861823]\n",
            "Conversion of Fraction Decimals Percents best likelihood [-11517.21774339]\n",
            "Volume Rectangular Prism best likelihood [-384.62515306]\n"
          ],
          "name": "stdout"
        }
      ]
    },
    {
      "cell_type": "code",
      "metadata": {
        "id": "Tn0ReeOhcp2q",
        "colab_type": "code",
        "colab": {}
      },
      "source": [
        "priors = []\n",
        "learns = []\n",
        "guesses = []\n",
        "slips = []\n",
        "for skill in skills:\n",
        "    model = best_models[skill]\n",
        "    priors.append(model['prior'])\n",
        "    learns.append(model['learns'][0])\n",
        "    guesses.append(model['guesses'][0])\n",
        "    slips.append(model['slips'][0])"
      ],
      "execution_count": 0,
      "outputs": []
    },
    {
      "cell_type": "markdown",
      "metadata": {
        "id": "mSUwGSHPTRN-",
        "colab_type": "text"
      },
      "source": [
        "# Analysis 1 Which skills had high vs low learning rates?"
      ]
    },
    {
      "cell_type": "code",
      "metadata": {
        "id": "brXzk7HpTe8W",
        "colab_type": "code",
        "outputId": "78e16f67-0196-414e-e2f0-780345efb575",
        "colab": {
          "base_uri": "https://localhost:8080/",
          "height": 119
        }
      },
      "source": [
        "pd.Series(learns, index=skills).sort_values(ascending=False)"
      ],
      "execution_count": 12,
      "outputs": [
        {
          "output_type": "execute_result",
          "data": {
            "text/plain": [
              "Percent Of                                  0.116356\n",
              "Equation Solving Two or Fewer Steps         0.038023\n",
              "Conversion of Fraction Decimals Percents    0.014927\n",
              "Addition and Subtraction Integers           0.009234\n",
              "Volume Rectangular Prism                    0.000013\n",
              "dtype: float64"
            ]
          },
          "metadata": {
            "tags": []
          },
          "execution_count": 12
        }
      ]
    },
    {
      "cell_type": "markdown",
      "metadata": {
        "id": "g1DyqPXIT3hS",
        "colab_type": "text"
      },
      "source": [
        "This result makes some sense. Percent Of is an easy task, so it had high learning rate, while Volume Rectangular Prism is not easy, resulting in a low learning rate."
      ]
    },
    {
      "cell_type": "markdown",
      "metadata": {
        "id": "ky3thD9kU2zN",
        "colab_type": "text"
      },
      "source": [
        "# Analysis 2 Did the learning rates correlate with the prior knowledge values?"
      ]
    },
    {
      "cell_type": "code",
      "metadata": {
        "id": "1AJp9-_T3ffy",
        "colab_type": "code",
        "outputId": "21d07bd4-5f21-402c-964a-87f16b77b92a",
        "colab": {
          "base_uri": "https://localhost:8080/",
          "height": 388
        }
      },
      "source": [
        "plt.figure(figsize=(9,6))\n",
        "sns.scatterplot(x=priors, y=learns, s=50, color='r')\n",
        "plt.xlabel('Prior')\n",
        "plt.ylabel('Learning Rate')\n",
        "for i in range(len(skills)):\n",
        "    plt.text(x=priors[i]+5e-3, y=learns[i], s=skills[i],\n",
        "             verticalalignment='center', horizontalalignment='left')"
      ],
      "execution_count": 13,
      "outputs": [
        {
          "output_type": "display_data",
          "data": {
            "image/png": "[encoded data removed]",
            "text/plain": [
              "<Figure size 648x432 with 1 Axes>"
            ]
          },
          "metadata": {
            "tags": []
          }
        }
      ]
    },
    {
      "cell_type": "markdown",
      "metadata": {
        "id": "sypEz2imWHRM",
        "colab_type": "text"
      },
      "source": [
        "There seems no correlation between learning rates and prior knowledge."
      ]
    },
    {
      "cell_type": "markdown",
      "metadata": {
        "id": "1bWKIAnAWXOU",
        "colab_type": "text"
      },
      "source": [
        "# Analysis 3 Is a skill harder if its guess is high or if its slip is low?"
      ]
    },
    {
      "cell_type": "code",
      "metadata": {
        "id": "5MqKgCQD5_xH",
        "colab_type": "code",
        "outputId": "cba33b2c-74f3-4f26-9017-9acf739ce52c",
        "colab": {
          "base_uri": "https://localhost:8080/",
          "height": 388
        }
      },
      "source": [
        "plt.figure(figsize=(9,6))\n",
        "sns.scatterplot(x=guesses, y=learns, s=50, color='r')\n",
        "plt.xlabel('Guess')\n",
        "plt.ylabel('Learning Rate')\n",
        "for i in range(len(skills)):\n",
        "    plt.text(x=guesses[i]+5e-3, y=learns[i], s=skills[i],\n",
        "             verticalalignment='center', horizontalalignment='left')"
      ],
      "execution_count": 14,
      "outputs": [
        {
          "output_type": "display_data",
          "data": {
            "image/png": "[encoded data removed]",
            "text/plain": [
              "<Figure size 648x432 with 1 Axes>"
            ]
          },
          "metadata": {
            "tags": []
          }
        }
      ]
    },
    {
      "cell_type": "code",
      "metadata": {
        "id": "cLnwICBO6xYK",
        "colab_type": "code",
        "outputId": "7292453c-518c-4e58-839f-9d082bfaa555",
        "colab": {
          "base_uri": "https://localhost:8080/",
          "height": 388
        }
      },
      "source": [
        "plt.figure(figsize=(9,6))\n",
        "sns.scatterplot(x=slips, y=learns, s=50, color='r')\n",
        "plt.xlabel('Slip')\n",
        "plt.ylabel('Learning Rate')\n",
        "for i in range(len(skills)):\n",
        "    plt.text(x=slips[i]+5e-3, y=learns[i], s=skills[i],\n",
        "             verticalalignment='center', horizontalalignment='left')"
      ],
      "execution_count": 15,
      "outputs": [
        {
          "output_type": "display_data",
          "data": {
            "image/png": "[encoded data removed]",
            "text/plain": [
              "<Figure size 648x432 with 1 Axes>"
            ]
          },
          "metadata": {
            "tags": []
          }
        }
      ]
    },
    {
      "cell_type": "markdown",
      "metadata": {
        "id": "o1oty4fZW3tK",
        "colab_type": "text"
      },
      "source": [
        "As seen from the plots, there are two patterns. The learning rate is lower (which means the skill is harder) if the guess is high and if the slip is low."
      ]
    },
    {
      "cell_type": "markdown",
      "metadata": {
        "id": "Hugcq63cXZqt",
        "colab_type": "text"
      },
      "source": [
        "# Analysis 4 Any other question(s) you have that can be answered with these BKT results?"
      ]
    },
    {
      "cell_type": "code",
      "metadata": {
        "id": "MXnYp2JA_Qiu",
        "colab_type": "code",
        "outputId": "4fd3a5f2-8609-4309-f2fe-7da3a2adddf5",
        "colab": {
          "base_uri": "https://localhost:8080/",
          "height": 389
        }
      },
      "source": [
        "plt.figure(figsize=(9,6))\n",
        "sns.scatterplot(x=priors, y=guesses, s=50, color='r')\n",
        "plt.xlabel('Prior')\n",
        "plt.ylabel('Guess')\n",
        "for i in range(len(skills)):\n",
        "    plt.text(x=priors[i]+5e-3, y=guesses[i], s=skills[i],\n",
        "             verticalalignment='center', horizontalalignment='left')"
      ],
      "execution_count": 16,
      "outputs": [
        {
          "output_type": "display_data",
          "data": {
            "image/png": "[encoded data removed]",
            "text/plain": [
              "<Figure size 648x432 with 1 Axes>"
            ]
          },
          "metadata": {
            "tags": []
          }
        }
      ]
    },
    {
      "cell_type": "markdown",
      "metadata": {
        "id": "-vXPGrF0Xklq",
        "colab_type": "text"
      },
      "source": [
        "Are the guesses correlated with priors? The answer is probably no from the plot above."
      ]
    },
    {
      "cell_type": "markdown",
      "metadata": {
        "id": "YC209c-2Xkse",
        "colab_type": "text"
      },
      "source": [
        "# Extra Credit #1 Individualized BKT"
      ]
    },
    {
      "cell_type": "code",
      "metadata": {
        "id": "IhE8egbNDbVG",
        "colab_type": "code",
        "colab": {}
      },
      "source": [
        "skill_to_check = 'Percent Of'\n",
        "individualized_data = deepcopy(data[skill_to_check])\n",
        "new_resources = individualized_data['resources']\n",
        "for i in range(len(individualized_data['lengths'])):\n",
        "    start = individualized_data['starts'][i] - 1\n",
        "    end = start + individualized_data['lengths'][i]\n",
        "    new_resources[start:end] = i + 1\n",
        "    individualized_data['resources'] = new_resources"
      ],
      "execution_count": 0,
      "outputs": []
    },
    {
      "cell_type": "code",
      "metadata": {
        "id": "RONAXJ06YQwH",
        "colab_type": "code",
        "outputId": "f931546c-0465-4cf4-9a94-73da04bcae9f",
        "colab": {
          "base_uri": "https://localhost:8080/",
          "height": 68
        }
      },
      "source": [
        "num_fit_initializations = 10\n",
        "num_subparts = 1\n",
        "num_resources = individualized_data['resources'][-1]\n",
        "\n",
        "best_individualized_model = None\n",
        "best_likelihood = float(\"-inf\")\n",
        "\n",
        "for i in range(num_fit_initializations):\n",
        "    fitmodel = random_model_uni.random_model_uni(num_resources, num_subparts)\n",
        "    (fitmodel, log_likelihoods) = EM_fit.EM_fit(fitmodel, individualized_data)\n",
        "    if(log_likelihoods[-1] > best_likelihood):\n",
        "        best_likelihood = log_likelihoods[-1]\n",
        "        best_individualized_model = fitmodel\n",
        "        print(best_likelihood)"
      ],
      "execution_count": 18,
      "outputs": [
        {
          "output_type": "stream",
          "text": [
            "[-5238.89379614]\n",
            "[-5233.78716633]\n",
            "[-5233.37655715]\n"
          ],
          "name": "stdout"
        }
      ]
    },
    {
      "cell_type": "code",
      "metadata": {
        "id": "oP_K9JiKKeUE",
        "colab_type": "code",
        "outputId": "8466af7b-9967-445f-d6b6-f3dceff2be52",
        "colab": {
          "base_uri": "https://localhost:8080/",
          "height": 34
        }
      },
      "source": [
        "best_individualized_model['learns'].mean()"
      ],
      "execution_count": 19,
      "outputs": [
        {
          "output_type": "execute_result",
          "data": {
            "text/plain": [
              "0.5768603337774414"
            ]
          },
          "metadata": {
            "tags": []
          },
          "execution_count": 19
        }
      ]
    },
    {
      "cell_type": "code",
      "metadata": {
        "id": "v8CLOaNQZqXf",
        "colab_type": "code",
        "outputId": "d2c854ff-c567-45cf-febf-42b3fde912a6",
        "colab": {
          "base_uri": "https://localhost:8080/",
          "height": 34
        }
      },
      "source": [
        "best_individualized_model['learns'].std()"
      ],
      "execution_count": 20,
      "outputs": [
        {
          "output_type": "execute_result",
          "data": {
            "text/plain": [
              "0.3976334519754528"
            ]
          },
          "metadata": {
            "tags": []
          },
          "execution_count": 20
        }
      ]
    },
    {
      "cell_type": "code",
      "metadata": {
        "id": "4HyPbZJ2Z-O0",
        "colab_type": "code",
        "outputId": "bb4c7c0d-20df-444a-cbd3-d02a88688daa",
        "colab": {
          "base_uri": "https://localhost:8080/",
          "height": 265
        }
      },
      "source": [
        "sns.distplot(best_individualized_model['learns'], bins=20, kde=False);"
      ],
      "execution_count": 21,
      "outputs": [
        {
          "output_type": "display_data",
          "data": {
            "image/png": "[encoded data removed]",
            "text/plain": [
              "<Figure size 432x288 with 1 Axes>"
            ]
          },
          "metadata": {
            "tags": []
          }
        }
      ]
    },
    {
      "cell_type": "code",
      "metadata": {
        "id": "m9W_cd6AaBxN",
        "colab_type": "code",
        "colab": {}
      },
      "source": [
        ""
      ],
      "execution_count": 0,
      "outputs": []
    },
    {
      "cell_type": "markdown",
      "metadata": {
        "id": "NKn6CY6ikgGZ",
        "colab_type": "text"
      },
      "source": [
        "# Extra Credit #2 BKT Accuracy of your predictions"
      ]
    },
    {
      "cell_type": "code",
      "metadata": {
        "id": "dpI693wGmZTt",
        "colab_type": "code",
        "colab": {}
      },
      "source": [
        "def assistments_data_v2(dataset, skill_name):\n",
        "  \n",
        "  import pandas as pd\n",
        "  import numpy as np\n",
        "  import io\n",
        "  import requests\n",
        "  \n",
        "  print(skill_name)\n",
        "  #url = \"https://drive.google.com/uc?export=download&id=0B3f_gAH-MpBmUmNJQ3RycGpJM0k\"\n",
        "  #s = requests.get(url).content\n",
        "  # df = pd.read_csv(io.BytesIO(s))\n",
        "  #df = pd.read_csv(io.StringIO(s.decode('latin')))\n",
        "  # df = pd.read_csv(io.StringIO(s.decode('latin')), names = ['order_id', 'assignment_id', 'user_id', 'assistment_id', 'problem_id', 'original', 'correct', 'attempt_count', 'ms_first_response', 'tutor_mode', 'answer_type', 'sequence_id', 'student_class_id', 'position', 'type', 'base_sequence_id', 'skill_id', 'skill_name', 'teacher_id', 'school_id', 'hint_count', 'hint_total', 'overlap_time', 'template_id', 'answer_id', 'answer_text', 'first_action', 'bottom_hint', 'opportunity', 'opportunity_original'])\n",
        "  # filter by the skill you want, make sure the question is an 'original'\n",
        "  # skills = df[\"skill_name\"]\n",
        "  # for skill_name in skills:\n",
        "  skill = dataset[(dataset[\"skill_name\"]==skill_name)]\n",
        "  # sort by the order in which the problems were answered\n",
        "  dataset[\"order_id\"] = [int(i) for i in dataset[\"order_id\"]]\n",
        "  dataset.sort_values(\"order_id\", inplace=True)\n",
        "  \n",
        "  # example of how to get the unique users\n",
        "  # uilist=skill['user_id'].unique()\n",
        "\n",
        "  # convert from 0=incorrect,1=correct to 1=incorrect,2=correct\n",
        "  skill.loc[:,\"correct\"]+=1\n",
        "  \n",
        "  # filter out garbage\n",
        "  df3=skill[skill[\"correct\"]!=3]\n",
        "  data=df3[\"correct\"].values\n",
        "  \n",
        "  # find out how many problems per user, form the start/length arrays\n",
        "  steps=df3.groupby(\"user_id\")[\"problem_id\"].count().values\n",
        "  lengths=np.copy(steps)\n",
        "  # print(\"steps\", steps)\n",
        "  steps[0]=0\n",
        "  steps[1]=1\n",
        "  for i in range(2,steps.size):\n",
        "    steps[i]=steps[i-1]+lengths[i-2]\n",
        "  \n",
        "  starts=np.delete(steps,0)\n",
        "\n",
        "  resources=[1]*data.size\n",
        "  resource=np.asarray(resources)\n",
        "  \n",
        "  stateseqs=np.copy(resource)\n",
        "  lengths=np.resize(lengths,lengths.size-1)\n",
        "  Data={}\n",
        "  Data[\"stateseqs\"]=np.asarray([stateseqs],dtype='int32')\n",
        "  Data[\"data\"]=np.asarray([data],dtype='int32')\n",
        "  Data[\"starts\"]=np.asarray(starts)\n",
        "  Data[\"lengths\"]=np.asarray(lengths)\n",
        "  Data[\"resources\"]=resource\n",
        "  \n",
        "  return (Data)"
      ],
      "execution_count": 0,
      "outputs": []
    },
    {
      "cell_type": "code",
      "metadata": {
        "id": "9PUMdeUUmpEd",
        "colab_type": "code",
        "colab": {
          "base_uri": "https://localhost:8080/",
          "height": 68
        },
        "outputId": "09d58667-b469-44c2-bf8d-439658d592a9"
      },
      "source": [
        "filepath='https://drive.google.com/uc?export=download&id=0B3f_gAH-MpBmUmNJQ3RycGpJM0k'\n",
        "df = pd.read_csv(filepath,encoding='ISO-8859-1')\n",
        "df_2=df[df[\"original\"] == 1]\n",
        "train,test= train_test_split(df_2, test_size=0.5, random_state=42)\n",
        "print(len(test), len(test))"
      ],
      "execution_count": 59,
      "outputs": [
        {
          "output_type": "stream",
          "text": [
            "/usr/local/lib/python3.6/dist-packages/IPython/core/interactiveshell.py:2718: DtypeWarning: Columns (17) have mixed types. Specify dtype option on import or set low_memory=False.\n",
            "  interactivity=interactivity, compiler=compiler, result=result)\n"
          ],
          "name": "stderr"
        },
        {
          "output_type": "stream",
          "text": [
            "164146 164146\n"
          ],
          "name": "stdout"
        }
      ]
    },
    {
      "cell_type": "code",
      "metadata": {
        "id": "DWbPy4-9nJnI",
        "colab_type": "code",
        "colab": {
          "base_uri": "https://localhost:8080/",
          "height": 340
        },
        "outputId": "200461d1-a684-4693-c17c-7c99224dea50"
      },
      "source": [
        "equ_train = assistments_data_v2(train,'Equation Solving Two or Fewer Steps')\n",
        "equ_test = assistments_data_v2(test,'Equation Solving Two or Fewer Steps')\n",
        "print(len(equ_train['data'][0]),\"\\n\",len(equ_train['data'][0]))"
      ],
      "execution_count": 60,
      "outputs": [
        {
          "output_type": "stream",
          "text": [
            "Equation Solving Two or Fewer Steps\n",
            "Equation Solving Two or Fewer Steps\n"
          ],
          "name": "stdout"
        },
        {
          "output_type": "stream",
          "text": [
            "/usr/local/lib/python3.6/dist-packages/ipykernel_launcher.py:19: SettingWithCopyWarning: \n",
            "A value is trying to be set on a copy of a slice from a DataFrame.\n",
            "Try using .loc[row_indexer,col_indexer] = value instead\n",
            "\n",
            "See the caveats in the documentation: http://pandas.pydata.org/pandas-docs/stable/user_guide/indexing.html#returning-a-view-versus-a-copy\n",
            "/usr/local/lib/python3.6/dist-packages/ipykernel_launcher.py:20: SettingWithCopyWarning: \n",
            "A value is trying to be set on a copy of a slice from a DataFrame\n",
            "\n",
            "See the caveats in the documentation: http://pandas.pydata.org/pandas-docs/stable/user_guide/indexing.html#returning-a-view-versus-a-copy\n",
            "/usr/local/lib/python3.6/dist-packages/pandas/core/indexing.py:494: SettingWithCopyWarning: \n",
            "A value is trying to be set on a copy of a slice from a DataFrame.\n",
            "Try using .loc[row_indexer,col_indexer] = value instead\n",
            "\n",
            "See the caveats in the documentation: http://pandas.pydata.org/pandas-docs/stable/user_guide/indexing.html#returning-a-view-versus-a-copy\n",
            "  self.obj[item] = s\n"
          ],
          "name": "stderr"
        },
        {
          "output_type": "stream",
          "text": [
            "8760 \n",
            " 8760\n"
          ],
          "name": "stdout"
        }
      ]
    },
    {
      "cell_type": "code",
      "metadata": {
        "id": "BzEivMyJnXf8",
        "colab_type": "code",
        "colab": {
          "base_uri": "https://localhost:8080/",
          "height": 221
        },
        "outputId": "6ec6263f-aa8e-456f-db0e-a39728d52c2e"
      },
      "source": [
        "fitmodel = random_model_uni.random_model_uni(1,1)\n",
        "(fitmodel_train, log_likelihoods_train) = EM_fit.EM_fit(fitmodel, equ_train)\n",
        "print(fitmodel_train,log_likelihoods_train[1:10])"
      ],
      "execution_count": 61,
      "outputs": [
        {
          "output_type": "stream",
          "text": [
            "{'prior': 0.8998947818273049, 'learns': array([0.29264947]), 'forgets': array([0.]), 'guesses': array([0.59044483]), 'slips': array([0.35300591]), 'As': array([[[0.70735053, 0.        ],\n",
            "        [0.29264947, 1.        ]]]), 'emissions': array([[[0.40955517, 0.59044483],\n",
            "        [0.35300591, 0.64699409]]]), 'pi_0': array([[0.10010522],\n",
            "       [0.89989478]])} [[-5689.5853521 ]\n",
            " [-5684.37037221]\n",
            " [-5682.36827561]\n",
            " [-5681.36658002]\n",
            " [-5680.78353499]\n",
            " [-5680.40944962]\n",
            " [-5680.15269756]\n",
            " [-5679.96760685]\n",
            " [-5679.82912409]]\n"
          ],
          "name": "stdout"
        }
      ]
    },
    {
      "cell_type": "code",
      "metadata": {
        "id": "PDzV_EL3pBd1",
        "colab_type": "code",
        "colab": {}
      },
      "source": [
        "pred = predict_onestep.run(fitmodel_train,equ_test)"
      ],
      "execution_count": 0,
      "outputs": []
    },
    {
      "cell_type": "code",
      "metadata": {
        "id": "9k4w6d2ppIjb",
        "colab_type": "code",
        "colab": {
          "base_uri": "https://localhost:8080/",
          "height": 221
        },
        "outputId": "6d86bfe8-9c83-4f6d-d802-45b3fd5f6316"
      },
      "source": [
        "pred_1 = pd.core.series.Series(pred[0]).apply(lambda x : 1 if ( x >= 0.5) else 0)+1\n",
        "pred_1"
      ],
      "execution_count": 63,
      "outputs": [
        {
          "output_type": "execute_result",
          "data": {
            "text/plain": [
              "0       2\n",
              "1       2\n",
              "2       2\n",
              "3       2\n",
              "4       2\n",
              "       ..\n",
              "8546    1\n",
              "8547    2\n",
              "8548    1\n",
              "8549    2\n",
              "8550    1\n",
              "Length: 8551, dtype: int64"
            ]
          },
          "metadata": {
            "tags": []
          },
          "execution_count": 63
        }
      ]
    },
    {
      "cell_type": "code",
      "metadata": {
        "id": "65qYDfyTpLko",
        "colab_type": "code",
        "colab": {
          "base_uri": "https://localhost:8080/",
          "height": 34
        },
        "outputId": "fd8218c4-b028-47a3-ff7f-672e6d7be867"
      },
      "source": [
        "accuracy_score(pred_1,equ_test['data'][0])"
      ],
      "execution_count": 64,
      "outputs": [
        {
          "output_type": "execute_result",
          "data": {
            "text/plain": [
              "0.6455385335048532"
            ]
          },
          "metadata": {
            "tags": []
          },
          "execution_count": 64
        }
      ]
    },
    {
      "cell_type": "markdown",
      "metadata": {
        "id": "edAc7JM8pjw_",
        "colab_type": "text"
      },
      "source": [
        "If I use a student hold-out strategy with BKT to choose 50% of students in \"Equation Solving Two or Fewer Steps\" to train the model and then the other 50% of students to predict using pyBKT's fit.predict_onestep, The Accuracy of your predictions is 64.5%"
      ]
    }
  ]
}